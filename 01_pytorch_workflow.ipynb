{
  "nbformat": 4,
  "nbformat_minor": 0,
  "metadata": {
    "colab": {
      "provenance": [],
      "authorship_tag": "ABX9TyO+v7mblXVggcuxx/spYrQg",
      "include_colab_link": true
    },
    "kernelspec": {
      "name": "python3",
      "display_name": "Python 3"
    },
    "language_info": {
      "name": "python"
    }
  },
  "cells": [
    {
      "cell_type": "markdown",
      "metadata": {
        "id": "view-in-github",
        "colab_type": "text"
      },
      "source": [
        "<a href=\"https://colab.research.google.com/github/Asmit-Dhakal/Deep_learning/blob/main/01_pytorch_workflow.ipynb\" target=\"_parent\"><img src=\"https://colab.research.google.com/assets/colab-badge.svg\" alt=\"Open In Colab\"/></a>"
      ]
    },
    {
      "cell_type": "markdown",
      "source": [
        "# **# Pytorch Work-flow**"
      ],
      "metadata": {
        "id": "4TM5MGHiC4Nz"
      }
    },
    {
      "cell_type": "code",
      "source": [
        "topics={\n",
        "    1:\"data(prepare and load)\",\n",
        "    2: \"build model\",\n",
        "    3: \"fitting the model to the data(training)\",\n",
        "    4: \"making prediciton and evaluating a model\",\n",
        "    5: \"saving and loading model\",\n",
        "    6: \"conclusion\"\n",
        "}"
      ],
      "metadata": {
        "id": "hxySa6B7DY_8"
      },
      "execution_count": 1,
      "outputs": []
    },
    {
      "cell_type": "code",
      "source": [
        "topics"
      ],
      "metadata": {
        "colab": {
          "base_uri": "https://localhost:8080/"
        },
        "id": "26FGHuLQKmrE",
        "outputId": "a49caf59-6ba6-48fc-cdb4-c6159ab062ed"
      },
      "execution_count": 2,
      "outputs": [
        {
          "output_type": "execute_result",
          "data": {
            "text/plain": [
              "{1: 'data(prepare and load)',\n",
              " 2: 'build model',\n",
              " 3: 'fitting the model to the data(training)',\n",
              " 4: 'making prediciton and evaluating a model',\n",
              " 5: 'saving and loading model',\n",
              " 6: 'conclusion'}"
            ]
          },
          "metadata": {},
          "execution_count": 2
        }
      ]
    },
    {
      "cell_type": "code",
      "source": [
        "import torch\n",
        "from torch import nn # nn contain all building block for neural network\n",
        "import matplotlib.pyplot as plt\n",
        "\n",
        "# Check pytorch version\n",
        "torch.__version__\n",
        "\n"
      ],
      "metadata": {
        "colab": {
          "base_uri": "https://localhost:8080/",
          "height": 36
        },
        "id": "xxLnxngoKnt3",
        "outputId": "f232b0e3-7c15-46c5-e904-fbdd1e47abec"
      },
      "execution_count": 3,
      "outputs": [
        {
          "output_type": "execute_result",
          "data": {
            "text/plain": [
              "'2.2.1+cu121'"
            ],
            "application/vnd.google.colaboratory.intrinsic+json": {
              "type": "string"
            }
          },
          "metadata": {},
          "execution_count": 3
        }
      ]
    },
    {
      "cell_type": "markdown",
      "source": [
        "Machine learning has tow parts:\n",
        "1. Get data into a numerical representation\n",
        "2. Build a model to learn patterns in that numerical representation"
      ],
      "metadata": {
        "id": "IdQ0ZFdZLqfX"
      }
    },
    {
      "cell_type": "code",
      "source": [
        "# let us use linear regression formula and nake straight line\n",
        "\n",
        "## Create *known* parameters\n",
        "weight=0.7\n",
        "bias=0.3\n",
        "\n",
        "# Create\n",
        "start = 0\n",
        "end =1\n",
        "step =0.02\n",
        "X = torch.arange(start,end,step).unsqueeze(dim=1)\n",
        "y=weight*X + bias\n",
        "X[:10], y[:10]\n",
        "\n"
      ],
      "metadata": {
        "colab": {
          "base_uri": "https://localhost:8080/"
        },
        "id": "nRLAfmqGLS5t",
        "outputId": "4481d63d-753c-45e8-dfe7-3a99c5077b40"
      },
      "execution_count": 4,
      "outputs": [
        {
          "output_type": "execute_result",
          "data": {
            "text/plain": [
              "(tensor([[0.0000],\n",
              "         [0.0200],\n",
              "         [0.0400],\n",
              "         [0.0600],\n",
              "         [0.0800],\n",
              "         [0.1000],\n",
              "         [0.1200],\n",
              "         [0.1400],\n",
              "         [0.1600],\n",
              "         [0.1800]]),\n",
              " tensor([[0.3000],\n",
              "         [0.3140],\n",
              "         [0.3280],\n",
              "         [0.3420],\n",
              "         [0.3560],\n",
              "         [0.3700],\n",
              "         [0.3840],\n",
              "         [0.3980],\n",
              "         [0.4120],\n",
              "         [0.4260]]))"
            ]
          },
          "metadata": {},
          "execution_count": 4
        }
      ]
    },
    {
      "cell_type": "code",
      "source": [
        "len(X) ,len(y)"
      ],
      "metadata": {
        "colab": {
          "base_uri": "https://localhost:8080/"
        },
        "id": "Nm7t72M1S6dh",
        "outputId": "3f677c6c-fd98-431b-ca86-e35b7e7fae48"
      },
      "execution_count": 5,
      "outputs": [
        {
          "output_type": "execute_result",
          "data": {
            "text/plain": [
              "(50, 50)"
            ]
          },
          "metadata": {},
          "execution_count": 5
        }
      ]
    },
    {
      "cell_type": "code",
      "source": [
        "\n",
        "# Spliting data into traing and test set .(one of the most important concepts in machine learning in general)\n",
        "# Create a train /test split\n",
        "train_split= int(0.8*len(X))\n",
        "X_train,y_train =X[:train_split],y[:train_split]\n",
        "X_test,y_test=X[train_split:], y[train_split:]\n",
        "\n",
        "len(X_train) , len(y_train), len(X_test),  len(y_test)"
      ],
      "metadata": {
        "id": "RZwQ7p8kTF80",
        "colab": {
          "base_uri": "https://localhost:8080/"
        },
        "cellView": "code",
        "outputId": "be133995-f2ae-49ec-8cae-5cec668a0261"
      },
      "execution_count": 6,
      "outputs": [
        {
          "output_type": "execute_result",
          "data": {
            "text/plain": [
              "(40, 40, 10, 10)"
            ]
          },
          "metadata": {},
          "execution_count": 6
        }
      ]
    },
    {
      "cell_type": "markdown",
      "source": [
        "Visualize our Data\n"
      ],
      "metadata": {
        "id": "SGcAfe0jAwh4"
      }
    },
    {
      "cell_type": "code",
      "source": [
        "def plot_prediction(\n",
        "    train_data =X_train,\n",
        "    train_labels=y_train,\n",
        "    test_data=X_test,\n",
        "    test_labels=y_test,\n",
        "    predictions=None):\n",
        "  \"\"\"\n",
        "  Plots training data, test data and compare predicitons.\n",
        "\n",
        "  \"\"\"\n",
        "  plt.figure(figsize=(10,7))\n",
        "\n",
        "  # Plot training data in blue\n",
        "  plt.scatter(train_data,train_labels, c=\"b\",s=4, label=\"Training data\")\n",
        "\n",
        "\n",
        "  # Plot testing data in green\n",
        "  plt.scatter(test_data,test_labels, c=\"g\",s=4, label=\"Testing data\")\n",
        "  # Are there any predicitons\n",
        "  if predictions is not None:\n",
        "    # Plot the prediciton if they exist\n",
        "    plt.scatter(test_data,predictions,c=\"r\", s=4, label=\"Predicitions\")\n",
        "\n",
        "  # Show the legend\n",
        "  plt.legend(prop={\"size\":14});"
      ],
      "metadata": {
        "id": "3lOs5rTsAYP3"
      },
      "execution_count": 29,
      "outputs": []
    },
    {
      "cell_type": "code",
      "source": [
        "plot_prediction();"
      ],
      "metadata": {
        "colab": {
          "base_uri": "https://localhost:8080/",
          "height": 599
        },
        "id": "mVwRN8ozB-U-",
        "outputId": "2de4beec-3cef-4e35-fbb8-25946309c8b0"
      },
      "execution_count": 8,
      "outputs": [
        {
          "output_type": "display_data",
          "data": {
            "text/plain": [
              "<Figure size 1000x700 with 1 Axes>"
            ],
            "image/png": "[encoded data removed]"
          },
          "metadata": {}
        }
      ]
    },
    {
      "cell_type": "markdown",
      "source": [
        " # 2.Building pytorch model\n",
        "  Our model works as:\n",
        "\n",
        "  * Start with random values (weight @ bias)\n",
        "  * Look at the training and adjust the random values to better represent (or get closer to ) the ideal values (the weight & bias values we used to create the data)\n",
        "\n",
        "  How does it do so ?\n",
        "\n",
        "  Through two algorithm\n",
        "  1. Gradient descent\n",
        "  2. Backpropogration  "
      ],
      "metadata": {
        "id": "HRQAdvgoEn4a"
      }
    },
    {
      "cell_type": "code",
      "source": [
        "from torch import nn\n",
        "\n",
        "# Create linear regression model class\n",
        "class LinearRegressionModel(nn.Module): # <-almost everything in pytorch extract\n",
        "  def __init__(self):\n",
        "    super().__init__()\n",
        "    self.weights=nn.Parameter(torch.randn(1,requires_grad=True, dtype=torch.float))\n",
        "    self.bias=nn.Parameter(torch.randn(1,requires_grad =True, ))\n",
        "\n",
        "  # Forward methods to define the computations in the model\n",
        "  def forward(self, x:torch.Tensor) ->torch.Tensor: # <- \"x\" is the input data\n",
        "      return self.weights*x + self.bias # this is the formula of linear regression\n",
        "\n",
        "\n",
        "\n",
        "\n"
      ],
      "metadata": {
        "id": "zA1mqkpyDyqp"
      },
      "execution_count": 9,
      "outputs": []
    },
    {
      "cell_type": "markdown",
      "source": [
        "## PyTorch model building essentials\n",
        "\n",
        "* torch.nn - contains all of the buildings for computational graphs ( a neural network)\n",
        "* torch.nn.parameter -what model should try and learn\n",
        "* torch.nn.Module - THe base class for all neural network modules, if you subclass it, you should overwrite forward()\n",
        "* torch.optim - this whrere the optimizers in pytorch live, they will help in gradient descent\n",
        "* def forward() - all nn.Module subclasses requires you to overwrite forward (), this method defines what happens in the forward computation\n"
      ],
      "metadata": {
        "id": "w9w970hFmmtH"
      }
    },
    {
      "cell_type": "code",
      "source": [
        "# Create a random seed\n",
        "torch.manual_seed(42)\n",
        "\n",
        "# Create an instance of the model (this is a subclass of nn.module)\n",
        "model_0= LinearRegressionModel()\n",
        "model_0\n",
        "\n",
        "# Check out parameters\n",
        "list(model_0.parameters())\n"
      ],
      "metadata": {
        "colab": {
          "base_uri": "https://localhost:8080/"
        },
        "id": "-4Qh7cP6FZki",
        "outputId": "ad1c06ba-32b5-41a5-d83e-d937daef5b49"
      },
      "execution_count": 10,
      "outputs": [
        {
          "output_type": "execute_result",
          "data": {
            "text/plain": [
              "[Parameter containing:\n",
              " tensor([0.3367], requires_grad=True),\n",
              " Parameter containing:\n",
              " tensor([0.1288], requires_grad=True)]"
            ]
          },
          "metadata": {},
          "execution_count": 10
        }
      ]
    },
    {
      "cell_type": "code",
      "source": [
        "# list named parameters\n",
        "model_0.state_dict()"
      ],
      "metadata": {
        "id": "8etf8dCfn-Q9",
        "colab": {
          "base_uri": "https://localhost:8080/"
        },
        "outputId": "eb366baf-9537-4ecc-8f3f-6677625cdde3"
      },
      "execution_count": 11,
      "outputs": [
        {
          "output_type": "execute_result",
          "data": {
            "text/plain": [
              "OrderedDict([('weights', tensor([0.3367])), ('bias', tensor([0.1288]))])"
            ]
          },
          "metadata": {},
          "execution_count": 11
        }
      ]
    },
    {
      "cell_type": "code",
      "source": [
        "weight, bias"
      ],
      "metadata": {
        "colab": {
          "base_uri": "https://localhost:8080/"
        },
        "id": "lo_FimCv3Zqu",
        "outputId": "33d9b65a-e05e-4c2e-d38d-16c1deedd9ee"
      },
      "execution_count": 12,
      "outputs": [
        {
          "output_type": "execute_result",
          "data": {
            "text/plain": [
              "(0.7, 0.3)"
            ]
          },
          "metadata": {},
          "execution_count": 12
        }
      ]
    },
    {
      "cell_type": "markdown",
      "source": [
        "### Make predicition using `torch.inference_mode()`\n",
        " To check our models predicitve power, lets see how well it predicts `y_test` based on `x_test`\n",
        "\n",
        "WHen we pass data through our model, its going to run it through the forward() methods."
      ],
      "metadata": {
        "id": "jvFhKQXa35G7"
      }
    },
    {
      "cell_type": "code",
      "source": [
        "# Make predicition with model\n",
        "with torch.inference_mode():\n",
        "   y_preds=model_0(X_test)\n",
        "\n",
        "y_preds"
      ],
      "metadata": {
        "colab": {
          "base_uri": "https://localhost:8080/"
        },
        "id": "g1oOMoaw3ee9",
        "outputId": "7242f32f-5a5c-4c08-b298-ec42c68b8ca6"
      },
      "execution_count": 18,
      "outputs": [
        {
          "output_type": "execute_result",
          "data": {
            "text/plain": [
              "tensor([[0.3982],\n",
              "        [0.4049],\n",
              "        [0.4116],\n",
              "        [0.4184],\n",
              "        [0.4251],\n",
              "        [0.4318],\n",
              "        [0.4386],\n",
              "        [0.4453],\n",
              "        [0.4520],\n",
              "        [0.4588]])"
            ]
          },
          "metadata": {},
          "execution_count": 18
        }
      ]
    },
    {
      "cell_type": "code",
      "source": [
        "plot_prediction(predictions=y_preds)"
      ],
      "metadata": {
        "id": "6utIE4pL4ybL",
        "colab": {
          "base_uri": "https://localhost:8080/",
          "height": 599
        },
        "outputId": "c781f48b-9581-40d6-907b-30486d1d3c42"
      },
      "execution_count": 30,
      "outputs": [
        {
          "output_type": "display_data",
          "data": {
            "text/plain": [
              "<Figure size 1000x700 with 1 Axes>"
            ],
            "image/png": "[encoded data removed]"
          },
          "metadata": {}
        }
      ]
    },
    {
      "cell_type": "code",
      "source": [],
      "metadata": {
        "id": "P7CagvwI0xH3"
      },
      "execution_count": null,
      "outputs": []
    }
  ]
}