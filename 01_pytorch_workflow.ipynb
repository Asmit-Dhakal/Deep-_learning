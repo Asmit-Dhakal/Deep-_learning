{
  "nbformat": 4,
  "nbformat_minor": 0,
  "metadata": {
    "colab": {
      "provenance": [],
      "authorship_tag": "ABX9TyNECter/0GVJOTWOit0fNst"
    },
    "kernelspec": {
      "name": "python3",
      "display_name": "Python 3"
    },
    "language_info": {
      "name": "python"
    }
  },
  "cells": [
    {
      "cell_type": "markdown",
      "source": [
        "# **# Pytorch Work-flow**"
      ],
      "metadata": {
        "id": "4TM5MGHiC4Nz"
      }
    },
    {
      "cell_type": "code",
      "source": [
        "topics={\n",
        "    1:\"data(prepare and load)\",\n",
        "    2: \"build model\",\n",
        "    3: \"fitting the model to the data(training)\",\n",
        "    4: \"making prediciton and evaluating a model\",\n",
        "    5: \"saving and loading model\",\n",
        "    6: \"conclusion\"\n",
        "}"
      ],
      "metadata": {
        "id": "hxySa6B7DY_8"
      },
      "execution_count": 2,
      "outputs": []
    },
    {
      "cell_type": "code",
      "source": [
        "topics"
      ],
      "metadata": {
        "colab": {
          "base_uri": "https://localhost:8080/"
        },
        "id": "26FGHuLQKmrE",
        "outputId": "fdf4af4e-3edf-445a-85d1-718763505f57"
      },
      "execution_count": 3,
      "outputs": [
        {
          "output_type": "execute_result",
          "data": {
            "text/plain": [
              "{1: 'data(prepare and load)',\n",
              " 2: 'build model',\n",
              " 3: 'fitting the model to the data(training)',\n",
              " 4: 'making prediciton and evaluating a model',\n",
              " 5: 'saving and loading model',\n",
              " 6: 'conclusion'}"
            ]
          },
          "metadata": {},
          "execution_count": 3
        }
      ]
    },
    {
      "cell_type": "code",
      "source": [
        "import torch\n",
        "from torch import nn # nn contain all building block for neural network\n",
        "import matplotlib.pyplot as plt\n",
        "\n",
        "# Check pytorch version\n",
        "torch.__version__\n",
        "\n"
      ],
      "metadata": {
        "colab": {
          "base_uri": "https://localhost:8080/",
          "height": 36
        },
        "id": "xxLnxngoKnt3",
        "outputId": "f54b9b8c-c5e5-4e25-b7e6-b59585b968d0"
      },
      "execution_count": 5,
      "outputs": [
        {
          "output_type": "execute_result",
          "data": {
            "text/plain": [
              "'2.2.1+cu121'"
            ],
            "application/vnd.google.colaboratory.intrinsic+json": {
              "type": "string"
            }
          },
          "metadata": {},
          "execution_count": 5
        }
      ]
    },
    {
      "cell_type": "markdown",
      "source": [
        "Machine learning has tow parts:\n",
        "1. Get data into a numerical representation\n",
        "2. Build a model to learn patterns in that numerical representation"
      ],
      "metadata": {
        "id": "IdQ0ZFdZLqfX"
      }
    },
    {
      "cell_type": "code",
      "source": [
        "# let us use linear regression formula and nake straight line\n",
        "\n",
        "## Create *known* parameters\n",
        "weight=0.7\n",
        "bias=0.3\n",
        "\n",
        "# Create\n",
        "start = 0\n",
        "end =1\n",
        "step =0.02\n",
        "X = torch.arange(start,end,step).unsqueeze(dim=1)\n",
        "y=weight*X + bias\n",
        "X[:10], y[:10]\n",
        "\n"
      ],
      "metadata": {
        "colab": {
          "base_uri": "https://localhost:8080/"
        },
        "id": "nRLAfmqGLS5t",
        "outputId": "9b6b7eb1-a76b-49fb-c82a-64c52f8bf1d3"
      },
      "execution_count": 8,
      "outputs": [
        {
          "output_type": "execute_result",
          "data": {
            "text/plain": [
              "(tensor([[0.0000],\n",
              "         [0.0200],\n",
              "         [0.0400],\n",
              "         [0.0600],\n",
              "         [0.0800],\n",
              "         [0.1000],\n",
              "         [0.1200],\n",
              "         [0.1400],\n",
              "         [0.1600],\n",
              "         [0.1800]]),\n",
              " tensor([[0.3000],\n",
              "         [0.3140],\n",
              "         [0.3280],\n",
              "         [0.3420],\n",
              "         [0.3560],\n",
              "         [0.3700],\n",
              "         [0.3840],\n",
              "         [0.3980],\n",
              "         [0.4120],\n",
              "         [0.4260]]))"
            ]
          },
          "metadata": {},
          "execution_count": 8
        }
      ]
    },
    {
      "cell_type": "code",
      "source": [
        "len(X) ,len(y)"
      ],
      "metadata": {
        "colab": {
          "base_uri": "https://localhost:8080/"
        },
        "id": "Nm7t72M1S6dh",
        "outputId": "3fa38b57-459e-4a80-c0e0-4c532ed4af75"
      },
      "execution_count": 9,
      "outputs": [
        {
          "output_type": "execute_result",
          "data": {
            "text/plain": [
              "(50, 50)"
            ]
          },
          "metadata": {},
          "execution_count": 9
        }
      ]
    },
    {
      "cell_type": "code",
      "source": [],
      "metadata": {
        "id": "RZwQ7p8kTF80"
      },
      "execution_count": null,
      "outputs": []
    }
  ]
}