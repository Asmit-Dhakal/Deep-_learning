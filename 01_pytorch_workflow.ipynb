{
  "nbformat": 4,
  "nbformat_minor": 0,
  "metadata": {
    "colab": {
      "provenance": [],
      "authorship_tag": "ABX9TyNB+/X9UIiNHClYzYawnLj9",
      "include_colab_link": true
    },
    "kernelspec": {
      "name": "python3",
      "display_name": "Python 3"
    },
    "language_info": {
      "name": "python"
    }
  },
  "cells": [
    {
      "cell_type": "markdown",
      "metadata": {
        "id": "view-in-github",
        "colab_type": "text"
      },
      "source": [
        "<a href=\"https://colab.research.google.com/github/Asmit-Dhakal/Deep_learning/blob/main/01_pytorch_workflow.ipynb\" target=\"_parent\"><img src=\"https://colab.research.google.com/assets/colab-badge.svg\" alt=\"Open In Colab\"/></a>"
      ]
    },
    {
      "cell_type": "markdown",
      "source": [
        "# **# Pytorch Work-flow**"
      ],
      "metadata": {
        "id": "4TM5MGHiC4Nz"
      }
    },
    {
      "cell_type": "code",
      "source": [
        "topics={\n",
        "    1:\"data(prepare and load)\",\n",
        "    2: \"build model\",\n",
        "    3: \"fitting the model to the data(training)\",\n",
        "    4: \"making prediciton and evaluating a model\",\n",
        "    5: \"saving and loading model\",\n",
        "    6: \"conclusion\"\n",
        "}"
      ],
      "metadata": {
        "id": "hxySa6B7DY_8"
      },
      "execution_count": 2,
      "outputs": []
    },
    {
      "cell_type": "code",
      "source": [
        "topics"
      ],
      "metadata": {
        "colab": {
          "base_uri": "https://localhost:8080/"
        },
        "id": "26FGHuLQKmrE",
        "outputId": "fdf4af4e-3edf-445a-85d1-718763505f57"
      },
      "execution_count": 3,
      "outputs": [
        {
          "output_type": "execute_result",
          "data": {
            "text/plain": [
              "{1: 'data(prepare and load)',\n",
              " 2: 'build model',\n",
              " 3: 'fitting the model to the data(training)',\n",
              " 4: 'making prediciton and evaluating a model',\n",
              " 5: 'saving and loading model',\n",
              " 6: 'conclusion'}"
            ]
          },
          "metadata": {},
          "execution_count": 3
        }
      ]
    },
    {
      "cell_type": "code",
      "source": [
        "import torch\n",
        "from torch import nn # nn contain all building block for neural network\n",
        "import matplotlib.pyplot as plt\n",
        "\n",
        "# Check pytorch version\n",
        "torch.__version__\n",
        "\n"
      ],
      "metadata": {
        "colab": {
          "base_uri": "https://localhost:8080/",
          "height": 36
        },
        "id": "xxLnxngoKnt3",
        "outputId": "f54b9b8c-c5e5-4e25-b7e6-b59585b968d0"
      },
      "execution_count": 5,
      "outputs": [
        {
          "output_type": "execute_result",
          "data": {
            "text/plain": [
              "'2.2.1+cu121'"
            ],
            "application/vnd.google.colaboratory.intrinsic+json": {
              "type": "string"
            }
          },
          "metadata": {},
          "execution_count": 5
        }
      ]
    },
    {
      "cell_type": "code",
      "source": [],
      "metadata": {
        "id": "nRLAfmqGLS5t"
      },
      "execution_count": null,
      "outputs": []
    }
  ]
}