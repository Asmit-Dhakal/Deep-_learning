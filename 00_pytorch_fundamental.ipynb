{
  "cells": [
    {
      "cell_type": "markdown",
      "metadata": {
        "id": "view-in-github",
        "colab_type": "text"
      },
      "source": [
        "<a href=\"https://colab.research.google.com/github/Asmit-Dhakal/Deep_learning/blob/main/00_pytorch_fundamental.ipynb\" target=\"_parent\"><img src=\"https://colab.research.google.com/assets/colab-badge.svg\" alt=\"Open In Colab\"/></a>"
      ]
    },
    {
      "cell_type": "markdown",
      "metadata": {
        "id": "Rb-J8iKUNaz4"
      },
      "source": []
    },
    {
      "cell_type": "code",
      "execution_count": 92,
      "metadata": {
        "colab": {
          "base_uri": "https://localhost:8080/"
        },
        "id": "m8PXVppXItq3",
        "outputId": "7b88f91a-efe3-463b-ad00-a57df5c279af"
      },
      "outputs": [
        {
          "output_type": "stream",
          "name": "stdout",
          "text": [
            "2.2.1+cu121\n"
          ]
        }
      ],
      "source": [
        "import torch\n",
        "import pandas as pd\n",
        "import numpy as np\n",
        "import matplotlib.pyplot as plt\n",
        "print(torch.__version__)\n"
      ]
    },
    {
      "cell_type": "markdown",
      "metadata": {
        "id": "t-fYPyKmN9G6"
      },
      "source": [
        "# **Introduction to Tensors**\n",
        "Creating tensors"
      ]
    },
    {
      "cell_type": "code",
      "execution_count": 93,
      "metadata": {
        "colab": {
          "base_uri": "https://localhost:8080/"
        },
        "id": "4Fw1FGKVNtXD",
        "outputId": "58130dd6-87f5-43dc-e2d7-84f72a825016"
      },
      "outputs": [
        {
          "output_type": "execute_result",
          "data": {
            "text/plain": [
              "tensor(7)"
            ]
          },
          "metadata": {},
          "execution_count": 93
        }
      ],
      "source": [
        "# scalar\n",
        "scalar = torch.tensor(7)\n",
        "scalar\n"
      ]
    },
    {
      "cell_type": "code",
      "execution_count": 94,
      "metadata": {
        "colab": {
          "base_uri": "https://localhost:8080/"
        },
        "id": "vhxbni6iOXx5",
        "outputId": "294b963b-52a6-4613-e03e-328e65eb8712"
      },
      "outputs": [
        {
          "output_type": "execute_result",
          "data": {
            "text/plain": [
              "0"
            ]
          },
          "metadata": {},
          "execution_count": 94
        }
      ],
      "source": [
        "# Get tensor back as python int\n",
        "scalar.ndim\n"
      ]
    },
    {
      "cell_type": "code",
      "execution_count": 95,
      "metadata": {
        "id": "CenJssISQPoj"
      },
      "outputs": [],
      "source": [
        "# Vector\n",
        "vector=torch.tensor([7,7])"
      ]
    },
    {
      "cell_type": "code",
      "execution_count": 96,
      "metadata": {
        "colab": {
          "base_uri": "https://localhost:8080/"
        },
        "id": "08GtshjmROF4",
        "outputId": "a5ebc76e-ccd1-46ab-e0d8-e25e09a64451"
      },
      "outputs": [
        {
          "output_type": "execute_result",
          "data": {
            "text/plain": [
              "tensor([7, 7])"
            ]
          },
          "metadata": {},
          "execution_count": 96
        }
      ],
      "source": [
        "vector"
      ]
    },
    {
      "cell_type": "code",
      "execution_count": 97,
      "metadata": {
        "colab": {
          "base_uri": "https://localhost:8080/"
        },
        "id": "xWa93zq_RQWT",
        "outputId": "f742d8ac-3b2f-4d03-ce88-72f93affea6b"
      },
      "outputs": [
        {
          "output_type": "execute_result",
          "data": {
            "text/plain": [
              "torch.Size([2])"
            ]
          },
          "metadata": {},
          "execution_count": 97
        }
      ],
      "source": [
        "vector.shape"
      ]
    },
    {
      "cell_type": "code",
      "execution_count": 98,
      "metadata": {
        "colab": {
          "base_uri": "https://localhost:8080/"
        },
        "id": "PddtE5J8TD-H",
        "outputId": "b7750ec4-ee83-4ad4-dcc1-1b7599b11f48"
      },
      "outputs": [
        {
          "output_type": "execute_result",
          "data": {
            "text/plain": [
              "tensor([[ 7,  8],\n",
              "        [ 9, 10]])"
            ]
          },
          "metadata": {},
          "execution_count": 98
        }
      ],
      "source": [
        " # matrix\n",
        "matrix=torch.tensor([[7,8],[9,10]])\n",
        "matrix"
      ]
    },
    {
      "cell_type": "code",
      "execution_count": 99,
      "metadata": {
        "colab": {
          "base_uri": "https://localhost:8080/"
        },
        "id": "_WCDL8_QTmlf",
        "outputId": "76cca7c4-81ff-4204-dfb8-2d8d9a23305e"
      },
      "outputs": [
        {
          "output_type": "execute_result",
          "data": {
            "text/plain": [
              "2"
            ]
          },
          "metadata": {},
          "execution_count": 99
        }
      ],
      "source": [
        "matrix.ndim"
      ]
    },
    {
      "cell_type": "code",
      "execution_count": 100,
      "metadata": {
        "colab": {
          "base_uri": "https://localhost:8080/"
        },
        "id": "EqKMhGZJU0ME",
        "outputId": "c1302fbd-a5a8-4014-d4b5-44123945a2f6"
      },
      "outputs": [
        {
          "output_type": "execute_result",
          "data": {
            "text/plain": [
              "torch.Size([2, 2])"
            ]
          },
          "metadata": {},
          "execution_count": 100
        }
      ],
      "source": [
        "matrix[1]\n",
        "matrix.shape"
      ]
    },
    {
      "cell_type": "code",
      "execution_count": 101,
      "metadata": {
        "id": "lL0ebLrdVBt6"
      },
      "outputs": [],
      "source": [
        "# Tensor\n",
        "tensor =torch.tensor([[[1,2,3],[4,5,6],[7,8,9]]])"
      ]
    },
    {
      "cell_type": "code",
      "execution_count": 102,
      "metadata": {
        "colab": {
          "base_uri": "https://localhost:8080/"
        },
        "id": "7h4aTUFeVdGx",
        "outputId": "71472ffb-5b0a-49fa-d480-5bd7cd0401ca"
      },
      "outputs": [
        {
          "output_type": "execute_result",
          "data": {
            "text/plain": [
              "tensor([[[1, 2, 3],\n",
              "         [4, 5, 6],\n",
              "         [7, 8, 9]]])"
            ]
          },
          "metadata": {},
          "execution_count": 102
        }
      ],
      "source": [
        "tensor"
      ]
    },
    {
      "cell_type": "code",
      "execution_count": 103,
      "metadata": {
        "colab": {
          "base_uri": "https://localhost:8080/"
        },
        "id": "6McB5bHBVdv5",
        "outputId": "6df8ae63-c814-4347-c9d7-a47eaff4bc98"
      },
      "outputs": [
        {
          "output_type": "execute_result",
          "data": {
            "text/plain": [
              "torch.Size([1, 3, 3])"
            ]
          },
          "metadata": {},
          "execution_count": 103
        }
      ],
      "source": [
        "tensor.ndim\n",
        "tensor.shape\n"
      ]
    },
    {
      "cell_type": "code",
      "execution_count": 104,
      "metadata": {
        "colab": {
          "base_uri": "https://localhost:8080/"
        },
        "id": "2Z43ASbTVpwi",
        "outputId": "8e271d74-17e2-435e-8168-6de9d75276b6"
      },
      "outputs": [
        {
          "output_type": "execute_result",
          "data": {
            "text/plain": [
              "tensor([[1, 2, 3],\n",
              "        [4, 5, 6],\n",
              "        [7, 8, 9]])"
            ]
          },
          "metadata": {},
          "execution_count": 104
        }
      ],
      "source": [
        "tensor[0]"
      ]
    },
    {
      "cell_type": "markdown",
      "metadata": {
        "id": "nMrjROdQtwvP"
      },
      "source": [
        "### Random tensor\n",
        "`start with random numbers-> Looks at data -> updagte random numbers -> look at data -> update random numbers `"
      ]
    },
    {
      "cell_type": "code",
      "execution_count": 105,
      "metadata": {
        "id": "-_OmYB2oWJOB"
      },
      "outputs": [],
      "source": [
        "### Random tensor of size and shape (3,4)\n",
        "\n",
        "random_tensor= torch.rand(1,3,4)\n"
      ]
    },
    {
      "cell_type": "code",
      "execution_count": 106,
      "metadata": {
        "colab": {
          "base_uri": "https://localhost:8080/"
        },
        "id": "07l0KFD2vyVC",
        "outputId": "dabf2a16-2f75-454b-cfc0-3a4ce903b27c"
      },
      "outputs": [
        {
          "output_type": "execute_result",
          "data": {
            "text/plain": [
              "tensor([[[0.3101, 0.3810, 0.8615, 0.4694],\n",
              "         [0.3488, 0.8925, 0.7125, 0.0712],\n",
              "         [0.5573, 0.3330, 0.1490, 0.4770]]])"
            ]
          },
          "metadata": {},
          "execution_count": 106
        }
      ],
      "source": [
        "random_tensor"
      ]
    },
    {
      "cell_type": "code",
      "execution_count": 107,
      "metadata": {
        "colab": {
          "base_uri": "https://localhost:8080/"
        },
        "id": "03cbWTcGv0dF",
        "outputId": "355a017a-c63d-4ba5-e8ad-83e8cf3bd85b"
      },
      "outputs": [
        {
          "output_type": "execute_result",
          "data": {
            "text/plain": [
              "3"
            ]
          },
          "metadata": {},
          "execution_count": 107
        }
      ],
      "source": [
        "random_tensor.ndim"
      ]
    },
    {
      "cell_type": "code",
      "execution_count": 108,
      "metadata": {
        "id": "1qt7xIiOwDor"
      },
      "outputs": [],
      "source": [
        "# Create random tensor with similar shape to a image tensor\n",
        "random_image_size_tensor = torch.rand(size=(224,224,3)) # height, width, color channels(R G B)"
      ]
    },
    {
      "cell_type": "code",
      "execution_count": 109,
      "metadata": {
        "colab": {
          "base_uri": "https://localhost:8080/"
        },
        "id": "c4EKZt1Gw7ND",
        "outputId": "0a2e1c7e-f2fd-45f2-d831-5a18addb891d"
      },
      "outputs": [
        {
          "output_type": "execute_result",
          "data": {
            "text/plain": [
              "tensor([[[0.3216, 0.2133, 0.7815],\n",
              "         [0.5189, 0.5060, 0.3397],\n",
              "         [0.4017, 0.8751, 0.5635],\n",
              "         ...,\n",
              "         [0.7846, 0.3389, 0.0944],\n",
              "         [0.1381, 0.2781, 0.9100],\n",
              "         [0.3882, 0.5288, 0.9559]],\n",
              "\n",
              "        [[0.5128, 0.1488, 0.1948],\n",
              "         [0.6156, 0.1136, 0.3760],\n",
              "         [0.0660, 0.4469, 0.1023],\n",
              "         ...,\n",
              "         [0.1873, 0.8898, 0.0614],\n",
              "         [0.7193, 0.9859, 0.4157],\n",
              "         [0.3954, 0.8198, 0.3170]],\n",
              "\n",
              "        [[0.4897, 0.5217, 0.1092],\n",
              "         [0.7335, 0.6229, 0.9702],\n",
              "         [0.1106, 0.9328, 0.4674],\n",
              "         ...,\n",
              "         [0.2144, 0.4012, 0.7986],\n",
              "         [0.3611, 0.5706, 0.4968],\n",
              "         [0.3973, 0.4032, 0.7197]],\n",
              "\n",
              "        ...,\n",
              "\n",
              "        [[0.9281, 0.5451, 0.1837],\n",
              "         [0.9997, 0.9142, 0.3946],\n",
              "         [0.1711, 0.1053, 0.2185],\n",
              "         ...,\n",
              "         [0.9437, 0.2021, 0.1152],\n",
              "         [0.9795, 0.2764, 0.5371],\n",
              "         [0.0344, 0.3946, 0.2365]],\n",
              "\n",
              "        [[0.1874, 0.6763, 0.9278],\n",
              "         [0.7538, 0.8949, 0.9446],\n",
              "         [0.0600, 0.7267, 0.7934],\n",
              "         ...,\n",
              "         [0.9656, 0.3878, 0.4974],\n",
              "         [0.3070, 0.0949, 0.8155],\n",
              "         [0.7806, 0.6502, 0.5125]],\n",
              "\n",
              "        [[0.2386, 0.7751, 0.4240],\n",
              "         [0.5167, 0.0774, 0.2433],\n",
              "         [0.5580, 0.2847, 0.2316],\n",
              "         ...,\n",
              "         [0.5715, 0.9507, 0.5331],\n",
              "         [0.5374, 0.0990, 0.6501],\n",
              "         [0.3416, 0.1405, 0.3542]]])"
            ]
          },
          "metadata": {},
          "execution_count": 109
        }
      ],
      "source": [
        "random_image_size_tensor"
      ]
    },
    {
      "cell_type": "markdown",
      "metadata": {
        "id": "0GDQex-9xzch"
      },
      "source": [
        "## Zeros and Ones"
      ]
    },
    {
      "cell_type": "code",
      "execution_count": 110,
      "metadata": {
        "id": "av0fOERPxEUH"
      },
      "outputs": [],
      "source": [
        "# Create the tensors of o\n",
        "zeros = torch.zeros(size=(3,4))"
      ]
    },
    {
      "cell_type": "code",
      "execution_count": 111,
      "metadata": {
        "colab": {
          "base_uri": "https://localhost:8080/"
        },
        "id": "49QkINU3yFB0",
        "outputId": "f37d73ee-37e1-4466-fb50-a364c8443783"
      },
      "outputs": [
        {
          "output_type": "execute_result",
          "data": {
            "text/plain": [
              "tensor([[0., 0., 0., 0.],\n",
              "        [0., 0., 0., 0.],\n",
              "        [0., 0., 0., 0.]])"
            ]
          },
          "metadata": {},
          "execution_count": 111
        }
      ],
      "source": [
        "zeros"
      ]
    },
    {
      "cell_type": "code",
      "execution_count": 112,
      "metadata": {
        "id": "5uo2DOQTyGV0"
      },
      "outputs": [],
      "source": [
        "# Create the tensor of ones\n",
        "ones = torch.ones(size=(3,4))"
      ]
    },
    {
      "cell_type": "code",
      "execution_count": 113,
      "metadata": {
        "colab": {
          "base_uri": "https://localhost:8080/"
        },
        "id": "yZBGlHmzyebi",
        "outputId": "eaf45e52-c9d4-44ab-feb1-b66ff0ddb7e2"
      },
      "outputs": [
        {
          "output_type": "execute_result",
          "data": {
            "text/plain": [
              "tensor([[1., 1., 1., 1.],\n",
              "        [1., 1., 1., 1.],\n",
              "        [1., 1., 1., 1.]])"
            ]
          },
          "metadata": {},
          "execution_count": 113
        }
      ],
      "source": [
        "ones"
      ]
    },
    {
      "cell_type": "code",
      "execution_count": 114,
      "metadata": {
        "colab": {
          "base_uri": "https://localhost:8080/"
        },
        "id": "j2IWxj_byf45",
        "outputId": "b1829869-d917-4945-baa3-b2a4cb868aa9"
      },
      "outputs": [
        {
          "output_type": "execute_result",
          "data": {
            "text/plain": [
              "torch.float32"
            ]
          },
          "metadata": {},
          "execution_count": 114
        }
      ],
      "source": [
        "ones.dtype"
      ]
    },
    {
      "cell_type": "markdown",
      "metadata": {
        "id": "-lDl9dIrziI2"
      },
      "source": [
        "# Use torch.range()"
      ]
    },
    {
      "cell_type": "code",
      "execution_count": 115,
      "metadata": {
        "colab": {
          "base_uri": "https://localhost:8080/"
        },
        "id": "X0bghMhezhda",
        "outputId": "db207723-75c4-419e-a88f-6a7e876c83b3"
      },
      "outputs": [
        {
          "output_type": "execute_result",
          "data": {
            "text/plain": [
              "tensor([0, 2, 4, 6, 8])"
            ]
          },
          "metadata": {},
          "execution_count": 115
        }
      ],
      "source": [
        "one_to_ten=torch.arange(start=0 ,end= 10, step=2)\n",
        "one_to_ten"
      ]
    },
    {
      "cell_type": "code",
      "execution_count": 116,
      "metadata": {
        "colab": {
          "base_uri": "https://localhost:8080/"
        },
        "id": "atucT_hnylDG",
        "outputId": "ec8875d2-f195-43a7-8f8e-3741236b727d"
      },
      "outputs": [
        {
          "output_type": "execute_result",
          "data": {
            "text/plain": [
              "tensor([0, 0, 0, 0, 0])"
            ]
          },
          "metadata": {},
          "execution_count": 116
        }
      ],
      "source": [
        "# Creating tensors like\n",
        "ten_zeros = torch.zeros_like(input=one_to_ten)\n",
        "ten_zeros"
      ]
    },
    {
      "cell_type": "markdown",
      "source": [
        "# Tensor Datatypes\n",
        " Most probable error on tensor\n",
        "\n",
        "1.   Tensor not  right datatype - check using `tensor.dtype`\n",
        "2.   Tensors not right shape - check using `tensor.shape`\n",
        "3.   Tensors not on the right types - check using `tensor.device`\n",
        "\n"
      ],
      "metadata": {
        "id": "vcDXe5z9SZ8i"
      }
    },
    {
      "cell_type": "code",
      "source": [
        "float_32_tensor=torch.tensor([3.0,6.0,9.0],\n",
        "                             dtype=None,# what datatype is the tensor (eg: float32 or flaot16)\n",
        "                             device=None, # What device is your tensor on\n",
        "                        requires_grad=False) # whether or not to track gradients with this tensors operations\n",
        "float_32_tensor.dtype"
      ],
      "metadata": {
        "colab": {
          "base_uri": "https://localhost:8080/"
        },
        "id": "KjMfi03WQmPf",
        "outputId": "9dc4c5f0-ab24-4bf3-d5da-5bd0a9856f29"
      },
      "execution_count": 117,
      "outputs": [
        {
          "output_type": "execute_result",
          "data": {
            "text/plain": [
              "torch.float32"
            ]
          },
          "metadata": {},
          "execution_count": 117
        }
      ]
    },
    {
      "cell_type": "code",
      "source": [
        "# Conversion\n",
        "float_16_tensor = float_32_tensor.type(torch.float16)\n",
        "float_16_tensor"
      ],
      "metadata": {
        "colab": {
          "base_uri": "https://localhost:8080/"
        },
        "id": "19UuHMVlTIzk",
        "outputId": "c908d26a-3ecc-47eb-de95-2cba3cea006e"
      },
      "execution_count": 118,
      "outputs": [
        {
          "output_type": "execute_result",
          "data": {
            "text/plain": [
              "tensor([3., 6., 9.], dtype=torch.float16)"
            ]
          },
          "metadata": {},
          "execution_count": 118
        }
      ]
    },
    {
      "cell_type": "code",
      "source": [
        "float_16_tensor * float_32_tensor"
      ],
      "metadata": {
        "colab": {
          "base_uri": "https://localhost:8080/"
        },
        "id": "dzBX9FAjU45V",
        "outputId": "727a46b5-888e-4631-8cfc-07238d980a57"
      },
      "execution_count": 119,
      "outputs": [
        {
          "output_type": "execute_result",
          "data": {
            "text/plain": [
              "tensor([ 9., 36., 81.])"
            ]
          },
          "metadata": {},
          "execution_count": 119
        }
      ]
    },
    {
      "cell_type": "code",
      "source": [
        "int_32_tensor=torch.tensor([3,6,9], dtype=torch.int32)"
      ],
      "metadata": {
        "id": "74iTDszpYkmG"
      },
      "execution_count": 120,
      "outputs": []
    },
    {
      "cell_type": "code",
      "source": [
        "float_32_tensor * int_32_tensor"
      ],
      "metadata": {
        "colab": {
          "base_uri": "https://localhost:8080/"
        },
        "id": "VpTNLGNjYvlA",
        "outputId": "34ea2450-ce76-4d07-a49e-fdca9c9d8c20"
      },
      "execution_count": 121,
      "outputs": [
        {
          "output_type": "execute_result",
          "data": {
            "text/plain": [
              "tensor([ 9., 36., 81.])"
            ]
          },
          "metadata": {},
          "execution_count": 121
        }
      ]
    },
    {
      "cell_type": "code",
      "source": [
        "# Create a tensor\n",
        "some_tensor=torch.rand(3,4)\n",
        "some_tensor"
      ],
      "metadata": {
        "id": "oONe2KRcY1Up",
        "colab": {
          "base_uri": "https://localhost:8080/"
        },
        "outputId": "1231f399-299b-4493-bc85-9c7f46560d7f"
      },
      "execution_count": 122,
      "outputs": [
        {
          "output_type": "execute_result",
          "data": {
            "text/plain": [
              "tensor([[0.5579, 0.3582, 0.2226, 0.4383],\n",
              "        [0.7105, 0.7868, 0.2100, 0.7482],\n",
              "        [0.3059, 0.2402, 0.9289, 0.6872]])"
            ]
          },
          "metadata": {},
          "execution_count": 122
        }
      ]
    },
    {
      "cell_type": "code",
      "source": [
        "print(some_tensor)\n",
        "print(f\"Datatype of tensor : {some_tensor.dtype}\")\n",
        "print(f\"Shape of tenosr: {some_tensor.shape}\")\n",
        "print(f\"Device tensor which? :{some_tensor.device}\")"
      ],
      "metadata": {
        "colab": {
          "base_uri": "https://localhost:8080/"
        },
        "id": "NOJ1R6gEM95Y",
        "outputId": "fa0f32fd-7a3b-46d8-f330-d1997d14348a"
      },
      "execution_count": 123,
      "outputs": [
        {
          "output_type": "stream",
          "name": "stdout",
          "text": [
            "tensor([[0.5579, 0.3582, 0.2226, 0.4383],\n",
            "        [0.7105, 0.7868, 0.2100, 0.7482],\n",
            "        [0.3059, 0.2402, 0.9289, 0.6872]])\n",
            "Datatype of tensor : torch.float32\n",
            "Shape of tenosr: torch.Size([3, 4])\n",
            "Device tensor which? :cpu\n"
          ]
        }
      ]
    },
    {
      "cell_type": "markdown",
      "source": [
        "# Manipulating Tensors (tensor operations)\n",
        "Tensor operation include\n",
        "\n",
        "\n",
        "*   Addition\n",
        "*   Substraction\n",
        "*   Multiplication (element-wise)\n",
        "*   Division\n",
        "*   Matrix muliplication\n",
        "\n"
      ],
      "metadata": {
        "id": "GjvcxCMbTWK6"
      }
    },
    {
      "cell_type": "code",
      "source": [
        "# Create a tensor and operate it\n",
        "tensor=torch.tensor([1,2,3])\n",
        "tensor +10"
      ],
      "metadata": {
        "colab": {
          "base_uri": "https://localhost:8080/"
        },
        "id": "3rv7LFmRNBiN",
        "outputId": "63f086f4-ac22-4d51-e839-8e7dfe460eec"
      },
      "execution_count": 124,
      "outputs": [
        {
          "output_type": "execute_result",
          "data": {
            "text/plain": [
              "tensor([11, 12, 13])"
            ]
          },
          "metadata": {},
          "execution_count": 124
        }
      ]
    },
    {
      "cell_type": "code",
      "source": [
        "tensor=tensor*10"
      ],
      "metadata": {
        "id": "-ECQqoOZURo4"
      },
      "execution_count": 125,
      "outputs": []
    },
    {
      "cell_type": "code",
      "source": [
        "tensor"
      ],
      "metadata": {
        "colab": {
          "base_uri": "https://localhost:8080/"
        },
        "id": "ofVByeZOUYF0",
        "outputId": "6ec321f8-6edf-4679-dd70-1d73d5b1172b"
      },
      "execution_count": 126,
      "outputs": [
        {
          "output_type": "execute_result",
          "data": {
            "text/plain": [
              "tensor([10, 20, 30])"
            ]
          },
          "metadata": {},
          "execution_count": 126
        }
      ]
    },
    {
      "cell_type": "code",
      "source": [
        "tensor / 10"
      ],
      "metadata": {
        "colab": {
          "base_uri": "https://localhost:8080/"
        },
        "id": "K_M8qVcpUZgt",
        "outputId": "dea410e9-9ec2-4eaf-9bcc-ec91aebdbc55"
      },
      "execution_count": 127,
      "outputs": [
        {
          "output_type": "execute_result",
          "data": {
            "text/plain": [
              "tensor([1., 2., 3.])"
            ]
          },
          "metadata": {},
          "execution_count": 127
        }
      ]
    },
    {
      "cell_type": "code",
      "source": [
        "# pytorch in-built function\n",
        "torch.mul(tensor, 10)"
      ],
      "metadata": {
        "colab": {
          "base_uri": "https://localhost:8080/"
        },
        "id": "DeyCqCDmUbgZ",
        "outputId": "4f25d94d-25db-4f7a-d73a-06c89ddd372a"
      },
      "execution_count": 128,
      "outputs": [
        {
          "output_type": "execute_result",
          "data": {
            "text/plain": [
              "tensor([100, 200, 300])"
            ]
          },
          "metadata": {},
          "execution_count": 128
        }
      ]
    },
    {
      "cell_type": "code",
      "source": [
        "tensor"
      ],
      "metadata": {
        "colab": {
          "base_uri": "https://localhost:8080/"
        },
        "id": "x_9Y3sA_UopT",
        "outputId": "410a9f46-520c-42d7-bc9e-d7c0fa5d49e2"
      },
      "execution_count": 129,
      "outputs": [
        {
          "output_type": "execute_result",
          "data": {
            "text/plain": [
              "tensor([10, 20, 30])"
            ]
          },
          "metadata": {},
          "execution_count": 129
        }
      ]
    },
    {
      "cell_type": "code",
      "source": [
        "torch.add(tensor,1)"
      ],
      "metadata": {
        "colab": {
          "base_uri": "https://localhost:8080/"
        },
        "id": "6OVjCy8BUzQc",
        "outputId": "a1581fc7-78f4-409f-8c50-e4c72a958dd2"
      },
      "execution_count": 130,
      "outputs": [
        {
          "output_type": "execute_result",
          "data": {
            "text/plain": [
              "tensor([11, 21, 31])"
            ]
          },
          "metadata": {},
          "execution_count": 130
        }
      ]
    },
    {
      "cell_type": "markdown",
      "source": [
        "### Matrix multiplication\n",
        "two ways\n",
        "\n",
        "1. Element wise multiplication\n",
        "2. Matrix wise multiplication"
      ],
      "metadata": {
        "id": "4781kAIzVBsp"
      }
    },
    {
      "cell_type": "code",
      "source": [
        "# Element wise  multiplication\n",
        "print (f\"Equals:{tensor*tensor}\")\n",
        "# 10*10"
      ],
      "metadata": {
        "id": "f6s8THsXU25m",
        "colab": {
          "base_uri": "https://localhost:8080/"
        },
        "outputId": "6f0ada41-6aff-4594-f885-62f87300b6c8"
      },
      "execution_count": 131,
      "outputs": [
        {
          "output_type": "stream",
          "name": "stdout",
          "text": [
            "Equals:tensor([100, 400, 900])\n"
          ]
        }
      ]
    },
    {
      "cell_type": "code",
      "source": [
        "# matrix multiplication\n",
        "torch.matmul(tensor,tensor)"
      ],
      "metadata": {
        "colab": {
          "base_uri": "https://localhost:8080/"
        },
        "id": "a6KEr6k-TCBz",
        "outputId": "e6aaf48d-1ef3-4b76-85df-f8977bd713ae"
      },
      "execution_count": 132,
      "outputs": [
        {
          "output_type": "execute_result",
          "data": {
            "text/plain": [
              "tensor(1400)"
            ]
          },
          "metadata": {},
          "execution_count": 132
        }
      ]
    },
    {
      "cell_type": "code",
      "source": [
        "# manually\n",
        "%%time\n",
        "value = 0\n",
        "for i in range(len(tensor)):\n",
        "  value += tensor[i] * tensor[i]\n",
        "print(value)\n"
      ],
      "metadata": {
        "colab": {
          "base_uri": "https://localhost:8080/"
        },
        "id": "nv9T6lMHTpKO",
        "outputId": "897d1279-c8b1-4b9d-b5bb-e86684c9c570"
      },
      "execution_count": 133,
      "outputs": [
        {
          "output_type": "stream",
          "name": "stdout",
          "text": [
            "tensor(1400)\n",
            "CPU times: user 1.98 ms, sys: 89 µs, total: 2.07 ms\n",
            "Wall time: 8.62 ms\n"
          ]
        }
      ]
    },
    {
      "cell_type": "code",
      "source": [
        "%%time\n",
        "torch.matmul(tensor,tensor)"
      ],
      "metadata": {
        "id": "fnxotwSmUO5L",
        "colab": {
          "base_uri": "https://localhost:8080/"
        },
        "outputId": "d044bafc-3f21-443a-8b1f-47f69bcd8056"
      },
      "execution_count": 134,
      "outputs": [
        {
          "output_type": "stream",
          "name": "stdout",
          "text": [
            "CPU times: user 1.28 ms, sys: 0 ns, total: 1.28 ms\n",
            "Wall time: 1.29 ms\n"
          ]
        },
        {
          "output_type": "execute_result",
          "data": {
            "text/plain": [
              "tensor(1400)"
            ]
          },
          "metadata": {},
          "execution_count": 134
        }
      ]
    },
    {
      "cell_type": "code",
      "source": [
        "torch.matmul(torch.rand(10,10), torch.rand(10,10))"
      ],
      "metadata": {
        "colab": {
          "base_uri": "https://localhost:8080/"
        },
        "id": "JQCcO2yoV1ZA",
        "outputId": "1e711ce4-ae5c-426a-8500-97f4c6f249a8"
      },
      "execution_count": 135,
      "outputs": [
        {
          "output_type": "execute_result",
          "data": {
            "text/plain": [
              "tensor([[1.4558, 2.3648, 2.1055, 2.5112, 2.2250, 1.0521, 1.3873, 2.0012, 1.4674,\n",
              "         2.5526],\n",
              "        [1.6833, 2.3634, 2.7122, 2.8751, 2.6181, 1.4655, 1.5747, 2.4207, 2.2633,\n",
              "         2.2756],\n",
              "        [1.9613, 2.9775, 3.2322, 3.1714, 3.2465, 1.8456, 2.0563, 3.1327, 2.3818,\n",
              "         3.2982],\n",
              "        [2.5362, 3.7456, 4.0303, 4.1102, 3.7297, 2.0878, 2.1973, 3.1713, 3.1805,\n",
              "         3.6167],\n",
              "        [2.3324, 3.2458, 3.1276, 3.1276, 2.9665, 1.9908, 1.6226, 3.8678, 2.6518,\n",
              "         3.3788],\n",
              "        [2.1667, 3.1829, 3.2296, 3.0713, 2.9674, 1.8844, 1.5508, 2.8946, 2.5960,\n",
              "         2.7343],\n",
              "        [1.7649, 2.6348, 2.5391, 3.0042, 2.3512, 1.7160, 1.2755, 2.6030, 2.0753,\n",
              "         2.5245],\n",
              "        [1.4605, 2.4169, 2.5633, 2.5780, 2.1884, 1.3739, 1.3332, 1.7653, 1.7065,\n",
              "         2.3393],\n",
              "        [1.7421, 2.6128, 2.4184, 2.7796, 2.9780, 1.7967, 1.7852, 2.7234, 2.0877,\n",
              "         2.8718],\n",
              "        [1.9981, 2.7076, 3.5774, 3.2816, 3.1609, 1.5184, 1.9434, 2.8636, 2.4123,\n",
              "         3.3313]])"
            ]
          },
          "metadata": {},
          "execution_count": 135
        }
      ]
    },
    {
      "cell_type": "code",
      "source": [
        "# Shape of tensor\n",
        "tensor_a=torch.tensor([[1,2],[3,4],[5,6]])\n",
        "tensor_b=torch.tensor([[7,10],[8,11],[9,12]])"
      ],
      "metadata": {
        "id": "laHAiNeyXFeN"
      },
      "execution_count": 136,
      "outputs": []
    },
    {
      "cell_type": "code",
      "source": [
        "# torch.matmul(tensor_a,tensor_b)  error will occur due to shape problem\n",
        "# we can perform transpose to get solution\n",
        "tensor_b=tensor_b.T"
      ],
      "metadata": {
        "id": "c8oyVYwvXrx_"
      },
      "execution_count": 137,
      "outputs": []
    },
    {
      "cell_type": "code",
      "source": [
        "torch.matmul(tensor_a,tensor_b)\n"
      ],
      "metadata": {
        "colab": {
          "base_uri": "https://localhost:8080/"
        },
        "id": "cW0IIF6RX5Ys",
        "outputId": "a424adae-84ed-46b4-d648-fb99db2e2826"
      },
      "execution_count": 138,
      "outputs": [
        {
          "output_type": "execute_result",
          "data": {
            "text/plain": [
              "tensor([[ 27,  30,  33],\n",
              "        [ 61,  68,  75],\n",
              "        [ 95, 106, 117]])"
            ]
          },
          "metadata": {},
          "execution_count": 138
        }
      ]
    },
    {
      "cell_type": "markdown",
      "source": [
        "### Find the min,max,mean,sum"
      ],
      "metadata": {
        "id": "b-uVPcR7ZRSO"
      }
    },
    {
      "cell_type": "code",
      "source": [
        "# Create tensor\n",
        "x = torch.arange(0,100,10)\n",
        "x"
      ],
      "metadata": {
        "colab": {
          "base_uri": "https://localhost:8080/"
        },
        "id": "tUsVp4BuYadf",
        "outputId": "0686b323-db9e-4f6b-aa18-4f680f0cfb25"
      },
      "execution_count": 139,
      "outputs": [
        {
          "output_type": "execute_result",
          "data": {
            "text/plain": [
              "tensor([ 0, 10, 20, 30, 40, 50, 60, 70, 80, 90])"
            ]
          },
          "metadata": {},
          "execution_count": 139
        }
      ]
    },
    {
      "cell_type": "code",
      "source": [
        "# For finding max\n",
        "torch.max(x), x.max()"
      ],
      "metadata": {
        "colab": {
          "base_uri": "https://localhost:8080/"
        },
        "id": "9Lmpnqf8ZhIH",
        "outputId": "7e4c2a9c-6f68-461a-8784-51ed116c372a"
      },
      "execution_count": 140,
      "outputs": [
        {
          "output_type": "execute_result",
          "data": {
            "text/plain": [
              "(tensor(90), tensor(90))"
            ]
          },
          "metadata": {},
          "execution_count": 140
        }
      ]
    },
    {
      "cell_type": "code",
      "source": [
        "print(x.dtype)\n",
        "x=x.float()\n",
        "\n",
        "torch.mean(x)"
      ],
      "metadata": {
        "colab": {
          "base_uri": "https://localhost:8080/"
        },
        "id": "jNYSpeoaZwsj",
        "outputId": "c447292c-82d3-4bf4-8301-9d7c3deb013b"
      },
      "execution_count": 141,
      "outputs": [
        {
          "output_type": "stream",
          "name": "stdout",
          "text": [
            "torch.int64\n"
          ]
        },
        {
          "output_type": "execute_result",
          "data": {
            "text/plain": [
              "tensor(45.)"
            ]
          },
          "metadata": {},
          "execution_count": 141
        }
      ]
    },
    {
      "cell_type": "code",
      "source": [
        "x.dtype"
      ],
      "metadata": {
        "colab": {
          "base_uri": "https://localhost:8080/"
        },
        "id": "N53lQA4fZ0oV",
        "outputId": "b480d112-e413-4e21-b2d3-7931872f0207"
      },
      "execution_count": 142,
      "outputs": [
        {
          "output_type": "execute_result",
          "data": {
            "text/plain": [
              "torch.float32"
            ]
          },
          "metadata": {},
          "execution_count": 142
        }
      ]
    },
    {
      "cell_type": "code",
      "source": [
        "# Find the sum\n",
        "torch.sum(x)"
      ],
      "metadata": {
        "colab": {
          "base_uri": "https://localhost:8080/"
        },
        "id": "iCBkhbR-Z_a_",
        "outputId": "35d216df-3101-4876-e507-82f8b7c86070"
      },
      "execution_count": 143,
      "outputs": [
        {
          "output_type": "execute_result",
          "data": {
            "text/plain": [
              "tensor(450.)"
            ]
          },
          "metadata": {},
          "execution_count": 143
        }
      ]
    },
    {
      "cell_type": "markdown",
      "source": [
        "### Find the positional min and max"
      ],
      "metadata": {
        "id": "BV2g9ecBafSp"
      }
    },
    {
      "cell_type": "code",
      "source": [
        "x.argmin()\n"
      ],
      "metadata": {
        "colab": {
          "base_uri": "https://localhost:8080/"
        },
        "id": "4D62U3P1abpd",
        "outputId": "d1846e3b-1f18-41cd-df60-be34e11ffadd"
      },
      "execution_count": 144,
      "outputs": [
        {
          "output_type": "execute_result",
          "data": {
            "text/plain": [
              "tensor(0)"
            ]
          },
          "metadata": {},
          "execution_count": 144
        }
      ]
    },
    {
      "cell_type": "code",
      "source": [],
      "metadata": {
        "id": "26e5HWPF8ruB"
      },
      "execution_count": 144,
      "outputs": []
    },
    {
      "cell_type": "code",
      "source": [
        "x.argmax()"
      ],
      "metadata": {
        "colab": {
          "base_uri": "https://localhost:8080/"
        },
        "id": "9ZCbmx99ao4P",
        "outputId": "d94f394a-b323-4c55-8712-5f4e3c042262"
      },
      "execution_count": 145,
      "outputs": [
        {
          "output_type": "execute_result",
          "data": {
            "text/plain": [
              "tensor(9)"
            ]
          },
          "metadata": {},
          "execution_count": 145
        }
      ]
    },
    {
      "cell_type": "markdown",
      "source": [
        "## Reshaping, stacking, squeezing and unsqueezung tensors\n",
        "\n",
        "\n",
        "*   Reshaping-reshape an input tensor to a define shape\n",
        "*   View-Return a view of an imput tensor of cetain shape but keep the same memory as the original tensor\n",
        "*   Stacking -combine multiple tensor on the top of each other (vstack) or side by side (hstack)\n",
        "*   Squeeze - remove all `1` dimension from the tensor\n",
        "* Unsqeeze - add a `1` dimension to a target tensor\n",
        "* Permute - Return a view of the input with dimensions permuted (swapped) in a cetain way\n",
        "\n",
        "\n"
      ],
      "metadata": {
        "id": "Anb3ObI4bND-"
      }
    },
    {
      "cell_type": "code",
      "source": [
        "# let create the tensor\n",
        "import torch\n",
        "x= torch.arange(1.,13.)\n",
        "x, x.shape"
      ],
      "metadata": {
        "id": "NfbRyFMtatw0",
        "colab": {
          "base_uri": "https://localhost:8080/"
        },
        "outputId": "7eaa48ee-f08f-4402-a21b-8a91db9b511b"
      },
      "execution_count": 146,
      "outputs": [
        {
          "output_type": "execute_result",
          "data": {
            "text/plain": [
              "(tensor([ 1.,  2.,  3.,  4.,  5.,  6.,  7.,  8.,  9., 10., 11., 12.]),\n",
              " torch.Size([12]))"
            ]
          },
          "metadata": {},
          "execution_count": 146
        }
      ]
    },
    {
      "cell_type": "code",
      "source": [
        "# Add an extra reshape dimension\n",
        "x_reshaped=x.reshape(3,4)\n",
        "x_reshaped, x_reshaped.shape\n"
      ],
      "metadata": {
        "colab": {
          "base_uri": "https://localhost:8080/"
        },
        "id": "DHQCQXmmFR-f",
        "outputId": "78a579c8-da6b-4ed6-8d54-bb703d2341b7"
      },
      "execution_count": 147,
      "outputs": [
        {
          "output_type": "execute_result",
          "data": {
            "text/plain": [
              "(tensor([[ 1.,  2.,  3.,  4.],\n",
              "         [ 5.,  6.,  7.,  8.],\n",
              "         [ 9., 10., 11., 12.]]),\n",
              " torch.Size([3, 4]))"
            ]
          },
          "metadata": {},
          "execution_count": 147
        }
      ]
    },
    {
      "cell_type": "code",
      "source": [
        "# Change the view\n",
        "z=x.view(1,12)\n",
        "z,z.shape"
      ],
      "metadata": {
        "colab": {
          "base_uri": "https://localhost:8080/"
        },
        "id": "3G1idvRdFi3p",
        "outputId": "603df1be-e914-4aa7-af5f-baf14186270b"
      },
      "execution_count": 148,
      "outputs": [
        {
          "output_type": "execute_result",
          "data": {
            "text/plain": [
              "(tensor([[ 1.,  2.,  3.,  4.,  5.,  6.,  7.,  8.,  9., 10., 11., 12.]]),\n",
              " torch.Size([1, 12]))"
            ]
          },
          "metadata": {},
          "execution_count": 148
        }
      ]
    },
    {
      "cell_type": "code",
      "source": [
        "# changing z changes x (because a view of a tensor shares the same memroy as the original)\n",
        "z[:,0] = 5\n",
        "z,x"
      ],
      "metadata": {
        "colab": {
          "base_uri": "https://localhost:8080/"
        },
        "id": "LRnKuGX0GluM",
        "outputId": "ca790bf4-27d5-4a0b-d3eb-931c703dfe7d"
      },
      "execution_count": 149,
      "outputs": [
        {
          "output_type": "execute_result",
          "data": {
            "text/plain": [
              "(tensor([[ 5.,  2.,  3.,  4.,  5.,  6.,  7.,  8.,  9., 10., 11., 12.]]),\n",
              " tensor([ 5.,  2.,  3.,  4.,  5.,  6.,  7.,  8.,  9., 10., 11., 12.]))"
            ]
          },
          "metadata": {},
          "execution_count": 149
        }
      ]
    },
    {
      "cell_type": "code",
      "source": [
        "# Stack tensors on the top of the each other\n",
        "x_stacked = torch.stack([x,x,x,x], dim=1)"
      ],
      "metadata": {
        "id": "ZDi9bO6sG5jP"
      },
      "execution_count": 150,
      "outputs": []
    },
    {
      "cell_type": "code",
      "source": [
        "x_stacked"
      ],
      "metadata": {
        "colab": {
          "base_uri": "https://localhost:8080/"
        },
        "id": "ihh47u61IFU7",
        "outputId": "58e2d7ed-ad94-4702-c9db-ce101fa7a4a9"
      },
      "execution_count": 151,
      "outputs": [
        {
          "output_type": "execute_result",
          "data": {
            "text/plain": [
              "tensor([[ 5.,  5.,  5.,  5.],\n",
              "        [ 2.,  2.,  2.,  2.],\n",
              "        [ 3.,  3.,  3.,  3.],\n",
              "        [ 4.,  4.,  4.,  4.],\n",
              "        [ 5.,  5.,  5.,  5.],\n",
              "        [ 6.,  6.,  6.,  6.],\n",
              "        [ 7.,  7.,  7.,  7.],\n",
              "        [ 8.,  8.,  8.,  8.],\n",
              "        [ 9.,  9.,  9.,  9.],\n",
              "        [10., 10., 10., 10.],\n",
              "        [11., 11., 11., 11.],\n",
              "        [12., 12., 12., 12.]])"
            ]
          },
          "metadata": {},
          "execution_count": 151
        }
      ]
    },
    {
      "cell_type": "code",
      "source": [
        "# torch.squeeze () - remove all single dimensions from a target tensor\n",
        "x_reshaped"
      ],
      "metadata": {
        "colab": {
          "base_uri": "https://localhost:8080/"
        },
        "id": "noSUUutjIIIH",
        "outputId": "9df75136-460f-4788-c0dd-1a5b2432a2db"
      },
      "execution_count": 152,
      "outputs": [
        {
          "output_type": "execute_result",
          "data": {
            "text/plain": [
              "tensor([[ 5.,  2.,  3.,  4.],\n",
              "        [ 5.,  6.,  7.,  8.],\n",
              "        [ 9., 10., 11., 12.]])"
            ]
          },
          "metadata": {},
          "execution_count": 152
        }
      ]
    },
    {
      "cell_type": "code",
      "source": [
        "x_reshaped.squeeze()"
      ],
      "metadata": {
        "colab": {
          "base_uri": "https://localhost:8080/"
        },
        "id": "LaoiStWHIszp",
        "outputId": "d6b11c5a-f66b-400a-a418-54a44f7f89c7"
      },
      "execution_count": 153,
      "outputs": [
        {
          "output_type": "execute_result",
          "data": {
            "text/plain": [
              "tensor([[ 5.,  2.,  3.,  4.],\n",
              "        [ 5.,  6.,  7.,  8.],\n",
              "        [ 9., 10., 11., 12.]])"
            ]
          },
          "metadata": {},
          "execution_count": 153
        }
      ]
    },
    {
      "cell_type": "code",
      "source": [
        "x_reshaped.squeeze().shape"
      ],
      "metadata": {
        "colab": {
          "base_uri": "https://localhost:8080/"
        },
        "id": "2oUZo4LqIyON",
        "outputId": "f5798b67-de0c-48fb-cc57-06ef9acef300"
      },
      "execution_count": 154,
      "outputs": [
        {
          "output_type": "execute_result",
          "data": {
            "text/plain": [
              "torch.Size([3, 4])"
            ]
          },
          "metadata": {},
          "execution_count": 154
        }
      ]
    },
    {
      "cell_type": "code",
      "source": [
        "y= torch.arange(1.,13.)\n",
        "y, y.shape"
      ],
      "metadata": {
        "colab": {
          "base_uri": "https://localhost:8080/"
        },
        "id": "BmI0GinWI9o6",
        "outputId": "f78a03a9-9fff-49ee-8561-565e2b832ac2"
      },
      "execution_count": 155,
      "outputs": [
        {
          "output_type": "execute_result",
          "data": {
            "text/plain": [
              "(tensor([ 1.,  2.,  3.,  4.,  5.,  6.,  7.,  8.,  9., 10., 11., 12.]),\n",
              " torch.Size([12]))"
            ]
          },
          "metadata": {},
          "execution_count": 155
        }
      ]
    },
    {
      "cell_type": "code",
      "source": [
        "y_reshaped=y.reshape(1,12)\n",
        "y_reshaped.shape"
      ],
      "metadata": {
        "colab": {
          "base_uri": "https://localhost:8080/"
        },
        "id": "YOobNSexJHtD",
        "outputId": "9702bf0c-422d-4656-a83b-9e3c677e3a95"
      },
      "execution_count": 156,
      "outputs": [
        {
          "output_type": "execute_result",
          "data": {
            "text/plain": [
              "torch.Size([1, 12])"
            ]
          },
          "metadata": {},
          "execution_count": 156
        }
      ]
    },
    {
      "cell_type": "code",
      "source": [
        "y_reshaped.squeeze()\n"
      ],
      "metadata": {
        "colab": {
          "base_uri": "https://localhost:8080/"
        },
        "id": "nzZu3yESJS7Q",
        "outputId": "21f0375d-bb81-4e63-f724-49732f3bac76"
      },
      "execution_count": 157,
      "outputs": [
        {
          "output_type": "execute_result",
          "data": {
            "text/plain": [
              "tensor([ 1.,  2.,  3.,  4.,  5.,  6.,  7.,  8.,  9., 10., 11., 12.])"
            ]
          },
          "metadata": {},
          "execution_count": 157
        }
      ]
    },
    {
      "cell_type": "code",
      "source": [
        "y_reshaped.squeeze().shape"
      ],
      "metadata": {
        "colab": {
          "base_uri": "https://localhost:8080/"
        },
        "id": "1_eWiDeqJeig",
        "outputId": "bf1ab331-004d-4add-fa26-09294dd60d3c"
      },
      "execution_count": 158,
      "outputs": [
        {
          "output_type": "execute_result",
          "data": {
            "text/plain": [
              "torch.Size([12])"
            ]
          },
          "metadata": {},
          "execution_count": 158
        }
      ]
    },
    {
      "cell_type": "code",
      "source": [
        "#  torch.permute - rearrange the dimensions of a target in a specified order\n",
        "x_original =torch.rand(size=(224, 224, 3))\n",
        "x_original\n",
        "# permute the original tensor to rearrange the axis(or dim) order\n",
        "x_permuted=x_original.permute(2,0,1)\n",
        "x_permuted"
      ],
      "metadata": {
        "colab": {
          "base_uri": "https://localhost:8080/"
        },
        "id": "X7_NIx3fJjhM",
        "outputId": "a99ac301-1661-4275-f1e2-32b4ef44149d"
      },
      "execution_count": 159,
      "outputs": [
        {
          "output_type": "execute_result",
          "data": {
            "text/plain": [
              "tensor([[[0.5948, 0.4344, 0.4756,  ..., 0.8583, 0.7710, 0.4318],\n",
              "         [0.2871, 0.8523, 0.6158,  ..., 0.8689, 0.7003, 0.5866],\n",
              "         [0.4573, 0.5716, 0.5888,  ..., 0.5284, 0.6438, 0.0207],\n",
              "         ...,\n",
              "         [0.2106, 0.7639, 0.6208,  ..., 0.7995, 0.6518, 0.9673],\n",
              "         [0.6015, 0.4960, 0.4902,  ..., 0.8428, 0.8803, 0.8339],\n",
              "         [0.1170, 0.8317, 0.8993,  ..., 0.7864, 0.4613, 0.9925]],\n",
              "\n",
              "        [[0.7444, 0.4107, 0.3169,  ..., 0.6088, 0.3038, 0.3364],\n",
              "         [0.0165, 0.9384, 0.2910,  ..., 0.8779, 0.8125, 0.5402],\n",
              "         [0.7151, 0.7703, 0.5338,  ..., 0.7250, 0.8010, 0.2875],\n",
              "         ...,\n",
              "         [0.9525, 0.0750, 0.2552,  ..., 0.2525, 0.0685, 0.8724],\n",
              "         [0.3188, 0.0202, 0.5020,  ..., 0.3216, 0.9069, 0.7097],\n",
              "         [0.4362, 0.1218, 0.5363,  ..., 0.8165, 0.1214, 0.5822]],\n",
              "\n",
              "        [[0.8730, 0.5600, 0.4319,  ..., 0.3972, 0.7441, 0.2995],\n",
              "         [0.0696, 0.2575, 0.7214,  ..., 0.2498, 0.2185, 0.2939],\n",
              "         [0.0885, 0.0441, 0.2777,  ..., 0.6734, 0.0307, 0.9002],\n",
              "         ...,\n",
              "         [0.4967, 0.3145, 0.1231,  ..., 0.4432, 0.8073, 0.1916],\n",
              "         [0.2560, 0.3325, 0.0908,  ..., 0.7858, 0.9734, 0.7382],\n",
              "         [0.6619, 0.2658, 0.0946,  ..., 0.6791, 0.3008, 0.4250]]])"
            ]
          },
          "metadata": {},
          "execution_count": 159
        }
      ]
    },
    {
      "cell_type": "code",
      "source": [
        "print(f\"Previous shape:{x_original.shape}\")\n",
        "print(f\"New shape:{x_permuted.shape}\")"
      ],
      "metadata": {
        "id": "EdyJLK00LPh7",
        "colab": {
          "base_uri": "https://localhost:8080/"
        },
        "outputId": "ebc17cac-18d2-4de5-e9da-96b804fee9c3"
      },
      "execution_count": 162,
      "outputs": [
        {
          "output_type": "stream",
          "name": "stdout",
          "text": [
            "Previous shape:torch.Size([224, 224, 3])\n",
            "New shape:torch.Size([3, 224, 224])\n"
          ]
        }
      ]
    },
    {
      "cell_type": "code",
      "source": [],
      "metadata": {
        "id": "QvyrL1urQXmQ"
      },
      "execution_count": null,
      "outputs": []
    }
  ],
  "metadata": {
    "colab": {
      "provenance": [],
      "gpuType": "T4",
      "authorship_tag": "ABX9TyNQYJeHNlLw/DnqV3I9HQt/",
      "include_colab_link": true
    },
    "kernelspec": {
      "display_name": "Python 3",
      "name": "python3"
    },
    "language_info": {
      "name": "python"
    }
  },
  "nbformat": 4,
  "nbformat_minor": 0
}