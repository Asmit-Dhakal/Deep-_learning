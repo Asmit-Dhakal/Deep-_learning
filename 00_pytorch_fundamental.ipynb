{
  "cells": [
    {
      "cell_type": "markdown",
      "metadata": {
        "id": "view-in-github",
        "colab_type": "text"
      },
      "source": [
        "<a href=\"https://colab.research.google.com/github/Asmit-Dhakal/Deep_learning/blob/main/00_pytorch_fundamental.ipynb\" target=\"_parent\"><img src=\"https://colab.research.google.com/assets/colab-badge.svg\" alt=\"Open In Colab\"/></a>"
      ]
    },
    {
      "cell_type": "markdown",
      "metadata": {
        "id": "Rb-J8iKUNaz4"
      },
      "source": []
    },
    {
      "cell_type": "code",
      "execution_count": 1,
      "metadata": {
        "colab": {
          "base_uri": "https://localhost:8080/"
        },
        "id": "m8PXVppXItq3",
        "outputId": "45dd4025-eda9-45b9-9468-4a5f3bf28557"
      },
      "outputs": [
        {
          "output_type": "stream",
          "name": "stdout",
          "text": [
            "2.2.1+cu121\n"
          ]
        }
      ],
      "source": [
        "import torch\n",
        "import pandas as pd\n",
        "import numpy as np\n",
        "import matplotlib.pyplot as plt\n",
        "print(torch.__version__)\n"
      ]
    },
    {
      "cell_type": "markdown",
      "metadata": {
        "id": "t-fYPyKmN9G6"
      },
      "source": [
        "# **Introduction to Tensors**\n",
        "Creating tensors"
      ]
    },
    {
      "cell_type": "code",
      "execution_count": 2,
      "metadata": {
        "colab": {
          "base_uri": "https://localhost:8080/"
        },
        "id": "4Fw1FGKVNtXD",
        "outputId": "ccc459ad-2490-41c7-f95a-61e3319e5f28"
      },
      "outputs": [
        {
          "output_type": "execute_result",
          "data": {
            "text/plain": [
              "tensor(7)"
            ]
          },
          "metadata": {},
          "execution_count": 2
        }
      ],
      "source": [
        "# scalar\n",
        "scalar = torch.tensor(7)\n",
        "scalar\n"
      ]
    },
    {
      "cell_type": "code",
      "execution_count": 3,
      "metadata": {
        "colab": {
          "base_uri": "https://localhost:8080/"
        },
        "id": "vhxbni6iOXx5",
        "outputId": "5c39e7f9-2a7f-47db-87fd-b19127d65d65"
      },
      "outputs": [
        {
          "output_type": "execute_result",
          "data": {
            "text/plain": [
              "0"
            ]
          },
          "metadata": {},
          "execution_count": 3
        }
      ],
      "source": [
        "# Get tensor back as python int\n",
        "scalar.ndim\n"
      ]
    },
    {
      "cell_type": "code",
      "execution_count": 4,
      "metadata": {
        "id": "CenJssISQPoj"
      },
      "outputs": [],
      "source": [
        "# Vector\n",
        "vector=torch.tensor([7,7])"
      ]
    },
    {
      "cell_type": "code",
      "execution_count": 5,
      "metadata": {
        "colab": {
          "base_uri": "https://localhost:8080/"
        },
        "id": "08GtshjmROF4",
        "outputId": "4efa3be1-bab6-4cb6-b7f0-94489b3df845"
      },
      "outputs": [
        {
          "output_type": "execute_result",
          "data": {
            "text/plain": [
              "tensor([7, 7])"
            ]
          },
          "metadata": {},
          "execution_count": 5
        }
      ],
      "source": [
        "vector"
      ]
    },
    {
      "cell_type": "code",
      "execution_count": 6,
      "metadata": {
        "colab": {
          "base_uri": "https://localhost:8080/"
        },
        "id": "xWa93zq_RQWT",
        "outputId": "9a42058d-a9c1-4e1d-8480-32925323d3d0"
      },
      "outputs": [
        {
          "output_type": "execute_result",
          "data": {
            "text/plain": [
              "torch.Size([2])"
            ]
          },
          "metadata": {},
          "execution_count": 6
        }
      ],
      "source": [
        "vector.shape"
      ]
    },
    {
      "cell_type": "code",
      "execution_count": 7,
      "metadata": {
        "colab": {
          "base_uri": "https://localhost:8080/"
        },
        "id": "PddtE5J8TD-H",
        "outputId": "67b0e65f-0987-4e7f-c8aa-c0d90df72126"
      },
      "outputs": [
        {
          "output_type": "execute_result",
          "data": {
            "text/plain": [
              "tensor([[ 7,  8],\n",
              "        [ 9, 10]])"
            ]
          },
          "metadata": {},
          "execution_count": 7
        }
      ],
      "source": [
        " # matrix\n",
        "matrix=torch.tensor([[7,8],[9,10]])\n",
        "matrix"
      ]
    },
    {
      "cell_type": "code",
      "execution_count": 8,
      "metadata": {
        "colab": {
          "base_uri": "https://localhost:8080/"
        },
        "id": "_WCDL8_QTmlf",
        "outputId": "b0b5bb08-63b2-4352-d83b-1a823c1cdb48"
      },
      "outputs": [
        {
          "output_type": "execute_result",
          "data": {
            "text/plain": [
              "2"
            ]
          },
          "metadata": {},
          "execution_count": 8
        }
      ],
      "source": [
        "matrix.ndim"
      ]
    },
    {
      "cell_type": "code",
      "execution_count": 9,
      "metadata": {
        "colab": {
          "base_uri": "https://localhost:8080/"
        },
        "id": "EqKMhGZJU0ME",
        "outputId": "b3887545-175c-4343-8b73-42dbace11e37"
      },
      "outputs": [
        {
          "output_type": "execute_result",
          "data": {
            "text/plain": [
              "torch.Size([2, 2])"
            ]
          },
          "metadata": {},
          "execution_count": 9
        }
      ],
      "source": [
        "matrix[1]\n",
        "matrix.shape"
      ]
    },
    {
      "cell_type": "code",
      "execution_count": 10,
      "metadata": {
        "id": "lL0ebLrdVBt6"
      },
      "outputs": [],
      "source": [
        "# Tensor\n",
        "tensor =torch.tensor([[[1,2,3],[4,5,6],[7,8,9]]])"
      ]
    },
    {
      "cell_type": "code",
      "execution_count": 11,
      "metadata": {
        "colab": {
          "base_uri": "https://localhost:8080/"
        },
        "id": "7h4aTUFeVdGx",
        "outputId": "75f2b6b9-0570-40b7-87c6-1af0869ac0bd"
      },
      "outputs": [
        {
          "output_type": "execute_result",
          "data": {
            "text/plain": [
              "tensor([[[1, 2, 3],\n",
              "         [4, 5, 6],\n",
              "         [7, 8, 9]]])"
            ]
          },
          "metadata": {},
          "execution_count": 11
        }
      ],
      "source": [
        "tensor"
      ]
    },
    {
      "cell_type": "code",
      "execution_count": 12,
      "metadata": {
        "colab": {
          "base_uri": "https://localhost:8080/"
        },
        "id": "6McB5bHBVdv5",
        "outputId": "c64b4b3b-2b92-4875-f88c-6de6b8ada5da"
      },
      "outputs": [
        {
          "output_type": "execute_result",
          "data": {
            "text/plain": [
              "torch.Size([1, 3, 3])"
            ]
          },
          "metadata": {},
          "execution_count": 12
        }
      ],
      "source": [
        "tensor.ndim\n",
        "tensor.shape\n"
      ]
    },
    {
      "cell_type": "code",
      "execution_count": 13,
      "metadata": {
        "colab": {
          "base_uri": "https://localhost:8080/"
        },
        "id": "2Z43ASbTVpwi",
        "outputId": "7d7162fc-01e9-4bc2-b614-7ecea3fdd743"
      },
      "outputs": [
        {
          "output_type": "execute_result",
          "data": {
            "text/plain": [
              "tensor([[1, 2, 3],\n",
              "        [4, 5, 6],\n",
              "        [7, 8, 9]])"
            ]
          },
          "metadata": {},
          "execution_count": 13
        }
      ],
      "source": [
        "tensor[0]"
      ]
    },
    {
      "cell_type": "markdown",
      "metadata": {
        "id": "nMrjROdQtwvP"
      },
      "source": [
        "### Random tensor\n",
        "`start with random numbers-> Looks at data -> updagte random numbers -> look at data -> update random numbers `"
      ]
    },
    {
      "cell_type": "code",
      "execution_count": 14,
      "metadata": {
        "id": "-_OmYB2oWJOB"
      },
      "outputs": [],
      "source": [
        "### Random tensor of size and shape (3,4)\n",
        "\n",
        "random_tensor= torch.rand(1,3,4)\n"
      ]
    },
    {
      "cell_type": "code",
      "execution_count": 15,
      "metadata": {
        "colab": {
          "base_uri": "https://localhost:8080/"
        },
        "id": "07l0KFD2vyVC",
        "outputId": "aae75d5d-a40a-4b8c-d9af-dbf83809049c"
      },
      "outputs": [
        {
          "output_type": "execute_result",
          "data": {
            "text/plain": [
              "tensor([[[0.0910, 0.1670, 0.3879, 0.0381],\n",
              "         [0.8265, 0.7281, 0.0653, 0.1505],\n",
              "         [0.1598, 0.1410, 0.9740, 0.5634]]])"
            ]
          },
          "metadata": {},
          "execution_count": 15
        }
      ],
      "source": [
        "random_tensor"
      ]
    },
    {
      "cell_type": "code",
      "execution_count": 16,
      "metadata": {
        "colab": {
          "base_uri": "https://localhost:8080/"
        },
        "id": "03cbWTcGv0dF",
        "outputId": "97623073-5f20-47b0-b0e8-0310864cef4d"
      },
      "outputs": [
        {
          "output_type": "execute_result",
          "data": {
            "text/plain": [
              "3"
            ]
          },
          "metadata": {},
          "execution_count": 16
        }
      ],
      "source": [
        "random_tensor.ndim"
      ]
    },
    {
      "cell_type": "code",
      "execution_count": 17,
      "metadata": {
        "id": "1qt7xIiOwDor"
      },
      "outputs": [],
      "source": [
        "# Create random tensor with similar shape to a image tensor\n",
        "random_image_size_tensor = torch.rand(size=(224,224,3)) # height, width, color channels(R G B)"
      ]
    },
    {
      "cell_type": "code",
      "execution_count": 18,
      "metadata": {
        "colab": {
          "base_uri": "https://localhost:8080/"
        },
        "id": "c4EKZt1Gw7ND",
        "outputId": "e858b80c-837e-43c9-bfa0-f4e6a037184f"
      },
      "outputs": [
        {
          "output_type": "execute_result",
          "data": {
            "text/plain": [
              "tensor([[[0.9619, 0.3961, 0.6560],\n",
              "         [0.7912, 0.3119, 0.4988],\n",
              "         [0.7445, 0.2027, 0.6589],\n",
              "         ...,\n",
              "         [0.2895, 0.6340, 0.0680],\n",
              "         [0.1684, 0.2284, 0.3024],\n",
              "         [0.7167, 0.2157, 0.0811]],\n",
              "\n",
              "        [[0.7053, 0.5581, 0.3444],\n",
              "         [0.0352, 0.5763, 0.1785],\n",
              "         [0.0664, 0.2335, 0.4563],\n",
              "         ...,\n",
              "         [0.0306, 0.6446, 0.6350],\n",
              "         [0.1136, 0.5085, 0.4452],\n",
              "         [0.8193, 0.6452, 0.8517]],\n",
              "\n",
              "        [[0.6965, 0.3398, 0.9233],\n",
              "         [0.0513, 0.9234, 0.3168],\n",
              "         [0.2638, 0.9010, 0.9526],\n",
              "         ...,\n",
              "         [0.5867, 0.4695, 0.2908],\n",
              "         [0.9443, 0.7900, 0.3614],\n",
              "         [0.5040, 0.4872, 0.5238]],\n",
              "\n",
              "        ...,\n",
              "\n",
              "        [[0.0227, 0.0795, 0.5192],\n",
              "         [0.5030, 0.5279, 0.3172],\n",
              "         [0.4844, 0.7530, 0.8378],\n",
              "         ...,\n",
              "         [0.0823, 0.4909, 0.7871],\n",
              "         [0.5344, 0.2400, 0.0330],\n",
              "         [0.1314, 0.4824, 0.4109]],\n",
              "\n",
              "        [[0.8461, 0.9395, 0.7317],\n",
              "         [0.4498, 0.6288, 0.3978],\n",
              "         [0.0570, 0.7726, 0.9030],\n",
              "         ...,\n",
              "         [0.4570, 0.1616, 0.0698],\n",
              "         [0.7994, 0.3094, 0.5549],\n",
              "         [0.1807, 0.5189, 0.2506]],\n",
              "\n",
              "        [[0.3614, 0.2863, 0.7132],\n",
              "         [0.5594, 0.3848, 0.7183],\n",
              "         [0.6584, 0.5432, 0.7188],\n",
              "         ...,\n",
              "         [0.8518, 0.3615, 0.2185],\n",
              "         [0.9551, 0.8622, 0.3752],\n",
              "         [0.2349, 0.4962, 0.6299]]])"
            ]
          },
          "metadata": {},
          "execution_count": 18
        }
      ],
      "source": [
        "random_image_size_tensor"
      ]
    },
    {
      "cell_type": "markdown",
      "metadata": {
        "id": "0GDQex-9xzch"
      },
      "source": [
        "## Zeros and Ones"
      ]
    },
    {
      "cell_type": "code",
      "execution_count": 19,
      "metadata": {
        "id": "av0fOERPxEUH"
      },
      "outputs": [],
      "source": [
        "# Create the tensors of o\n",
        "zeros = torch.zeros(size=(3,4))"
      ]
    },
    {
      "cell_type": "code",
      "execution_count": 20,
      "metadata": {
        "colab": {
          "base_uri": "https://localhost:8080/"
        },
        "id": "49QkINU3yFB0",
        "outputId": "79f28c5d-7a82-494e-dbae-cb4cd27dac3a"
      },
      "outputs": [
        {
          "output_type": "execute_result",
          "data": {
            "text/plain": [
              "tensor([[0., 0., 0., 0.],\n",
              "        [0., 0., 0., 0.],\n",
              "        [0., 0., 0., 0.]])"
            ]
          },
          "metadata": {},
          "execution_count": 20
        }
      ],
      "source": [
        "zeros"
      ]
    },
    {
      "cell_type": "code",
      "execution_count": 21,
      "metadata": {
        "id": "5uo2DOQTyGV0"
      },
      "outputs": [],
      "source": [
        "# Create the tensor of ones\n",
        "ones = torch.ones(size=(3,4))"
      ]
    },
    {
      "cell_type": "code",
      "execution_count": 22,
      "metadata": {
        "colab": {
          "base_uri": "https://localhost:8080/"
        },
        "id": "yZBGlHmzyebi",
        "outputId": "365f25f3-4edf-4fc8-d88d-dbf8f2f1af5d"
      },
      "outputs": [
        {
          "output_type": "execute_result",
          "data": {
            "text/plain": [
              "tensor([[1., 1., 1., 1.],\n",
              "        [1., 1., 1., 1.],\n",
              "        [1., 1., 1., 1.]])"
            ]
          },
          "metadata": {},
          "execution_count": 22
        }
      ],
      "source": [
        "ones"
      ]
    },
    {
      "cell_type": "code",
      "execution_count": 23,
      "metadata": {
        "colab": {
          "base_uri": "https://localhost:8080/"
        },
        "id": "j2IWxj_byf45",
        "outputId": "c9fcdee3-bd73-4a50-9e5d-4631faa5dee1"
      },
      "outputs": [
        {
          "output_type": "execute_result",
          "data": {
            "text/plain": [
              "torch.float32"
            ]
          },
          "metadata": {},
          "execution_count": 23
        }
      ],
      "source": [
        "ones.dtype"
      ]
    },
    {
      "cell_type": "markdown",
      "metadata": {
        "id": "-lDl9dIrziI2"
      },
      "source": [
        "# Use torch.range()"
      ]
    },
    {
      "cell_type": "code",
      "execution_count": 24,
      "metadata": {
        "colab": {
          "base_uri": "https://localhost:8080/"
        },
        "id": "X0bghMhezhda",
        "outputId": "37de5edd-0266-45f5-9f37-0754801da759"
      },
      "outputs": [
        {
          "output_type": "execute_result",
          "data": {
            "text/plain": [
              "tensor([0, 2, 4, 6, 8])"
            ]
          },
          "metadata": {},
          "execution_count": 24
        }
      ],
      "source": [
        "one_to_ten=torch.arange(start=0 ,end= 10, step=2)\n",
        "one_to_ten"
      ]
    },
    {
      "cell_type": "code",
      "execution_count": 25,
      "metadata": {
        "colab": {
          "base_uri": "https://localhost:8080/"
        },
        "id": "atucT_hnylDG",
        "outputId": "05413a20-d3f9-4b3a-986f-10de950f23ce"
      },
      "outputs": [
        {
          "output_type": "execute_result",
          "data": {
            "text/plain": [
              "tensor([0, 0, 0, 0, 0])"
            ]
          },
          "metadata": {},
          "execution_count": 25
        }
      ],
      "source": [
        "# Creating tensors like\n",
        "ten_zeros = torch.zeros_like(input=one_to_ten)\n",
        "ten_zeros"
      ]
    },
    {
      "cell_type": "markdown",
      "source": [
        "# Tensor Datatypes\n",
        " Most probable error on tensor\n",
        "\n",
        "1.   Tensor not  right datatype\n",
        "2.   Tensors not right shape\n",
        "3.   Tensors not on the right types\n",
        "\n"
      ],
      "metadata": {
        "id": "vcDXe5z9SZ8i"
      }
    },
    {
      "cell_type": "code",
      "source": [
        "float_32_tensor=torch.tensor([3.0,6.0,9.0],\n",
        "                             dtype=None,# what datatype is the tensor (eg: float32 or flaot16)\n",
        "                             device=None, # What device is your tensor on\n",
        "                        requires_grad=False) # whether or not to track gradients with this tensors operations\n",
        "float_32_tensor.dtype"
      ],
      "metadata": {
        "colab": {
          "base_uri": "https://localhost:8080/"
        },
        "id": "KjMfi03WQmPf",
        "outputId": "e0213985-398e-4174-c373-43bf7eef483e"
      },
      "execution_count": 29,
      "outputs": [
        {
          "output_type": "execute_result",
          "data": {
            "text/plain": [
              "torch.float32"
            ]
          },
          "metadata": {},
          "execution_count": 29
        }
      ]
    },
    {
      "cell_type": "code",
      "source": [
        "# Conversion\n",
        "float_16_tensor = float_32_tensor.type(torch.float16)\n",
        "float_16_tensor"
      ],
      "metadata": {
        "colab": {
          "base_uri": "https://localhost:8080/"
        },
        "id": "19UuHMVlTIzk",
        "outputId": "bc483ab3-42de-4bf6-cb32-d1dfa4abccc7"
      },
      "execution_count": 32,
      "outputs": [
        {
          "output_type": "execute_result",
          "data": {
            "text/plain": [
              "tensor([3., 6., 9.], dtype=torch.float16)"
            ]
          },
          "metadata": {},
          "execution_count": 32
        }
      ]
    },
    {
      "cell_type": "code",
      "source": [],
      "metadata": {
        "id": "dzBX9FAjU45V"
      },
      "execution_count": null,
      "outputs": []
    }
  ],
  "metadata": {
    "colab": {
      "provenance": [],
      "gpuType": "T4",
      "authorship_tag": "ABX9TyN2jOUWt+WFyVlS3+TvgHex",
      "include_colab_link": true
    },
    "kernelspec": {
      "display_name": "Python 3",
      "name": "python3"
    },
    "language_info": {
      "name": "python"
    }
  },
  "nbformat": 4,
  "nbformat_minor": 0
}