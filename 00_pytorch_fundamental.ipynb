{
  "cells": [
    {
      "cell_type": "markdown",
      "metadata": {
        "id": "view-in-github",
        "colab_type": "text"
      },
      "source": [
        "<a href=\"https://colab.research.google.com/github/Asmit-Dhakal/Deep_learning/blob/main/00_pytorch_fundamental.ipynb\" target=\"_parent\"><img src=\"https://colab.research.google.com/assets/colab-badge.svg\" alt=\"Open In Colab\"/></a>"
      ]
    },
    {
      "cell_type": "markdown",
      "metadata": {
        "id": "Rb-J8iKUNaz4"
      },
      "source": []
    },
    {
      "cell_type": "code",
      "execution_count": null,
      "metadata": {
        "colab": {
          "base_uri": "https://localhost:8080/"
        },
        "id": "m8PXVppXItq3",
        "outputId": "d94efeb3-3d6d-40f9-a5f5-79fdc76df723"
      },
      "outputs": [
        {
          "output_type": "stream",
          "name": "stdout",
          "text": [
            "2.2.1+cu121\n"
          ]
        }
      ],
      "source": [
        "import torch\n",
        "import pandas as pd\n",
        "import numpy as np\n",
        "import matplotlib.pyplot as plt\n",
        "print(torch.__version__)\n"
      ]
    },
    {
      "cell_type": "markdown",
      "metadata": {
        "id": "t-fYPyKmN9G6"
      },
      "source": [
        "# **Introduction to Tensors**\n",
        "Creating tensors"
      ]
    },
    {
      "cell_type": "code",
      "execution_count": null,
      "metadata": {
        "colab": {
          "base_uri": "https://localhost:8080/"
        },
        "id": "4Fw1FGKVNtXD",
        "outputId": "a6e27dd6-4d88-49a6-d7bf-b682ca401333"
      },
      "outputs": [
        {
          "output_type": "execute_result",
          "data": {
            "text/plain": [
              "tensor(7)"
            ]
          },
          "metadata": {},
          "execution_count": 38
        }
      ],
      "source": [
        "# scalar\n",
        "scalar = torch.tensor(7)\n",
        "scalar\n"
      ]
    },
    {
      "cell_type": "code",
      "execution_count": null,
      "metadata": {
        "colab": {
          "base_uri": "https://localhost:8080/"
        },
        "id": "vhxbni6iOXx5",
        "outputId": "f59e042f-8b00-4065-97be-06db3e1a0cea"
      },
      "outputs": [
        {
          "output_type": "execute_result",
          "data": {
            "text/plain": [
              "0"
            ]
          },
          "metadata": {},
          "execution_count": 39
        }
      ],
      "source": [
        "# Get tensor back as python int\n",
        "scalar.ndim\n"
      ]
    },
    {
      "cell_type": "code",
      "execution_count": null,
      "metadata": {
        "id": "CenJssISQPoj"
      },
      "outputs": [],
      "source": [
        "# Vector\n",
        "vector=torch.tensor([7,7])"
      ]
    },
    {
      "cell_type": "code",
      "execution_count": null,
      "metadata": {
        "colab": {
          "base_uri": "https://localhost:8080/"
        },
        "id": "08GtshjmROF4",
        "outputId": "4984f61a-5528-4223-d722-c553a14ac272"
      },
      "outputs": [
        {
          "output_type": "execute_result",
          "data": {
            "text/plain": [
              "tensor([7, 7])"
            ]
          },
          "metadata": {},
          "execution_count": 41
        }
      ],
      "source": [
        "vector"
      ]
    },
    {
      "cell_type": "code",
      "execution_count": null,
      "metadata": {
        "colab": {
          "base_uri": "https://localhost:8080/"
        },
        "id": "xWa93zq_RQWT",
        "outputId": "92ba850e-8125-4b7c-ce46-7452103adc54"
      },
      "outputs": [
        {
          "output_type": "execute_result",
          "data": {
            "text/plain": [
              "torch.Size([2])"
            ]
          },
          "metadata": {},
          "execution_count": 42
        }
      ],
      "source": [
        "vector.shape"
      ]
    },
    {
      "cell_type": "code",
      "execution_count": null,
      "metadata": {
        "colab": {
          "base_uri": "https://localhost:8080/"
        },
        "id": "PddtE5J8TD-H",
        "outputId": "72f5d372-315c-4f78-9b02-4fc8827f1093"
      },
      "outputs": [
        {
          "output_type": "execute_result",
          "data": {
            "text/plain": [
              "tensor([[ 7,  8],\n",
              "        [ 9, 10]])"
            ]
          },
          "metadata": {},
          "execution_count": 43
        }
      ],
      "source": [
        " # matrix\n",
        "matrix=torch.tensor([[7,8],[9,10]])\n",
        "matrix"
      ]
    },
    {
      "cell_type": "code",
      "execution_count": null,
      "metadata": {
        "colab": {
          "base_uri": "https://localhost:8080/"
        },
        "id": "_WCDL8_QTmlf",
        "outputId": "6ec79ce3-7808-40e5-cbbd-e56f75796d43"
      },
      "outputs": [
        {
          "output_type": "execute_result",
          "data": {
            "text/plain": [
              "2"
            ]
          },
          "metadata": {},
          "execution_count": 44
        }
      ],
      "source": [
        "matrix.ndim"
      ]
    },
    {
      "cell_type": "code",
      "execution_count": null,
      "metadata": {
        "colab": {
          "base_uri": "https://localhost:8080/"
        },
        "id": "EqKMhGZJU0ME",
        "outputId": "d34f2170-15a7-4195-e4cd-b5d17864ecd5"
      },
      "outputs": [
        {
          "output_type": "execute_result",
          "data": {
            "text/plain": [
              "torch.Size([2, 2])"
            ]
          },
          "metadata": {},
          "execution_count": 45
        }
      ],
      "source": [
        "matrix[1]\n",
        "matrix.shape"
      ]
    },
    {
      "cell_type": "code",
      "execution_count": null,
      "metadata": {
        "id": "lL0ebLrdVBt6"
      },
      "outputs": [],
      "source": [
        "# Tensor\n",
        "tensor =torch.tensor([[[1,2,3],[4,5,6],[7,8,9]]])"
      ]
    },
    {
      "cell_type": "code",
      "execution_count": null,
      "metadata": {
        "colab": {
          "base_uri": "https://localhost:8080/"
        },
        "id": "7h4aTUFeVdGx",
        "outputId": "407a6864-9fd4-448b-8371-8ee56c5ab9c1"
      },
      "outputs": [
        {
          "output_type": "execute_result",
          "data": {
            "text/plain": [
              "tensor([[[1, 2, 3],\n",
              "         [4, 5, 6],\n",
              "         [7, 8, 9]]])"
            ]
          },
          "metadata": {},
          "execution_count": 47
        }
      ],
      "source": [
        "tensor"
      ]
    },
    {
      "cell_type": "code",
      "execution_count": null,
      "metadata": {
        "colab": {
          "base_uri": "https://localhost:8080/"
        },
        "id": "6McB5bHBVdv5",
        "outputId": "ddf2ff22-91af-43ee-e125-179846ded55f"
      },
      "outputs": [
        {
          "output_type": "execute_result",
          "data": {
            "text/plain": [
              "torch.Size([1, 3, 3])"
            ]
          },
          "metadata": {},
          "execution_count": 48
        }
      ],
      "source": [
        "tensor.ndim\n",
        "tensor.shape\n"
      ]
    },
    {
      "cell_type": "code",
      "execution_count": null,
      "metadata": {
        "colab": {
          "base_uri": "https://localhost:8080/"
        },
        "id": "2Z43ASbTVpwi",
        "outputId": "ece5abff-3c59-463f-b8f8-15f4a692dc9f"
      },
      "outputs": [
        {
          "output_type": "execute_result",
          "data": {
            "text/plain": [
              "tensor([[1, 2, 3],\n",
              "        [4, 5, 6],\n",
              "        [7, 8, 9]])"
            ]
          },
          "metadata": {},
          "execution_count": 49
        }
      ],
      "source": [
        "tensor[0]"
      ]
    },
    {
      "cell_type": "markdown",
      "metadata": {
        "id": "nMrjROdQtwvP"
      },
      "source": [
        "### Random tensor\n",
        "`start with random numbers-> Looks at data -> updagte random numbers -> look at data -> update random numbers `"
      ]
    },
    {
      "cell_type": "code",
      "execution_count": null,
      "metadata": {
        "id": "-_OmYB2oWJOB"
      },
      "outputs": [],
      "source": [
        "### Random tensor of size and shape (3,4)\n",
        "\n",
        "random_tensor= torch.rand(1,3,4)\n"
      ]
    },
    {
      "cell_type": "code",
      "execution_count": null,
      "metadata": {
        "colab": {
          "base_uri": "https://localhost:8080/"
        },
        "id": "07l0KFD2vyVC",
        "outputId": "9adf4054-898d-48cd-b25a-8644b773b54b"
      },
      "outputs": [
        {
          "output_type": "execute_result",
          "data": {
            "text/plain": [
              "tensor([[[0.2291, 0.7382, 0.5751, 0.5589],\n",
              "         [0.3101, 0.2842, 0.0958, 0.9062],\n",
              "         [0.3151, 0.3470, 0.4392, 0.6003]]])"
            ]
          },
          "metadata": {},
          "execution_count": 51
        }
      ],
      "source": [
        "random_tensor"
      ]
    },
    {
      "cell_type": "code",
      "execution_count": null,
      "metadata": {
        "colab": {
          "base_uri": "https://localhost:8080/"
        },
        "id": "03cbWTcGv0dF",
        "outputId": "fe363538-85f2-414c-fc33-0200b970d013"
      },
      "outputs": [
        {
          "output_type": "execute_result",
          "data": {
            "text/plain": [
              "3"
            ]
          },
          "metadata": {},
          "execution_count": 52
        }
      ],
      "source": [
        "random_tensor.ndim"
      ]
    },
    {
      "cell_type": "code",
      "execution_count": null,
      "metadata": {
        "id": "1qt7xIiOwDor"
      },
      "outputs": [],
      "source": [
        "# Create random tensor with similar shape to a image tensor\n",
        "random_image_size_tensor = torch.rand(size=(224,224,3)) # height, width, color channels(R G B)"
      ]
    },
    {
      "cell_type": "code",
      "execution_count": null,
      "metadata": {
        "colab": {
          "base_uri": "https://localhost:8080/"
        },
        "id": "c4EKZt1Gw7ND",
        "outputId": "15a792f5-8bcc-4757-c0b8-59bdf70be13f"
      },
      "outputs": [
        {
          "output_type": "execute_result",
          "data": {
            "text/plain": [
              "tensor([[[0.4058, 0.9425, 0.7794],\n",
              "         [0.7456, 0.4779, 0.7873],\n",
              "         [0.5364, 0.1781, 0.4457],\n",
              "         ...,\n",
              "         [0.2000, 0.1329, 0.0950],\n",
              "         [0.5911, 0.3094, 0.1794],\n",
              "         [0.9413, 0.6731, 0.7437]],\n",
              "\n",
              "        [[0.0493, 0.7045, 0.1396],\n",
              "         [0.2614, 0.7020, 0.8319],\n",
              "         [0.1134, 0.1397, 0.5963],\n",
              "         ...,\n",
              "         [0.9092, 0.1058, 0.2345],\n",
              "         [0.5322, 0.2389, 0.0840],\n",
              "         [0.1832, 0.8088, 0.7116]],\n",
              "\n",
              "        [[0.0563, 0.5242, 0.3366],\n",
              "         [0.9720, 0.4060, 0.4384],\n",
              "         [0.1098, 0.9258, 0.0910],\n",
              "         ...,\n",
              "         [0.6351, 0.6873, 0.2182],\n",
              "         [0.8250, 0.6523, 0.3333],\n",
              "         [0.6850, 0.5339, 0.4945]],\n",
              "\n",
              "        ...,\n",
              "\n",
              "        [[0.0267, 0.2091, 0.7396],\n",
              "         [0.5969, 0.4358, 0.2816],\n",
              "         [0.9791, 0.0125, 0.8153],\n",
              "         ...,\n",
              "         [0.5258, 0.3227, 0.5326],\n",
              "         [0.4801, 0.7458, 0.8989],\n",
              "         [0.9141, 0.3618, 0.5327]],\n",
              "\n",
              "        [[0.4101, 0.6479, 0.5336],\n",
              "         [0.5792, 0.4622, 0.5684],\n",
              "         [0.5925, 0.3039, 0.5621],\n",
              "         ...,\n",
              "         [0.9024, 0.9721, 0.3329],\n",
              "         [0.9571, 0.6492, 0.6180],\n",
              "         [0.3698, 0.8752, 0.1423]],\n",
              "\n",
              "        [[0.7090, 0.9336, 0.1097],\n",
              "         [0.1246, 0.3801, 0.7929],\n",
              "         [0.1200, 0.2534, 0.7905],\n",
              "         ...,\n",
              "         [0.3389, 0.9158, 0.9237],\n",
              "         [0.8860, 0.6246, 0.6323],\n",
              "         [0.8318, 0.1728, 0.5880]]])"
            ]
          },
          "metadata": {},
          "execution_count": 54
        }
      ],
      "source": [
        "random_image_size_tensor"
      ]
    },
    {
      "cell_type": "markdown",
      "metadata": {
        "id": "0GDQex-9xzch"
      },
      "source": [
        "## Zeros and Ones"
      ]
    },
    {
      "cell_type": "code",
      "execution_count": null,
      "metadata": {
        "id": "av0fOERPxEUH"
      },
      "outputs": [],
      "source": [
        "# Create the tensors of o\n",
        "zeros = torch.zeros(size=(3,4))"
      ]
    },
    {
      "cell_type": "code",
      "execution_count": null,
      "metadata": {
        "colab": {
          "base_uri": "https://localhost:8080/"
        },
        "id": "49QkINU3yFB0",
        "outputId": "8a85837b-88ce-43de-a72b-e580a0cdc5dd"
      },
      "outputs": [
        {
          "output_type": "execute_result",
          "data": {
            "text/plain": [
              "tensor([[0., 0., 0., 0.],\n",
              "        [0., 0., 0., 0.],\n",
              "        [0., 0., 0., 0.]])"
            ]
          },
          "metadata": {},
          "execution_count": 56
        }
      ],
      "source": [
        "zeros"
      ]
    },
    {
      "cell_type": "code",
      "execution_count": null,
      "metadata": {
        "id": "5uo2DOQTyGV0"
      },
      "outputs": [],
      "source": [
        "# Create the tensor of ones\n",
        "ones = torch.ones(size=(3,4))"
      ]
    },
    {
      "cell_type": "code",
      "execution_count": null,
      "metadata": {
        "colab": {
          "base_uri": "https://localhost:8080/"
        },
        "id": "yZBGlHmzyebi",
        "outputId": "9f5e01f2-f4c9-47fc-fb13-94222a7d3684"
      },
      "outputs": [
        {
          "output_type": "execute_result",
          "data": {
            "text/plain": [
              "tensor([[1., 1., 1., 1.],\n",
              "        [1., 1., 1., 1.],\n",
              "        [1., 1., 1., 1.]])"
            ]
          },
          "metadata": {},
          "execution_count": 58
        }
      ],
      "source": [
        "ones"
      ]
    },
    {
      "cell_type": "code",
      "execution_count": null,
      "metadata": {
        "colab": {
          "base_uri": "https://localhost:8080/"
        },
        "id": "j2IWxj_byf45",
        "outputId": "71f8ff5c-017d-4e6e-8afa-a344103c640c"
      },
      "outputs": [
        {
          "output_type": "execute_result",
          "data": {
            "text/plain": [
              "torch.float32"
            ]
          },
          "metadata": {},
          "execution_count": 59
        }
      ],
      "source": [
        "ones.dtype"
      ]
    },
    {
      "cell_type": "markdown",
      "metadata": {
        "id": "-lDl9dIrziI2"
      },
      "source": [
        "# Use torch.range()"
      ]
    },
    {
      "cell_type": "code",
      "execution_count": null,
      "metadata": {
        "colab": {
          "base_uri": "https://localhost:8080/"
        },
        "id": "X0bghMhezhda",
        "outputId": "68164991-9f00-486e-85ca-60454a70e72a"
      },
      "outputs": [
        {
          "output_type": "execute_result",
          "data": {
            "text/plain": [
              "tensor([0, 2, 4, 6, 8])"
            ]
          },
          "metadata": {},
          "execution_count": 60
        }
      ],
      "source": [
        "one_to_ten=torch.arange(start=0 ,end= 10, step=2)\n",
        "one_to_ten"
      ]
    },
    {
      "cell_type": "code",
      "execution_count": null,
      "metadata": {
        "colab": {
          "base_uri": "https://localhost:8080/"
        },
        "id": "atucT_hnylDG",
        "outputId": "ba0a13c3-a076-4157-b276-f071276dc452"
      },
      "outputs": [
        {
          "output_type": "execute_result",
          "data": {
            "text/plain": [
              "tensor([0, 0, 0, 0, 0])"
            ]
          },
          "metadata": {},
          "execution_count": 61
        }
      ],
      "source": [
        "# Creating tensors like\n",
        "ten_zeros = torch.zeros_like(input=one_to_ten)\n",
        "ten_zeros"
      ]
    },
    {
      "cell_type": "markdown",
      "source": [
        "# Tensor Datatypes\n",
        " Most probable error on tensor\n",
        "\n",
        "1.   Tensor not  right datatype - check using `tensor.dtype`\n",
        "2.   Tensors not right shape - check using `tensor.shape`\n",
        "3.   Tensors not on the right types - check using `tensor.device`\n",
        "\n"
      ],
      "metadata": {
        "id": "vcDXe5z9SZ8i"
      }
    },
    {
      "cell_type": "code",
      "source": [
        "float_32_tensor=torch.tensor([3.0,6.0,9.0],\n",
        "                             dtype=None,# what datatype is the tensor (eg: float32 or flaot16)\n",
        "                             device=None, # What device is your tensor on\n",
        "                        requires_grad=False) # whether or not to track gradients with this tensors operations\n",
        "float_32_tensor.dtype"
      ],
      "metadata": {
        "colab": {
          "base_uri": "https://localhost:8080/"
        },
        "id": "KjMfi03WQmPf",
        "outputId": "8978a54b-ad7f-4ad4-939c-7a496de12a6f"
      },
      "execution_count": null,
      "outputs": [
        {
          "output_type": "execute_result",
          "data": {
            "text/plain": [
              "torch.float32"
            ]
          },
          "metadata": {},
          "execution_count": 62
        }
      ]
    },
    {
      "cell_type": "code",
      "source": [
        "# Conversion\n",
        "float_16_tensor = float_32_tensor.type(torch.float16)\n",
        "float_16_tensor"
      ],
      "metadata": {
        "colab": {
          "base_uri": "https://localhost:8080/"
        },
        "id": "19UuHMVlTIzk",
        "outputId": "2c2232e7-689d-4f94-b0b7-1f5449c22e4d"
      },
      "execution_count": null,
      "outputs": [
        {
          "output_type": "execute_result",
          "data": {
            "text/plain": [
              "tensor([3., 6., 9.], dtype=torch.float16)"
            ]
          },
          "metadata": {},
          "execution_count": 63
        }
      ]
    },
    {
      "cell_type": "code",
      "source": [
        "float_16_tensor * float_32_tensor"
      ],
      "metadata": {
        "colab": {
          "base_uri": "https://localhost:8080/"
        },
        "id": "dzBX9FAjU45V",
        "outputId": "5d913a99-41cf-4048-ce0e-aa207446ad2b"
      },
      "execution_count": null,
      "outputs": [
        {
          "output_type": "execute_result",
          "data": {
            "text/plain": [
              "tensor([ 9., 36., 81.])"
            ]
          },
          "metadata": {},
          "execution_count": 64
        }
      ]
    },
    {
      "cell_type": "code",
      "source": [
        "int_32_tensor=torch.tensor([3,6,9], dtype=torch.int32)"
      ],
      "metadata": {
        "id": "74iTDszpYkmG"
      },
      "execution_count": null,
      "outputs": []
    },
    {
      "cell_type": "code",
      "source": [
        "float_32_tensor * int_32_tensor"
      ],
      "metadata": {
        "colab": {
          "base_uri": "https://localhost:8080/"
        },
        "id": "VpTNLGNjYvlA",
        "outputId": "9215f467-9359-4aec-9964-3e449cd027ed"
      },
      "execution_count": null,
      "outputs": [
        {
          "output_type": "execute_result",
          "data": {
            "text/plain": [
              "tensor([ 9., 36., 81.])"
            ]
          },
          "metadata": {},
          "execution_count": 66
        }
      ]
    },
    {
      "cell_type": "code",
      "source": [
        "# Create a tensor\n",
        "some_tensor=torch.rand(3,4)\n",
        "some_tensor"
      ],
      "metadata": {
        "id": "oONe2KRcY1Up",
        "colab": {
          "base_uri": "https://localhost:8080/"
        },
        "outputId": "028b7f2f-13a8-47ab-d786-8f324444e001"
      },
      "execution_count": null,
      "outputs": [
        {
          "output_type": "execute_result",
          "data": {
            "text/plain": [
              "tensor([[0.0375, 0.4137, 0.3131, 0.4838],\n",
              "        [0.9040, 0.1997, 0.6416, 0.7608],\n",
              "        [0.8581, 0.3832, 0.7375, 0.8436]])"
            ]
          },
          "metadata": {},
          "execution_count": 67
        }
      ]
    },
    {
      "cell_type": "code",
      "source": [
        "print(some_tensor)\n",
        "print(f\"Datatype of tensor : {some_tensor.dtype}\")\n",
        "print(f\"Shape of tenosr: {some_tensor.shape}\")\n",
        "print(f\"Device tensor which? :{some_tensor.device}\")"
      ],
      "metadata": {
        "colab": {
          "base_uri": "https://localhost:8080/"
        },
        "id": "NOJ1R6gEM95Y",
        "outputId": "e52fefed-96f4-4ae1-a4d1-396d4b4ae9f8"
      },
      "execution_count": null,
      "outputs": [
        {
          "output_type": "stream",
          "name": "stdout",
          "text": [
            "tensor([[0.0375, 0.4137, 0.3131, 0.4838],\n",
            "        [0.9040, 0.1997, 0.6416, 0.7608],\n",
            "        [0.8581, 0.3832, 0.7375, 0.8436]])\n",
            "Datatype of tensor : torch.float32\n",
            "Shape of tenosr: torch.Size([3, 4])\n",
            "Device tensor which? :cpu\n"
          ]
        }
      ]
    },
    {
      "cell_type": "markdown",
      "source": [
        "# Manipulating Tensors (tensor operations)\n",
        "Tensor operation include\n",
        "\n",
        "\n",
        "*   Addition\n",
        "*   Substraction\n",
        "*   Multiplication (element-wise)\n",
        "*   Division\n",
        "*   Matrix muliplication\n",
        "\n"
      ],
      "metadata": {
        "id": "GjvcxCMbTWK6"
      }
    },
    {
      "cell_type": "code",
      "source": [
        "# Create a tensor and operate it\n",
        "tensor=torch.tensor([1,2,3])\n",
        "tensor +10"
      ],
      "metadata": {
        "colab": {
          "base_uri": "https://localhost:8080/"
        },
        "id": "3rv7LFmRNBiN",
        "outputId": "77c66169-5eb7-4832-f064-0d466ab64b64"
      },
      "execution_count": null,
      "outputs": [
        {
          "output_type": "execute_result",
          "data": {
            "text/plain": [
              "tensor([11, 12, 13])"
            ]
          },
          "metadata": {},
          "execution_count": 70
        }
      ]
    },
    {
      "cell_type": "code",
      "source": [
        "tensor=tensor*10"
      ],
      "metadata": {
        "id": "-ECQqoOZURo4"
      },
      "execution_count": null,
      "outputs": []
    },
    {
      "cell_type": "code",
      "source": [
        "tensor"
      ],
      "metadata": {
        "colab": {
          "base_uri": "https://localhost:8080/"
        },
        "id": "ofVByeZOUYF0",
        "outputId": "91dbdcbc-5817-4998-fadc-fe0b3c2e6e4d"
      },
      "execution_count": null,
      "outputs": [
        {
          "output_type": "execute_result",
          "data": {
            "text/plain": [
              "tensor([10, 20, 30])"
            ]
          },
          "metadata": {},
          "execution_count": 72
        }
      ]
    },
    {
      "cell_type": "code",
      "source": [
        "tensor / 10"
      ],
      "metadata": {
        "colab": {
          "base_uri": "https://localhost:8080/"
        },
        "id": "K_M8qVcpUZgt",
        "outputId": "0a33886c-fc56-49f0-f2d7-f1d4b57c68cd"
      },
      "execution_count": null,
      "outputs": [
        {
          "output_type": "execute_result",
          "data": {
            "text/plain": [
              "tensor([1., 2., 3.])"
            ]
          },
          "metadata": {},
          "execution_count": 73
        }
      ]
    },
    {
      "cell_type": "code",
      "source": [
        "# pytorch in-built function\n",
        "torch.mul(tensor, 10)"
      ],
      "metadata": {
        "colab": {
          "base_uri": "https://localhost:8080/"
        },
        "id": "DeyCqCDmUbgZ",
        "outputId": "acfb4c7a-0f57-485d-a536-80a0fe90b221"
      },
      "execution_count": null,
      "outputs": [
        {
          "output_type": "execute_result",
          "data": {
            "text/plain": [
              "tensor([100, 200, 300])"
            ]
          },
          "metadata": {},
          "execution_count": 74
        }
      ]
    },
    {
      "cell_type": "code",
      "source": [
        "tensor"
      ],
      "metadata": {
        "colab": {
          "base_uri": "https://localhost:8080/"
        },
        "id": "x_9Y3sA_UopT",
        "outputId": "206d882f-de86-44b1-9ce9-a294c7534556"
      },
      "execution_count": null,
      "outputs": [
        {
          "output_type": "execute_result",
          "data": {
            "text/plain": [
              "tensor([10, 20, 30])"
            ]
          },
          "metadata": {},
          "execution_count": 75
        }
      ]
    },
    {
      "cell_type": "code",
      "source": [
        "torch.add(tensor,1)"
      ],
      "metadata": {
        "colab": {
          "base_uri": "https://localhost:8080/"
        },
        "id": "6OVjCy8BUzQc",
        "outputId": "94ddc7f5-dc6a-47d2-ef0e-8b1cf000fb8e"
      },
      "execution_count": null,
      "outputs": [
        {
          "output_type": "execute_result",
          "data": {
            "text/plain": [
              "tensor([11, 21, 31])"
            ]
          },
          "metadata": {},
          "execution_count": 76
        }
      ]
    },
    {
      "cell_type": "markdown",
      "source": [
        "### Matrix multiplication\n",
        "two ways\n",
        "\n",
        "1. Element wise multiplication\n",
        "2. Matrix wise multiplication"
      ],
      "metadata": {
        "id": "4781kAIzVBsp"
      }
    },
    {
      "cell_type": "code",
      "source": [
        "# Matrix multiplication\n"
      ],
      "metadata": {
        "id": "f6s8THsXU25m"
      },
      "execution_count": null,
      "outputs": []
    }
  ],
  "metadata": {
    "colab": {
      "provenance": [],
      "gpuType": "T4",
      "authorship_tag": "ABX9TyNbSxuw2u6Vr6hqN49tIgH2",
      "include_colab_link": true
    },
    "kernelspec": {
      "display_name": "Python 3",
      "name": "python3"
    },
    "language_info": {
      "name": "python"
    }
  },
  "nbformat": 4,
  "nbformat_minor": 0
}