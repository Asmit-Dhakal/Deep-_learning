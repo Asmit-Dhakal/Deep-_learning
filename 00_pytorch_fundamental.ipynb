{
  "cells": [
    {
      "cell_type": "markdown",
      "metadata": {
        "id": "view-in-github",
        "colab_type": "text"
      },
      "source": [
        "<a href=\"https://colab.research.google.com/github/Asmit-Dhakal/Deep_learning/blob/main/00_pytorch_fundamental.ipynb\" target=\"_parent\"><img src=\"https://colab.research.google.com/assets/colab-badge.svg\" alt=\"Open In Colab\"/></a>"
      ]
    },
    {
      "cell_type": "markdown",
      "metadata": {
        "id": "Rb-J8iKUNaz4"
      },
      "source": []
    },
    {
      "cell_type": "code",
      "execution_count": 1,
      "metadata": {
        "colab": {
          "base_uri": "https://localhost:8080/"
        },
        "id": "m8PXVppXItq3",
        "outputId": "9ba72eb7-9b86-47e7-cab5-284c64f1599f"
      },
      "outputs": [
        {
          "output_type": "stream",
          "name": "stdout",
          "text": [
            "2.2.1+cu121\n"
          ]
        }
      ],
      "source": [
        "import torch\n",
        "import pandas as pd\n",
        "import numpy as np\n",
        "import matplotlib.pyplot as plt\n",
        "print(torch.__version__)\n"
      ]
    },
    {
      "cell_type": "markdown",
      "metadata": {
        "id": "t-fYPyKmN9G6"
      },
      "source": [
        "# **Introduction to Tensors**\n",
        "Creating tensors"
      ]
    },
    {
      "cell_type": "code",
      "execution_count": 2,
      "metadata": {
        "colab": {
          "base_uri": "https://localhost:8080/"
        },
        "id": "4Fw1FGKVNtXD",
        "outputId": "7c04d831-56cb-4cd5-c08a-37fc18ae1b58"
      },
      "outputs": [
        {
          "output_type": "execute_result",
          "data": {
            "text/plain": [
              "tensor(7)"
            ]
          },
          "metadata": {},
          "execution_count": 2
        }
      ],
      "source": [
        "# scalar\n",
        "scalar = torch.tensor(7)\n",
        "scalar\n"
      ]
    },
    {
      "cell_type": "code",
      "execution_count": 3,
      "metadata": {
        "colab": {
          "base_uri": "https://localhost:8080/"
        },
        "id": "vhxbni6iOXx5",
        "outputId": "7bf18aa5-553c-46c3-afd8-bb77e9e7cd8c"
      },
      "outputs": [
        {
          "output_type": "execute_result",
          "data": {
            "text/plain": [
              "0"
            ]
          },
          "metadata": {},
          "execution_count": 3
        }
      ],
      "source": [
        "# Get tensor back as python int\n",
        "scalar.ndim\n"
      ]
    },
    {
      "cell_type": "code",
      "execution_count": 4,
      "metadata": {
        "id": "CenJssISQPoj"
      },
      "outputs": [],
      "source": [
        "# Vector\n",
        "vector=torch.tensor([7,7])"
      ]
    },
    {
      "cell_type": "code",
      "execution_count": 5,
      "metadata": {
        "colab": {
          "base_uri": "https://localhost:8080/"
        },
        "id": "08GtshjmROF4",
        "outputId": "b59d5270-b5e7-4443-98d2-0ec2646a54f0"
      },
      "outputs": [
        {
          "output_type": "execute_result",
          "data": {
            "text/plain": [
              "tensor([7, 7])"
            ]
          },
          "metadata": {},
          "execution_count": 5
        }
      ],
      "source": [
        "vector"
      ]
    },
    {
      "cell_type": "code",
      "execution_count": 6,
      "metadata": {
        "colab": {
          "base_uri": "https://localhost:8080/"
        },
        "id": "xWa93zq_RQWT",
        "outputId": "0ff246cb-8c9e-46c3-e35c-5a21946a7b65"
      },
      "outputs": [
        {
          "output_type": "execute_result",
          "data": {
            "text/plain": [
              "torch.Size([2])"
            ]
          },
          "metadata": {},
          "execution_count": 6
        }
      ],
      "source": [
        "vector.shape"
      ]
    },
    {
      "cell_type": "code",
      "execution_count": 7,
      "metadata": {
        "colab": {
          "base_uri": "https://localhost:8080/"
        },
        "id": "PddtE5J8TD-H",
        "outputId": "3cf17e4a-5d74-4c71-af09-fd0a2111f555"
      },
      "outputs": [
        {
          "output_type": "execute_result",
          "data": {
            "text/plain": [
              "tensor([[ 7,  8],\n",
              "        [ 9, 10]])"
            ]
          },
          "metadata": {},
          "execution_count": 7
        }
      ],
      "source": [
        " # matrix\n",
        "matrix=torch.tensor([[7,8],[9,10]])\n",
        "matrix"
      ]
    },
    {
      "cell_type": "code",
      "execution_count": 8,
      "metadata": {
        "colab": {
          "base_uri": "https://localhost:8080/"
        },
        "id": "_WCDL8_QTmlf",
        "outputId": "a61e9eb2-a976-4581-962f-6691d9f925ed"
      },
      "outputs": [
        {
          "output_type": "execute_result",
          "data": {
            "text/plain": [
              "2"
            ]
          },
          "metadata": {},
          "execution_count": 8
        }
      ],
      "source": [
        "matrix.ndim"
      ]
    },
    {
      "cell_type": "code",
      "execution_count": 9,
      "metadata": {
        "colab": {
          "base_uri": "https://localhost:8080/"
        },
        "id": "EqKMhGZJU0ME",
        "outputId": "37680c6a-bebe-425e-be57-a7b0df7e99c7"
      },
      "outputs": [
        {
          "output_type": "execute_result",
          "data": {
            "text/plain": [
              "torch.Size([2, 2])"
            ]
          },
          "metadata": {},
          "execution_count": 9
        }
      ],
      "source": [
        "matrix[1]\n",
        "matrix.shape"
      ]
    },
    {
      "cell_type": "code",
      "execution_count": 10,
      "metadata": {
        "id": "lL0ebLrdVBt6"
      },
      "outputs": [],
      "source": [
        "# Tensor\n",
        "tensor =torch.tensor([[[1,2,3],[4,5,6],[7,8,9]]])"
      ]
    },
    {
      "cell_type": "code",
      "execution_count": 11,
      "metadata": {
        "colab": {
          "base_uri": "https://localhost:8080/"
        },
        "id": "7h4aTUFeVdGx",
        "outputId": "312836f1-cfd6-4f1c-b0cd-09f524ea6463"
      },
      "outputs": [
        {
          "output_type": "execute_result",
          "data": {
            "text/plain": [
              "tensor([[[1, 2, 3],\n",
              "         [4, 5, 6],\n",
              "         [7, 8, 9]]])"
            ]
          },
          "metadata": {},
          "execution_count": 11
        }
      ],
      "source": [
        "tensor"
      ]
    },
    {
      "cell_type": "code",
      "execution_count": 12,
      "metadata": {
        "colab": {
          "base_uri": "https://localhost:8080/"
        },
        "id": "6McB5bHBVdv5",
        "outputId": "d5e2f74d-e64f-4cb5-998a-ef241973c3d2"
      },
      "outputs": [
        {
          "output_type": "execute_result",
          "data": {
            "text/plain": [
              "torch.Size([1, 3, 3])"
            ]
          },
          "metadata": {},
          "execution_count": 12
        }
      ],
      "source": [
        "tensor.ndim\n",
        "tensor.shape\n"
      ]
    },
    {
      "cell_type": "code",
      "execution_count": 13,
      "metadata": {
        "colab": {
          "base_uri": "https://localhost:8080/"
        },
        "id": "2Z43ASbTVpwi",
        "outputId": "6629840e-c1c4-4c0c-fda6-11d6c459c205"
      },
      "outputs": [
        {
          "output_type": "execute_result",
          "data": {
            "text/plain": [
              "tensor([[1, 2, 3],\n",
              "        [4, 5, 6],\n",
              "        [7, 8, 9]])"
            ]
          },
          "metadata": {},
          "execution_count": 13
        }
      ],
      "source": [
        "tensor[0]"
      ]
    },
    {
      "cell_type": "markdown",
      "metadata": {
        "id": "nMrjROdQtwvP"
      },
      "source": [
        "### Random tensor\n",
        "`start with random numbers-> Looks at data -> updagte random numbers -> look at data -> update random numbers `"
      ]
    },
    {
      "cell_type": "code",
      "execution_count": 14,
      "metadata": {
        "id": "-_OmYB2oWJOB"
      },
      "outputs": [],
      "source": [
        "### Random tensor of size and shape (3,4)\n",
        "\n",
        "random_tensor= torch.rand(1,3,4)\n"
      ]
    },
    {
      "cell_type": "code",
      "execution_count": 15,
      "metadata": {
        "colab": {
          "base_uri": "https://localhost:8080/"
        },
        "id": "07l0KFD2vyVC",
        "outputId": "cd639f5f-da88-42e3-b071-156d72b6f5d0"
      },
      "outputs": [
        {
          "output_type": "execute_result",
          "data": {
            "text/plain": [
              "tensor([[[0.4686, 0.9837, 0.3400, 0.1637],\n",
              "         [0.4889, 0.2489, 0.0952, 0.1375],\n",
              "         [0.6233, 0.3593, 0.7103, 0.5379]]])"
            ]
          },
          "metadata": {},
          "execution_count": 15
        }
      ],
      "source": [
        "random_tensor"
      ]
    },
    {
      "cell_type": "code",
      "execution_count": 16,
      "metadata": {
        "colab": {
          "base_uri": "https://localhost:8080/"
        },
        "id": "03cbWTcGv0dF",
        "outputId": "e32b65ef-e040-4447-b561-7ec93fbaa9c1"
      },
      "outputs": [
        {
          "output_type": "execute_result",
          "data": {
            "text/plain": [
              "3"
            ]
          },
          "metadata": {},
          "execution_count": 16
        }
      ],
      "source": [
        "random_tensor.ndim"
      ]
    },
    {
      "cell_type": "code",
      "execution_count": 17,
      "metadata": {
        "id": "1qt7xIiOwDor"
      },
      "outputs": [],
      "source": [
        "# Create random tensor with similar shape to a image tensor\n",
        "random_image_size_tensor = torch.rand(size=(224,224,3)) # height, width, color channels(R G B)"
      ]
    },
    {
      "cell_type": "code",
      "execution_count": 18,
      "metadata": {
        "colab": {
          "base_uri": "https://localhost:8080/"
        },
        "id": "c4EKZt1Gw7ND",
        "outputId": "25a620e2-44d8-44a5-db95-b75b3ca76c2c"
      },
      "outputs": [
        {
          "output_type": "execute_result",
          "data": {
            "text/plain": [
              "tensor([[[0.7169, 0.9172, 0.2923],\n",
              "         [0.7529, 0.3780, 0.1040],\n",
              "         [0.8288, 0.5118, 0.9273],\n",
              "         ...,\n",
              "         [0.0148, 0.0636, 0.0697],\n",
              "         [0.9357, 0.7949, 0.9575],\n",
              "         [0.4693, 0.1301, 0.0939]],\n",
              "\n",
              "        [[0.6960, 0.1455, 0.9785],\n",
              "         [0.3390, 0.1048, 0.5008],\n",
              "         [0.1328, 0.3656, 0.5078],\n",
              "         ...,\n",
              "         [0.2812, 0.1806, 0.9640],\n",
              "         [0.6974, 0.2557, 0.3830],\n",
              "         [0.9122, 0.2896, 0.6417]],\n",
              "\n",
              "        [[0.0698, 0.4849, 0.8006],\n",
              "         [0.0622, 0.3522, 0.1995],\n",
              "         [0.4862, 0.0437, 0.0355],\n",
              "         ...,\n",
              "         [0.0193, 0.1249, 0.2269],\n",
              "         [0.8288, 0.6332, 0.2524],\n",
              "         [0.3169, 0.4848, 0.0646]],\n",
              "\n",
              "        ...,\n",
              "\n",
              "        [[0.9618, 0.0341, 0.9132],\n",
              "         [0.7024, 0.1030, 0.1760],\n",
              "         [0.4069, 0.5798, 0.0094],\n",
              "         ...,\n",
              "         [0.0478, 0.4556, 0.3541],\n",
              "         [0.5327, 0.0563, 0.2360],\n",
              "         [0.9725, 0.8583, 0.7477]],\n",
              "\n",
              "        [[0.5529, 0.0656, 0.9573],\n",
              "         [0.4123, 0.3750, 0.6078],\n",
              "         [0.4318, 0.7009, 0.8878],\n",
              "         ...,\n",
              "         [0.1627, 0.6925, 0.9740],\n",
              "         [0.8425, 0.3410, 0.2234],\n",
              "         [0.9269, 0.3664, 0.0811]],\n",
              "\n",
              "        [[0.4589, 0.5972, 0.7073],\n",
              "         [0.9031, 0.6492, 0.7299],\n",
              "         [0.8390, 0.9760, 0.3334],\n",
              "         ...,\n",
              "         [0.1328, 0.2644, 0.5506],\n",
              "         [0.9313, 0.4148, 0.3779],\n",
              "         [0.1914, 0.4719, 0.3571]]])"
            ]
          },
          "metadata": {},
          "execution_count": 18
        }
      ],
      "source": [
        "random_image_size_tensor"
      ]
    },
    {
      "cell_type": "markdown",
      "metadata": {
        "id": "0GDQex-9xzch"
      },
      "source": [
        "## Zeros and Ones"
      ]
    },
    {
      "cell_type": "code",
      "execution_count": 19,
      "metadata": {
        "id": "av0fOERPxEUH"
      },
      "outputs": [],
      "source": [
        "# Create the tensors of o\n",
        "zeros = torch.zeros(size=(3,4))"
      ]
    },
    {
      "cell_type": "code",
      "execution_count": 20,
      "metadata": {
        "colab": {
          "base_uri": "https://localhost:8080/"
        },
        "id": "49QkINU3yFB0",
        "outputId": "e06b4d37-9756-43fb-f37d-f1e8677997ab"
      },
      "outputs": [
        {
          "output_type": "execute_result",
          "data": {
            "text/plain": [
              "tensor([[0., 0., 0., 0.],\n",
              "        [0., 0., 0., 0.],\n",
              "        [0., 0., 0., 0.]])"
            ]
          },
          "metadata": {},
          "execution_count": 20
        }
      ],
      "source": [
        "zeros"
      ]
    },
    {
      "cell_type": "code",
      "execution_count": 21,
      "metadata": {
        "id": "5uo2DOQTyGV0"
      },
      "outputs": [],
      "source": [
        "# Create the tensor of ones\n",
        "ones = torch.ones(size=(3,4))"
      ]
    },
    {
      "cell_type": "code",
      "execution_count": 22,
      "metadata": {
        "colab": {
          "base_uri": "https://localhost:8080/"
        },
        "id": "yZBGlHmzyebi",
        "outputId": "36443553-5af8-4546-f450-60ba2baddd8d"
      },
      "outputs": [
        {
          "output_type": "execute_result",
          "data": {
            "text/plain": [
              "tensor([[1., 1., 1., 1.],\n",
              "        [1., 1., 1., 1.],\n",
              "        [1., 1., 1., 1.]])"
            ]
          },
          "metadata": {},
          "execution_count": 22
        }
      ],
      "source": [
        "ones"
      ]
    },
    {
      "cell_type": "code",
      "execution_count": 23,
      "metadata": {
        "colab": {
          "base_uri": "https://localhost:8080/"
        },
        "id": "j2IWxj_byf45",
        "outputId": "efcd3f9f-6642-4802-a715-96fc59a04dfc"
      },
      "outputs": [
        {
          "output_type": "execute_result",
          "data": {
            "text/plain": [
              "torch.float32"
            ]
          },
          "metadata": {},
          "execution_count": 23
        }
      ],
      "source": [
        "ones.dtype"
      ]
    },
    {
      "cell_type": "markdown",
      "metadata": {
        "id": "-lDl9dIrziI2"
      },
      "source": [
        "# Use torch.range()"
      ]
    },
    {
      "cell_type": "code",
      "execution_count": 24,
      "metadata": {
        "colab": {
          "base_uri": "https://localhost:8080/"
        },
        "id": "X0bghMhezhda",
        "outputId": "d8efd143-6d03-4234-a544-dbd3241b57ba"
      },
      "outputs": [
        {
          "output_type": "execute_result",
          "data": {
            "text/plain": [
              "tensor([0, 2, 4, 6, 8])"
            ]
          },
          "metadata": {},
          "execution_count": 24
        }
      ],
      "source": [
        "one_to_ten=torch.arange(start=0 ,end= 10, step=2)\n",
        "one_to_ten"
      ]
    },
    {
      "cell_type": "code",
      "execution_count": 25,
      "metadata": {
        "colab": {
          "base_uri": "https://localhost:8080/"
        },
        "id": "atucT_hnylDG",
        "outputId": "f9f6afaf-daf6-4d10-d067-430d90b19b9d"
      },
      "outputs": [
        {
          "output_type": "execute_result",
          "data": {
            "text/plain": [
              "tensor([0, 0, 0, 0, 0])"
            ]
          },
          "metadata": {},
          "execution_count": 25
        }
      ],
      "source": [
        "# Creating tensors like\n",
        "ten_zeros = torch.zeros_like(input=one_to_ten)\n",
        "ten_zeros"
      ]
    },
    {
      "cell_type": "markdown",
      "metadata": {
        "id": "vcDXe5z9SZ8i"
      },
      "source": [
        "# Tensor Datatypes\n",
        " Most probable error on tensor\n",
        "\n",
        "1.   Tensor not  right datatype - check using `tensor.dtype`\n",
        "2.   Tensors not right shape - check using `tensor.shape`\n",
        "3.   Tensors not on the right types - check using `tensor.device`\n",
        "\n"
      ]
    },
    {
      "cell_type": "code",
      "execution_count": 26,
      "metadata": {
        "colab": {
          "base_uri": "https://localhost:8080/"
        },
        "id": "KjMfi03WQmPf",
        "outputId": "a8d394d8-25ec-4376-faa5-db8a93cfed67"
      },
      "outputs": [
        {
          "output_type": "execute_result",
          "data": {
            "text/plain": [
              "torch.float32"
            ]
          },
          "metadata": {},
          "execution_count": 26
        }
      ],
      "source": [
        "float_32_tensor=torch.tensor([3.0,6.0,9.0],\n",
        "                             dtype=None,# what datatype is the tensor (eg: float32 or flaot16)\n",
        "                             device=None, # What device is your tensor on\n",
        "                        requires_grad=False) # whether or not to track gradients with this tensors operations\n",
        "float_32_tensor.dtype"
      ]
    },
    {
      "cell_type": "code",
      "execution_count": 27,
      "metadata": {
        "colab": {
          "base_uri": "https://localhost:8080/"
        },
        "id": "19UuHMVlTIzk",
        "outputId": "d780d549-5864-4f20-d597-1871c2d1234d"
      },
      "outputs": [
        {
          "output_type": "execute_result",
          "data": {
            "text/plain": [
              "tensor([3., 6., 9.], dtype=torch.float16)"
            ]
          },
          "metadata": {},
          "execution_count": 27
        }
      ],
      "source": [
        "# Conversion\n",
        "float_16_tensor = float_32_tensor.type(torch.float16)\n",
        "float_16_tensor"
      ]
    },
    {
      "cell_type": "code",
      "execution_count": 28,
      "metadata": {
        "colab": {
          "base_uri": "https://localhost:8080/"
        },
        "id": "dzBX9FAjU45V",
        "outputId": "dca08ba4-c7e6-41b6-b5d3-b173995b9809"
      },
      "outputs": [
        {
          "output_type": "execute_result",
          "data": {
            "text/plain": [
              "tensor([ 9., 36., 81.])"
            ]
          },
          "metadata": {},
          "execution_count": 28
        }
      ],
      "source": [
        "float_16_tensor * float_32_tensor"
      ]
    },
    {
      "cell_type": "code",
      "execution_count": 29,
      "metadata": {
        "id": "74iTDszpYkmG"
      },
      "outputs": [],
      "source": [
        "int_32_tensor=torch.tensor([3,6,9], dtype=torch.int32)"
      ]
    },
    {
      "cell_type": "code",
      "execution_count": 30,
      "metadata": {
        "colab": {
          "base_uri": "https://localhost:8080/"
        },
        "id": "VpTNLGNjYvlA",
        "outputId": "d63c2c50-9e33-4c84-d6bf-c3b5f9bb579d"
      },
      "outputs": [
        {
          "output_type": "execute_result",
          "data": {
            "text/plain": [
              "tensor([ 9., 36., 81.])"
            ]
          },
          "metadata": {},
          "execution_count": 30
        }
      ],
      "source": [
        "float_32_tensor * int_32_tensor"
      ]
    },
    {
      "cell_type": "code",
      "execution_count": 31,
      "metadata": {
        "colab": {
          "base_uri": "https://localhost:8080/"
        },
        "id": "oONe2KRcY1Up",
        "outputId": "cc4dea26-9e19-479a-aa68-c234cc981824"
      },
      "outputs": [
        {
          "output_type": "execute_result",
          "data": {
            "text/plain": [
              "tensor([[0.3116, 0.7855, 0.4766, 0.4354],\n",
              "        [0.9039, 0.0427, 0.6588, 0.0531],\n",
              "        [0.3864, 0.3883, 0.8576, 0.8422]])"
            ]
          },
          "metadata": {},
          "execution_count": 31
        }
      ],
      "source": [
        "# Create a tensor\n",
        "some_tensor=torch.rand(3,4)\n",
        "some_tensor"
      ]
    },
    {
      "cell_type": "code",
      "execution_count": 32,
      "metadata": {
        "colab": {
          "base_uri": "https://localhost:8080/"
        },
        "id": "NOJ1R6gEM95Y",
        "outputId": "c05b3253-d292-4bd3-eecb-6560cc272d5a"
      },
      "outputs": [
        {
          "output_type": "stream",
          "name": "stdout",
          "text": [
            "tensor([[0.3116, 0.7855, 0.4766, 0.4354],\n",
            "        [0.9039, 0.0427, 0.6588, 0.0531],\n",
            "        [0.3864, 0.3883, 0.8576, 0.8422]])\n",
            "Datatype of tensor : torch.float32\n",
            "Shape of tenosr: torch.Size([3, 4])\n",
            "Device tensor which? :cpu\n"
          ]
        }
      ],
      "source": [
        "print(some_tensor)\n",
        "print(f\"Datatype of tensor : {some_tensor.dtype}\")\n",
        "print(f\"Shape of tenosr: {some_tensor.shape}\")\n",
        "print(f\"Device tensor which? :{some_tensor.device}\")"
      ]
    },
    {
      "cell_type": "markdown",
      "metadata": {
        "id": "GjvcxCMbTWK6"
      },
      "source": [
        "# Manipulating Tensors (tensor operations)\n",
        "Tensor operation include\n",
        "\n",
        "\n",
        "*   Addition\n",
        "*   Substraction\n",
        "*   Multiplication (element-wise)\n",
        "*   Division\n",
        "*   Matrix muliplication\n",
        "\n"
      ]
    },
    {
      "cell_type": "code",
      "execution_count": 33,
      "metadata": {
        "colab": {
          "base_uri": "https://localhost:8080/"
        },
        "id": "3rv7LFmRNBiN",
        "outputId": "5e28bf6f-1ed8-4100-bbb3-0286717bbda7"
      },
      "outputs": [
        {
          "output_type": "execute_result",
          "data": {
            "text/plain": [
              "tensor([11, 12, 13])"
            ]
          },
          "metadata": {},
          "execution_count": 33
        }
      ],
      "source": [
        "# Create a tensor and operate it\n",
        "tensor=torch.tensor([1,2,3])\n",
        "tensor +10"
      ]
    },
    {
      "cell_type": "code",
      "execution_count": 34,
      "metadata": {
        "id": "-ECQqoOZURo4"
      },
      "outputs": [],
      "source": [
        "tensor=tensor*10"
      ]
    },
    {
      "cell_type": "code",
      "execution_count": 35,
      "metadata": {
        "colab": {
          "base_uri": "https://localhost:8080/"
        },
        "id": "ofVByeZOUYF0",
        "outputId": "3413fada-de52-4aae-cf13-987a127577df"
      },
      "outputs": [
        {
          "output_type": "execute_result",
          "data": {
            "text/plain": [
              "tensor([10, 20, 30])"
            ]
          },
          "metadata": {},
          "execution_count": 35
        }
      ],
      "source": [
        "tensor"
      ]
    },
    {
      "cell_type": "code",
      "execution_count": 36,
      "metadata": {
        "colab": {
          "base_uri": "https://localhost:8080/"
        },
        "id": "K_M8qVcpUZgt",
        "outputId": "2163a504-3468-4798-8c9e-5f2650c55c17"
      },
      "outputs": [
        {
          "output_type": "execute_result",
          "data": {
            "text/plain": [
              "tensor([1., 2., 3.])"
            ]
          },
          "metadata": {},
          "execution_count": 36
        }
      ],
      "source": [
        "tensor / 10"
      ]
    },
    {
      "cell_type": "code",
      "execution_count": 37,
      "metadata": {
        "colab": {
          "base_uri": "https://localhost:8080/"
        },
        "id": "DeyCqCDmUbgZ",
        "outputId": "140739a8-7adc-4ce1-ba43-9916db2a5e33"
      },
      "outputs": [
        {
          "output_type": "execute_result",
          "data": {
            "text/plain": [
              "tensor([100, 200, 300])"
            ]
          },
          "metadata": {},
          "execution_count": 37
        }
      ],
      "source": [
        "# pytorch in-built function\n",
        "torch.mul(tensor, 10)"
      ]
    },
    {
      "cell_type": "code",
      "execution_count": 38,
      "metadata": {
        "colab": {
          "base_uri": "https://localhost:8080/"
        },
        "id": "x_9Y3sA_UopT",
        "outputId": "708dcb6a-3ec2-4b2b-fdcc-6dd619efdec2"
      },
      "outputs": [
        {
          "output_type": "execute_result",
          "data": {
            "text/plain": [
              "tensor([10, 20, 30])"
            ]
          },
          "metadata": {},
          "execution_count": 38
        }
      ],
      "source": [
        "tensor"
      ]
    },
    {
      "cell_type": "code",
      "execution_count": 39,
      "metadata": {
        "colab": {
          "base_uri": "https://localhost:8080/"
        },
        "id": "6OVjCy8BUzQc",
        "outputId": "47018dad-113c-4d09-a86e-71fc2611406d"
      },
      "outputs": [
        {
          "output_type": "execute_result",
          "data": {
            "text/plain": [
              "tensor([11, 21, 31])"
            ]
          },
          "metadata": {},
          "execution_count": 39
        }
      ],
      "source": [
        "torch.add(tensor,1)"
      ]
    },
    {
      "cell_type": "markdown",
      "metadata": {
        "id": "4781kAIzVBsp"
      },
      "source": [
        "### Matrix multiplication\n",
        "two ways\n",
        "\n",
        "1. Element wise multiplication\n",
        "2. Matrix wise multiplication"
      ]
    },
    {
      "cell_type": "code",
      "execution_count": 40,
      "metadata": {
        "colab": {
          "base_uri": "https://localhost:8080/"
        },
        "id": "f6s8THsXU25m",
        "outputId": "bbd6be7c-e80b-473e-9c7c-97bdc3339e05"
      },
      "outputs": [
        {
          "output_type": "stream",
          "name": "stdout",
          "text": [
            "Equals:tensor([100, 400, 900])\n"
          ]
        }
      ],
      "source": [
        "# Element wise  multiplication\n",
        "print (f\"Equals:{tensor*tensor}\")\n",
        "# 10*10"
      ]
    },
    {
      "cell_type": "code",
      "execution_count": 41,
      "metadata": {
        "colab": {
          "base_uri": "https://localhost:8080/"
        },
        "id": "a6KEr6k-TCBz",
        "outputId": "a75e12b8-581e-49d1-cd98-3ba6fe47f575"
      },
      "outputs": [
        {
          "output_type": "execute_result",
          "data": {
            "text/plain": [
              "tensor(1400)"
            ]
          },
          "metadata": {},
          "execution_count": 41
        }
      ],
      "source": [
        "# matrix multiplication\n",
        "torch.matmul(tensor,tensor)"
      ]
    },
    {
      "cell_type": "code",
      "execution_count": 42,
      "metadata": {
        "colab": {
          "base_uri": "https://localhost:8080/"
        },
        "id": "nv9T6lMHTpKO",
        "outputId": "3278927c-47d4-4a0a-fc7d-8f0483625dd1"
      },
      "outputs": [
        {
          "output_type": "stream",
          "name": "stdout",
          "text": [
            "tensor(1400)\n",
            "CPU times: user 9.7 ms, sys: 394 µs, total: 10.1 ms\n",
            "Wall time: 20.9 ms\n"
          ]
        }
      ],
      "source": [
        "# manually\n",
        "%%time\n",
        "value = 0\n",
        "for i in range(len(tensor)):\n",
        "  value += tensor[i] * tensor[i]\n",
        "print(value)\n"
      ]
    },
    {
      "cell_type": "code",
      "execution_count": 43,
      "metadata": {
        "colab": {
          "base_uri": "https://localhost:8080/"
        },
        "id": "fnxotwSmUO5L",
        "outputId": "eee36134-9ca7-4f6d-aa74-b665b7063499"
      },
      "outputs": [
        {
          "output_type": "stream",
          "name": "stdout",
          "text": [
            "CPU times: user 366 µs, sys: 0 ns, total: 366 µs\n",
            "Wall time: 400 µs\n"
          ]
        },
        {
          "output_type": "execute_result",
          "data": {
            "text/plain": [
              "tensor(1400)"
            ]
          },
          "metadata": {},
          "execution_count": 43
        }
      ],
      "source": [
        "%%time\n",
        "torch.matmul(tensor,tensor)"
      ]
    },
    {
      "cell_type": "code",
      "execution_count": 44,
      "metadata": {
        "colab": {
          "base_uri": "https://localhost:8080/"
        },
        "id": "JQCcO2yoV1ZA",
        "outputId": "3dad2ef8-a731-46ce-a9f5-69af20b8cd0a"
      },
      "outputs": [
        {
          "output_type": "execute_result",
          "data": {
            "text/plain": [
              "tensor([[2.8173, 2.5072, 1.9321, 3.2087, 2.2251, 3.3091, 3.2116, 2.6723, 1.5803,\n",
              "         2.6914],\n",
              "        [2.0415, 2.7242, 2.2517, 3.0288, 1.9203, 2.2242, 2.6003, 2.2727, 2.2689,\n",
              "         2.5176],\n",
              "        [3.2183, 2.6392, 2.8119, 3.5399, 3.2269, 3.0704, 3.8594, 2.9828, 2.4192,\n",
              "         3.1900],\n",
              "        [1.9380, 1.7961, 1.7323, 2.3469, 1.7193, 1.8660, 2.6553, 1.5192, 1.3924,\n",
              "         1.7131],\n",
              "        [1.7709, 1.4655, 1.5554, 1.8146, 1.3308, 1.9354, 1.7756, 1.9054, 0.8925,\n",
              "         1.6154],\n",
              "        [2.1084, 2.4696, 1.4291, 2.3859, 1.7207, 2.1115, 2.4882, 2.2076, 1.4378,\n",
              "         1.9942],\n",
              "        [2.4001, 2.0422, 2.1419, 2.9317, 2.0434, 2.3340, 2.9144, 2.2766, 1.6858,\n",
              "         2.4729],\n",
              "        [2.3605, 1.8376, 1.6672, 2.3021, 2.1969, 2.6539, 2.5508, 2.4953, 1.3440,\n",
              "         2.3066],\n",
              "        [2.7437, 2.0211, 2.1425, 2.6195, 1.6814, 2.1802, 2.5417, 2.4827, 1.2647,\n",
              "         1.8770],\n",
              "        [2.7993, 2.8899, 2.6129, 3.7520, 3.0258, 3.2841, 3.7521, 2.9292, 2.5057,\n",
              "         3.5648]])"
            ]
          },
          "metadata": {},
          "execution_count": 44
        }
      ],
      "source": [
        "torch.matmul(torch.rand(10,10), torch.rand(10,10))"
      ]
    },
    {
      "cell_type": "code",
      "execution_count": 45,
      "metadata": {
        "id": "laHAiNeyXFeN"
      },
      "outputs": [],
      "source": [
        "# Shape of tensor\n",
        "tensor_a=torch.tensor([[1,2],[3,4],[5,6]])\n",
        "tensor_b=torch.tensor([[7,10],[8,11],[9,12]])"
      ]
    },
    {
      "cell_type": "code",
      "execution_count": 46,
      "metadata": {
        "id": "c8oyVYwvXrx_"
      },
      "outputs": [],
      "source": [
        "# torch.matmul(tensor_a,tensor_b)  error will occur due to shape problem\n",
        "# we can perform transpose to get solution\n",
        "tensor_b=tensor_b.T"
      ]
    },
    {
      "cell_type": "code",
      "execution_count": 47,
      "metadata": {
        "colab": {
          "base_uri": "https://localhost:8080/"
        },
        "id": "cW0IIF6RX5Ys",
        "outputId": "682f4818-7134-4211-8ffd-f4e87be6341c"
      },
      "outputs": [
        {
          "output_type": "execute_result",
          "data": {
            "text/plain": [
              "tensor([[ 27,  30,  33],\n",
              "        [ 61,  68,  75],\n",
              "        [ 95, 106, 117]])"
            ]
          },
          "metadata": {},
          "execution_count": 47
        }
      ],
      "source": [
        "torch.matmul(tensor_a,tensor_b)\n"
      ]
    },
    {
      "cell_type": "markdown",
      "metadata": {
        "id": "b-uVPcR7ZRSO"
      },
      "source": [
        "### Find the min,max,mean,sum"
      ]
    },
    {
      "cell_type": "code",
      "execution_count": 48,
      "metadata": {
        "colab": {
          "base_uri": "https://localhost:8080/"
        },
        "id": "tUsVp4BuYadf",
        "outputId": "a482ed08-7e4d-4269-f748-ed72b61eaf12"
      },
      "outputs": [
        {
          "output_type": "execute_result",
          "data": {
            "text/plain": [
              "tensor([ 0, 10, 20, 30, 40, 50, 60, 70, 80, 90])"
            ]
          },
          "metadata": {},
          "execution_count": 48
        }
      ],
      "source": [
        "# Create tensor\n",
        "x = torch.arange(0,100,10)\n",
        "x"
      ]
    },
    {
      "cell_type": "code",
      "execution_count": 49,
      "metadata": {
        "colab": {
          "base_uri": "https://localhost:8080/"
        },
        "id": "9Lmpnqf8ZhIH",
        "outputId": "cafe98e2-a2e7-4530-bfb1-5c83c88de2d4"
      },
      "outputs": [
        {
          "output_type": "execute_result",
          "data": {
            "text/plain": [
              "(tensor(90), tensor(90))"
            ]
          },
          "metadata": {},
          "execution_count": 49
        }
      ],
      "source": [
        "# For finding max\n",
        "torch.max(x), x.max()"
      ]
    },
    {
      "cell_type": "code",
      "execution_count": 50,
      "metadata": {
        "colab": {
          "base_uri": "https://localhost:8080/"
        },
        "id": "jNYSpeoaZwsj",
        "outputId": "c74f501a-0046-4607-8e5d-db0abe9979dc"
      },
      "outputs": [
        {
          "output_type": "stream",
          "name": "stdout",
          "text": [
            "torch.int64\n"
          ]
        },
        {
          "output_type": "execute_result",
          "data": {
            "text/plain": [
              "tensor(45.)"
            ]
          },
          "metadata": {},
          "execution_count": 50
        }
      ],
      "source": [
        "print(x.dtype)\n",
        "x=x.float()\n",
        "\n",
        "torch.mean(x)"
      ]
    },
    {
      "cell_type": "code",
      "execution_count": 51,
      "metadata": {
        "colab": {
          "base_uri": "https://localhost:8080/"
        },
        "id": "N53lQA4fZ0oV",
        "outputId": "db939124-3382-4828-f222-e28d913b02ff"
      },
      "outputs": [
        {
          "output_type": "execute_result",
          "data": {
            "text/plain": [
              "torch.float32"
            ]
          },
          "metadata": {},
          "execution_count": 51
        }
      ],
      "source": [
        "x.dtype"
      ]
    },
    {
      "cell_type": "code",
      "execution_count": 52,
      "metadata": {
        "colab": {
          "base_uri": "https://localhost:8080/"
        },
        "id": "iCBkhbR-Z_a_",
        "outputId": "fccb2cbc-9eec-4167-c04f-47860c973475"
      },
      "outputs": [
        {
          "output_type": "execute_result",
          "data": {
            "text/plain": [
              "tensor(450.)"
            ]
          },
          "metadata": {},
          "execution_count": 52
        }
      ],
      "source": [
        "# Find the sum\n",
        "torch.sum(x)"
      ]
    },
    {
      "cell_type": "markdown",
      "metadata": {
        "id": "BV2g9ecBafSp"
      },
      "source": [
        "### Find the positional min and max"
      ]
    },
    {
      "cell_type": "code",
      "execution_count": 53,
      "metadata": {
        "colab": {
          "base_uri": "https://localhost:8080/"
        },
        "id": "4D62U3P1abpd",
        "outputId": "4b812104-69ad-48dc-d877-10122ed8ac29"
      },
      "outputs": [
        {
          "output_type": "execute_result",
          "data": {
            "text/plain": [
              "tensor(0)"
            ]
          },
          "metadata": {},
          "execution_count": 53
        }
      ],
      "source": [
        "x.argmin()\n"
      ]
    },
    {
      "cell_type": "code",
      "execution_count": 53,
      "metadata": {
        "id": "26e5HWPF8ruB"
      },
      "outputs": [],
      "source": []
    },
    {
      "cell_type": "code",
      "execution_count": 54,
      "metadata": {
        "colab": {
          "base_uri": "https://localhost:8080/"
        },
        "id": "9ZCbmx99ao4P",
        "outputId": "951215fe-0c98-46c4-cf8a-0bab65da8a47"
      },
      "outputs": [
        {
          "output_type": "execute_result",
          "data": {
            "text/plain": [
              "tensor(9)"
            ]
          },
          "metadata": {},
          "execution_count": 54
        }
      ],
      "source": [
        "x.argmax()"
      ]
    },
    {
      "cell_type": "markdown",
      "metadata": {
        "id": "Anb3ObI4bND-"
      },
      "source": [
        "## Reshaping, stacking, squeezing and unsqueezung tensors\n",
        "\n",
        "\n",
        "*   Reshaping-reshape an input tensor to a define shape\n",
        "*   View-Return a view of an imput tensor of cetain shape but keep the same memory as the original tensor\n",
        "*   Stacking -combine multiple tensor on the top of each other (vstack) or side by side (hstack)\n",
        "*   Squeeze - remove all `1` dimension from the tensor\n",
        "* Unsqeeze - add a `1` dimension to a target tensor\n",
        "* Permute - Return a view of the input with dimensions permuted (swapped) in a cetain way\n",
        "\n",
        "\n"
      ]
    },
    {
      "cell_type": "code",
      "execution_count": 55,
      "metadata": {
        "colab": {
          "base_uri": "https://localhost:8080/"
        },
        "id": "NfbRyFMtatw0",
        "outputId": "a34eddbd-d6a4-43b2-ce2f-b276f06a8272"
      },
      "outputs": [
        {
          "output_type": "execute_result",
          "data": {
            "text/plain": [
              "(tensor([ 1.,  2.,  3.,  4.,  5.,  6.,  7.,  8.,  9., 10., 11., 12.]),\n",
              " torch.Size([12]))"
            ]
          },
          "metadata": {},
          "execution_count": 55
        }
      ],
      "source": [
        "# let create the tensor\n",
        "import torch\n",
        "x= torch.arange(1.,13.)\n",
        "x, x.shape"
      ]
    },
    {
      "cell_type": "code",
      "execution_count": 56,
      "metadata": {
        "colab": {
          "base_uri": "https://localhost:8080/"
        },
        "id": "DHQCQXmmFR-f",
        "outputId": "61b0924f-56de-4030-dbe7-e79e637cee49"
      },
      "outputs": [
        {
          "output_type": "execute_result",
          "data": {
            "text/plain": [
              "(tensor([[ 1.,  2.,  3.,  4.],\n",
              "         [ 5.,  6.,  7.,  8.],\n",
              "         [ 9., 10., 11., 12.]]),\n",
              " torch.Size([3, 4]))"
            ]
          },
          "metadata": {},
          "execution_count": 56
        }
      ],
      "source": [
        "# Add an extra reshape dimension\n",
        "x_reshaped=x.reshape(3,4)\n",
        "x_reshaped, x_reshaped.shape\n"
      ]
    },
    {
      "cell_type": "code",
      "execution_count": 57,
      "metadata": {
        "colab": {
          "base_uri": "https://localhost:8080/"
        },
        "id": "3G1idvRdFi3p",
        "outputId": "ad16634c-c1c9-425b-c8ed-ecad6772fadf"
      },
      "outputs": [
        {
          "output_type": "execute_result",
          "data": {
            "text/plain": [
              "(tensor([[ 1.,  2.,  3.,  4.,  5.,  6.,  7.,  8.,  9., 10., 11., 12.]]),\n",
              " torch.Size([1, 12]))"
            ]
          },
          "metadata": {},
          "execution_count": 57
        }
      ],
      "source": [
        "# Change the view\n",
        "z=x.view(1,12)\n",
        "z,z.shape"
      ]
    },
    {
      "cell_type": "code",
      "execution_count": 58,
      "metadata": {
        "colab": {
          "base_uri": "https://localhost:8080/"
        },
        "id": "LRnKuGX0GluM",
        "outputId": "bfcaff15-2158-42a1-bab7-941b3ac13ff3"
      },
      "outputs": [
        {
          "output_type": "execute_result",
          "data": {
            "text/plain": [
              "(tensor([[ 5.,  2.,  3.,  4.,  5.,  6.,  7.,  8.,  9., 10., 11., 12.]]),\n",
              " tensor([ 5.,  2.,  3.,  4.,  5.,  6.,  7.,  8.,  9., 10., 11., 12.]))"
            ]
          },
          "metadata": {},
          "execution_count": 58
        }
      ],
      "source": [
        "# changing z changes x (because a view of a tensor shares the same memroy as the original)\n",
        "z[:,0] = 5\n",
        "z,x"
      ]
    },
    {
      "cell_type": "code",
      "execution_count": 59,
      "metadata": {
        "id": "ZDi9bO6sG5jP"
      },
      "outputs": [],
      "source": [
        "# Stack tensors on the top of the each other\n",
        "x_stacked = torch.stack([x,x,x,x], dim=1)"
      ]
    },
    {
      "cell_type": "code",
      "execution_count": 60,
      "metadata": {
        "colab": {
          "base_uri": "https://localhost:8080/"
        },
        "id": "ihh47u61IFU7",
        "outputId": "0d62ce45-2f74-4d29-9c13-f5097dead8d4"
      },
      "outputs": [
        {
          "output_type": "execute_result",
          "data": {
            "text/plain": [
              "tensor([[ 5.,  5.,  5.,  5.],\n",
              "        [ 2.,  2.,  2.,  2.],\n",
              "        [ 3.,  3.,  3.,  3.],\n",
              "        [ 4.,  4.,  4.,  4.],\n",
              "        [ 5.,  5.,  5.,  5.],\n",
              "        [ 6.,  6.,  6.,  6.],\n",
              "        [ 7.,  7.,  7.,  7.],\n",
              "        [ 8.,  8.,  8.,  8.],\n",
              "        [ 9.,  9.,  9.,  9.],\n",
              "        [10., 10., 10., 10.],\n",
              "        [11., 11., 11., 11.],\n",
              "        [12., 12., 12., 12.]])"
            ]
          },
          "metadata": {},
          "execution_count": 60
        }
      ],
      "source": [
        "x_stacked"
      ]
    },
    {
      "cell_type": "code",
      "execution_count": 61,
      "metadata": {
        "colab": {
          "base_uri": "https://localhost:8080/"
        },
        "id": "noSUUutjIIIH",
        "outputId": "c0a2a221-4b6b-4e97-9bbe-71efb9b194d4"
      },
      "outputs": [
        {
          "output_type": "execute_result",
          "data": {
            "text/plain": [
              "tensor([[ 5.,  2.,  3.,  4.],\n",
              "        [ 5.,  6.,  7.,  8.],\n",
              "        [ 9., 10., 11., 12.]])"
            ]
          },
          "metadata": {},
          "execution_count": 61
        }
      ],
      "source": [
        "# torch.squeeze () - remove all single dimensions from a target tensor\n",
        "x_reshaped"
      ]
    },
    {
      "cell_type": "code",
      "execution_count": 62,
      "metadata": {
        "colab": {
          "base_uri": "https://localhost:8080/"
        },
        "id": "LaoiStWHIszp",
        "outputId": "bd8f162f-f5b6-42a5-b9d3-16efc0801a33"
      },
      "outputs": [
        {
          "output_type": "execute_result",
          "data": {
            "text/plain": [
              "tensor([[ 5.,  2.,  3.,  4.],\n",
              "        [ 5.,  6.,  7.,  8.],\n",
              "        [ 9., 10., 11., 12.]])"
            ]
          },
          "metadata": {},
          "execution_count": 62
        }
      ],
      "source": [
        "x_reshaped.squeeze()"
      ]
    },
    {
      "cell_type": "code",
      "execution_count": 63,
      "metadata": {
        "colab": {
          "base_uri": "https://localhost:8080/"
        },
        "id": "2oUZo4LqIyON",
        "outputId": "d9d0c51a-1d3d-43b4-981e-5d61efdd660e"
      },
      "outputs": [
        {
          "output_type": "execute_result",
          "data": {
            "text/plain": [
              "torch.Size([3, 4])"
            ]
          },
          "metadata": {},
          "execution_count": 63
        }
      ],
      "source": [
        "x_reshaped.squeeze().shape"
      ]
    },
    {
      "cell_type": "code",
      "execution_count": 64,
      "metadata": {
        "colab": {
          "base_uri": "https://localhost:8080/"
        },
        "id": "BmI0GinWI9o6",
        "outputId": "af4dee86-6ba8-4a20-c3f1-eae4e529673f"
      },
      "outputs": [
        {
          "output_type": "execute_result",
          "data": {
            "text/plain": [
              "(tensor([ 1.,  2.,  3.,  4.,  5.,  6.,  7.,  8.,  9., 10., 11., 12.]),\n",
              " torch.Size([12]))"
            ]
          },
          "metadata": {},
          "execution_count": 64
        }
      ],
      "source": [
        "y= torch.arange(1.,13.)\n",
        "y, y.shape"
      ]
    },
    {
      "cell_type": "code",
      "execution_count": 65,
      "metadata": {
        "colab": {
          "base_uri": "https://localhost:8080/"
        },
        "id": "YOobNSexJHtD",
        "outputId": "0489ab3d-e18c-4f8c-97ed-ccb3237d50c4"
      },
      "outputs": [
        {
          "output_type": "execute_result",
          "data": {
            "text/plain": [
              "torch.Size([1, 12])"
            ]
          },
          "metadata": {},
          "execution_count": 65
        }
      ],
      "source": [
        "y_reshaped=y.reshape(1,12)\n",
        "y_reshaped.shape"
      ]
    },
    {
      "cell_type": "code",
      "execution_count": 66,
      "metadata": {
        "colab": {
          "base_uri": "https://localhost:8080/"
        },
        "id": "nzZu3yESJS7Q",
        "outputId": "68d87275-648a-4e61-ada5-beabb2841d1c"
      },
      "outputs": [
        {
          "output_type": "execute_result",
          "data": {
            "text/plain": [
              "tensor([ 1.,  2.,  3.,  4.,  5.,  6.,  7.,  8.,  9., 10., 11., 12.])"
            ]
          },
          "metadata": {},
          "execution_count": 66
        }
      ],
      "source": [
        "y_reshaped.squeeze()\n"
      ]
    },
    {
      "cell_type": "code",
      "execution_count": 67,
      "metadata": {
        "colab": {
          "base_uri": "https://localhost:8080/"
        },
        "id": "1_eWiDeqJeig",
        "outputId": "5d68a431-0589-4ce1-b138-21f08712a83d"
      },
      "outputs": [
        {
          "output_type": "execute_result",
          "data": {
            "text/plain": [
              "torch.Size([12])"
            ]
          },
          "metadata": {},
          "execution_count": 67
        }
      ],
      "source": [
        "y_reshaped.squeeze().shape"
      ]
    },
    {
      "cell_type": "code",
      "execution_count": 68,
      "metadata": {
        "colab": {
          "base_uri": "https://localhost:8080/"
        },
        "id": "X7_NIx3fJjhM",
        "outputId": "432c59c1-7621-439a-e874-9f4ad095b7b1"
      },
      "outputs": [
        {
          "output_type": "execute_result",
          "data": {
            "text/plain": [
              "tensor([[[0.2892, 0.7025, 0.2993,  ..., 0.7112, 0.1075, 0.7167],\n",
              "         [0.3967, 0.0955, 0.5907,  ..., 0.9144, 0.7829, 0.5373],\n",
              "         [0.2309, 0.9099, 0.7715,  ..., 0.8150, 0.1096, 0.8025],\n",
              "         ...,\n",
              "         [0.7834, 0.2638, 0.9520,  ..., 0.0795, 0.0191, 0.5549],\n",
              "         [0.7814, 0.0814, 0.1501,  ..., 0.9939, 0.4764, 0.2005],\n",
              "         [0.3871, 0.3771, 0.7346,  ..., 0.2226, 0.4159, 0.5896]],\n",
              "\n",
              "        [[0.7157, 0.4997, 0.7801,  ..., 0.6234, 0.5680, 0.2434],\n",
              "         [0.8801, 0.4886, 0.3504,  ..., 0.6718, 0.8551, 0.9243],\n",
              "         [0.1803, 0.3869, 0.7691,  ..., 0.6455, 0.0991, 0.5267],\n",
              "         ...,\n",
              "         [0.9471, 0.2443, 0.7158,  ..., 0.6727, 0.7393, 0.4586],\n",
              "         [0.1676, 0.7135, 0.6474,  ..., 0.2367, 0.2742, 0.7914],\n",
              "         [0.8285, 0.4853, 0.5500,  ..., 0.5639, 0.8801, 0.0647]],\n",
              "\n",
              "        [[0.6075, 0.4453, 0.9286,  ..., 0.6937, 0.1132, 0.1318],\n",
              "         [0.1752, 0.8720, 0.3650,  ..., 0.1911, 0.6483, 0.6642],\n",
              "         [0.4260, 0.2819, 0.1797,  ..., 0.6435, 0.1278, 0.5529],\n",
              "         ...,\n",
              "         [0.3012, 0.4493, 0.0257,  ..., 0.7204, 0.8116, 0.7383],\n",
              "         [0.2237, 0.5179, 0.9220,  ..., 0.6909, 0.1989, 0.3949],\n",
              "         [0.5867, 0.8797, 0.5662,  ..., 0.6331, 0.5185, 0.0665]]])"
            ]
          },
          "metadata": {},
          "execution_count": 68
        }
      ],
      "source": [
        "#  torch.permute - rearrange the dimensions of a target in a specified order\n",
        "x_original =torch.rand(size=(224, 224, 3))\n",
        "x_original\n",
        "# permute the original tensor to rearrange the axis(or dim) order\n",
        "x_permuted=x_original.permute(2,0,1)\n",
        "x_permuted"
      ]
    },
    {
      "cell_type": "code",
      "execution_count": 69,
      "metadata": {
        "colab": {
          "base_uri": "https://localhost:8080/"
        },
        "id": "EdyJLK00LPh7",
        "outputId": "ad2cd1c5-090e-4821-f5ee-5bd775f6edf4"
      },
      "outputs": [
        {
          "output_type": "stream",
          "name": "stdout",
          "text": [
            "Previous shape:torch.Size([224, 224, 3])\n",
            "New shape:torch.Size([3, 224, 224])\n"
          ]
        }
      ],
      "source": [
        "print(f\"Previous shape:{x_original.shape}\")\n",
        "print(f\"New shape:{x_permuted.shape}\")"
      ]
    },
    {
      "cell_type": "markdown",
      "metadata": {
        "id": "r4kEQMLhRFjc"
      },
      "source": [
        "# **Indexing (selecting data from tensors)**\n",
        "Indexing with pytorch is similar to indexing with NumPy"
      ]
    },
    {
      "cell_type": "code",
      "execution_count": 70,
      "metadata": {
        "colab": {
          "base_uri": "https://localhost:8080/"
        },
        "id": "QvyrL1urQXmQ",
        "outputId": "f857102e-b2ce-4ddb-d933-00e1f22f43a7"
      },
      "outputs": [
        {
          "output_type": "execute_result",
          "data": {
            "text/plain": [
              "(tensor([[[1, 2, 3],\n",
              "          [4, 5, 6],\n",
              "          [7, 8, 9]]]),\n",
              " torch.Size([1, 3, 3]))"
            ]
          },
          "metadata": {},
          "execution_count": 70
        }
      ],
      "source": [
        "# Create a tensor\n",
        "x=torch.arange(1,10).reshape(1,3,3)\n",
        "x, x.shape"
      ]
    },
    {
      "cell_type": "code",
      "execution_count": 71,
      "metadata": {
        "colab": {
          "base_uri": "https://localhost:8080/"
        },
        "id": "h1uSpS0pRy79",
        "outputId": "6f962f5c-a583-4a10-9f7a-42132eedbbf3"
      },
      "outputs": [
        {
          "output_type": "execute_result",
          "data": {
            "text/plain": [
              "tensor([[1, 2, 3],\n",
              "        [4, 5, 6],\n",
              "        [7, 8, 9]])"
            ]
          },
          "metadata": {},
          "execution_count": 71
        }
      ],
      "source": [
        "# indexing on our new tensor\n",
        "x[0]"
      ]
    },
    {
      "cell_type": "code",
      "execution_count": 72,
      "metadata": {
        "colab": {
          "base_uri": "https://localhost:8080/"
        },
        "id": "RnWVJczaSC4t",
        "outputId": "a5c16b8a-372a-4f78-e53f-897eda2af73b"
      },
      "outputs": [
        {
          "output_type": "execute_result",
          "data": {
            "text/plain": [
              "tensor([1, 2, 3])"
            ]
          },
          "metadata": {},
          "execution_count": 72
        }
      ],
      "source": [
        "# let's index on the middle bracket (dim=1)\n",
        "x[0][0]"
      ]
    },
    {
      "cell_type": "code",
      "execution_count": 73,
      "metadata": {
        "colab": {
          "base_uri": "https://localhost:8080/"
        },
        "id": "0XC-NebFSFNb",
        "outputId": "265db5f0-2234-4e82-d86c-c924ec126519"
      },
      "outputs": [
        {
          "output_type": "execute_result",
          "data": {
            "text/plain": [
              "tensor(1)"
            ]
          },
          "metadata": {},
          "execution_count": 73
        }
      ],
      "source": [
        "# lets index on the inner bracket last dimension(dim=2)\n",
        "x[0][0][0]"
      ]
    },
    {
      "cell_type": "code",
      "execution_count": 74,
      "metadata": {
        "colab": {
          "base_uri": "https://localhost:8080/"
        },
        "id": "QQfwtRUsSZyS",
        "outputId": "9d8922b7-e2b4-43f2-c51b-d519da05fa62"
      },
      "outputs": [
        {
          "output_type": "execute_result",
          "data": {
            "text/plain": [
              "tensor(5)"
            ]
          },
          "metadata": {},
          "execution_count": 74
        }
      ],
      "source": [
        "x[0][1][1]"
      ]
    },
    {
      "cell_type": "code",
      "execution_count": 75,
      "metadata": {
        "colab": {
          "base_uri": "https://localhost:8080/"
        },
        "id": "PtggVSMzSkf9",
        "outputId": "e58fa106-a266-4be4-eb48-fae8e7057067"
      },
      "outputs": [
        {
          "output_type": "execute_result",
          "data": {
            "text/plain": [
              "tensor(9)"
            ]
          },
          "metadata": {},
          "execution_count": 75
        }
      ],
      "source": [
        "x[0][2][2]"
      ]
    },
    {
      "cell_type": "code",
      "execution_count": 76,
      "metadata": {
        "colab": {
          "base_uri": "https://localhost:8080/"
        },
        "id": "8fJ269QrSo1F",
        "outputId": "aac97415-f234-44b4-b2aa-826bd2f8a270"
      },
      "outputs": [
        {
          "output_type": "execute_result",
          "data": {
            "text/plain": [
              "tensor([[1, 2, 3]])"
            ]
          },
          "metadata": {},
          "execution_count": 76
        }
      ],
      "source": [
        "# Also can use \":\" to select \"all\" of a target dimension\n",
        "x[:, 0]"
      ]
    },
    {
      "cell_type": "code",
      "execution_count": 77,
      "metadata": {
        "colab": {
          "base_uri": "https://localhost:8080/"
        },
        "id": "7TMMGRLrSza4",
        "outputId": "11cc5b3d-e95c-4f37-a0b0-e2c3ca9726cb"
      },
      "outputs": [
        {
          "output_type": "execute_result",
          "data": {
            "text/plain": [
              "tensor([[2, 5, 8]])"
            ]
          },
          "metadata": {},
          "execution_count": 77
        }
      ],
      "source": [
        "# get all element of oth and 1st dimension but only index 1 of 2nd dimension\n",
        "x[:,:,1]"
      ]
    },
    {
      "cell_type": "code",
      "execution_count": 78,
      "metadata": {
        "colab": {
          "base_uri": "https://localhost:8080/"
        },
        "id": "mFKGvC5RTBqa",
        "outputId": "56ee4f0f-4102-49e3-fc73-861f92bf2940"
      },
      "outputs": [
        {
          "output_type": "execute_result",
          "data": {
            "text/plain": [
              "tensor([5])"
            ]
          },
          "metadata": {},
          "execution_count": 78
        }
      ],
      "source": [
        "# Get all values of the 0 dimension but oly the 1 index value of 1st and 2nd dimension\n",
        "x[:, 1, 1]"
      ]
    },
    {
      "cell_type": "code",
      "execution_count": 79,
      "metadata": {
        "colab": {
          "base_uri": "https://localhost:8080/"
        },
        "id": "iT9V57C9TWWe",
        "outputId": "0392d9b9-44a5-44ec-c3fc-41003e753c9f"
      },
      "outputs": [
        {
          "output_type": "execute_result",
          "data": {
            "text/plain": [
              "tensor([[1, 2, 3],\n",
              "        [4, 5, 6],\n",
              "        [7, 8, 9]])"
            ]
          },
          "metadata": {},
          "execution_count": 79
        }
      ],
      "source": [
        "# Get index 0 of oth and 1st dimension and all valus of 2nd dimension\n",
        "x[0,:,:]"
      ]
    },
    {
      "cell_type": "code",
      "execution_count": 80,
      "metadata": {
        "colab": {
          "base_uri": "https://localhost:8080/"
        },
        "id": "vmI4zFRcTfNp",
        "outputId": "2b0aea66-d564-4ef3-ea6c-a02a78703c43"
      },
      "outputs": [
        {
          "output_type": "stream",
          "name": "stdout",
          "text": [
            "tensor([[3, 6, 9]])\n"
          ]
        }
      ],
      "source": [
        "# index to retturn 3 6 9\n",
        "print(x[:, :, 2])"
      ]
    },
    {
      "cell_type": "markdown",
      "metadata": {
        "id": "vyZ8Qta2UVW7"
      },
      "source": [
        "# Pytorch tensor and Numpy\n",
        " Data in numpy to  in pytorch tensor-> `torch.from_numpy(ndarray)`\n",
        "\n",
        "\n",
        " Data in tensor to numpy -> `torch.Tensor.numpy`"
      ]
    },
    {
      "cell_type": "code",
      "execution_count": 81,
      "metadata": {
        "id": "F-NNTgbtUVKN"
      },
      "outputs": [],
      "source": [
        "# Numpy array to tensor\n",
        "import torch\n",
        "import numpy as np\n",
        "array=np.arange(1.0,8.0)\n",
        "tensor= torch.from_numpy(array).type(torch.float32) # Always check ther dimension before converting"
      ]
    },
    {
      "cell_type": "code",
      "execution_count": 82,
      "metadata": {
        "colab": {
          "base_uri": "https://localhost:8080/"
        },
        "id": "znTklXGvUDRl",
        "outputId": "f21ea919-1731-4da8-ce11-2491e911029e"
      },
      "outputs": [
        {
          "output_type": "execute_result",
          "data": {
            "text/plain": [
              "(array([1., 2., 3., 4., 5., 6., 7.]), tensor([1., 2., 3., 4., 5., 6., 7.]))"
            ]
          },
          "metadata": {},
          "execution_count": 82
        }
      ],
      "source": [
        "array,tensor\n"
      ]
    },
    {
      "cell_type": "code",
      "source": [
        "# Tensor to numpy array\n",
        "tensor =torch.ones(7)\n",
        "numpy_tensor = tensor.numpy()\n",
        "tensor,numpy_tensor"
      ],
      "metadata": {
        "colab": {
          "base_uri": "https://localhost:8080/"
        },
        "id": "hxT-0cjlW55I",
        "outputId": "baafbfaf-9547-4c59-dd62-aa2d2b5d2342"
      },
      "execution_count": 83,
      "outputs": [
        {
          "output_type": "execute_result",
          "data": {
            "text/plain": [
              "(tensor([1., 1., 1., 1., 1., 1., 1.]),\n",
              " array([1., 1., 1., 1., 1., 1., 1.], dtype=float32))"
            ]
          },
          "metadata": {},
          "execution_count": 83
        }
      ]
    },
    {
      "cell_type": "markdown",
      "source": [
        "# Reproducbility (trying to take random out of random)\n",
        "TO reduce the randomness in neural networks and Pytorch comes the concept of a **randomseed**"
      ],
      "metadata": {
        "id": "ZoGqV_HwYOcE"
      }
    },
    {
      "cell_type": "code",
      "source": [
        "import random\n",
        "# Create two random tensors\n",
        "random_A= torch.rand(3,4)\n",
        "random_B=torch.rand(3,4)\n",
        "\n",
        "print(random_A)\n",
        "print(random_B)\n",
        "print(random_A==random_B)"
      ],
      "metadata": {
        "colab": {
          "base_uri": "https://localhost:8080/"
        },
        "id": "39QOYOc6XpZa",
        "outputId": "6acd13a8-51da-4c0e-f480-711040501464"
      },
      "execution_count": 84,
      "outputs": [
        {
          "output_type": "stream",
          "name": "stdout",
          "text": [
            "tensor([[0.9780, 0.0704, 0.9577, 0.3400],\n",
            "        [0.7980, 0.8606, 0.4920, 0.8105],\n",
            "        [0.2358, 0.0400, 0.9044, 0.2661]])\n",
            "tensor([[0.5262, 0.2607, 0.9654, 0.7608],\n",
            "        [0.5476, 0.1733, 0.1339, 0.4712],\n",
            "        [0.0219, 0.4232, 0.8116, 0.1256]])\n",
            "tensor([[False, False, False, False],\n",
            "        [False, False, False, False],\n",
            "        [False, False, False, False]])\n"
          ]
        }
      ]
    },
    {
      "cell_type": "code",
      "source": [
        "import torch\n",
        "# Set the random seed\n",
        "RANDOM_SEED=42\n",
        "torch.manual_seed(RANDOM_SEED)\n",
        "\n",
        "random_C =torch.rand(3,4)\n",
        "\n",
        "torch.manual_seed(RANDOM_SEED)\n",
        "random_D = torch.rand(3,4)\n",
        "\n",
        "print(random_C)\n",
        "print(random_D)\n",
        "print(random_C==random_D)"
      ],
      "metadata": {
        "id": "mopUceE4a1og",
        "colab": {
          "base_uri": "https://localhost:8080/"
        },
        "outputId": "6b4a4877-d202-4678-ec57-49d40de2d391"
      },
      "execution_count": 85,
      "outputs": [
        {
          "output_type": "stream",
          "name": "stdout",
          "text": [
            "tensor([[0.8823, 0.9150, 0.3829, 0.9593],\n",
            "        [0.3904, 0.6009, 0.2566, 0.7936],\n",
            "        [0.9408, 0.1332, 0.9346, 0.5936]])\n",
            "tensor([[0.8823, 0.9150, 0.3829, 0.9593],\n",
            "        [0.3904, 0.6009, 0.2566, 0.7936],\n",
            "        [0.9408, 0.1332, 0.9346, 0.5936]])\n",
            "tensor([[True, True, True, True],\n",
            "        [True, True, True, True],\n",
            "        [True, True, True, True]])\n"
          ]
        }
      ]
    },
    {
      "cell_type": "markdown",
      "source": [
        "# Check for GPu acess with pytorch\n"
      ],
      "metadata": {
        "id": "oOrfyg9V7gfW"
      }
    },
    {
      "cell_type": "code",
      "source": [
        "import torch\n",
        "torch.cuda.is_available()"
      ],
      "metadata": {
        "colab": {
          "base_uri": "https://localhost:8080/"
        },
        "id": "fcoow4y47CFP",
        "outputId": "e20975d1-7114-42c3-e29e-f75108eb43fe"
      },
      "execution_count": 1,
      "outputs": [
        {
          "output_type": "execute_result",
          "data": {
            "text/plain": [
              "False"
            ]
          },
          "metadata": {},
          "execution_count": 1
        }
      ]
    },
    {
      "cell_type": "code",
      "source": [],
      "metadata": {
        "id": "4rFHAAGK_g4p"
      },
      "execution_count": 87,
      "outputs": []
    }
  ],
  "metadata": {
    "colab": {
      "provenance": [],
      "authorship_tag": "ABX9TyOIBvOygT2pq/LRxsbT+4yD",
      "include_colab_link": true
    },
    "kernelspec": {
      "display_name": "Python 3",
      "name": "python3"
    },
    "language_info": {
      "name": "python"
    }
  },
  "nbformat": 4,
  "nbformat_minor": 0
}