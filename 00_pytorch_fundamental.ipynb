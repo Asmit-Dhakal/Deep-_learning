{
  "cells": [
    {
      "cell_type": "markdown",
      "metadata": {
        "id": "view-in-github",
        "colab_type": "text"
      },
      "source": [
        "<a href=\"https://colab.research.google.com/github/Asmit-Dhakal/Deep_learning/blob/main/00_pytorch_fundamental.ipynb\" target=\"_parent\"><img src=\"https://colab.research.google.com/assets/colab-badge.svg\" alt=\"Open In Colab\"/></a>"
      ]
    },
    {
      "cell_type": "markdown",
      "metadata": {
        "id": "Rb-J8iKUNaz4"
      },
      "source": []
    },
    {
      "cell_type": "code",
      "execution_count": 1,
      "metadata": {
        "colab": {
          "base_uri": "https://localhost:8080/"
        },
        "id": "m8PXVppXItq3",
        "outputId": "6ab8b682-448c-49e4-99c3-1c730e414df7"
      },
      "outputs": [
        {
          "output_type": "stream",
          "name": "stdout",
          "text": [
            "2.2.1+cu121\n"
          ]
        }
      ],
      "source": [
        "import torch\n",
        "import pandas as pd\n",
        "import numpy as np\n",
        "import matplotlib.pyplot as plt\n",
        "print(torch.__version__)\n"
      ]
    },
    {
      "cell_type": "markdown",
      "metadata": {
        "id": "t-fYPyKmN9G6"
      },
      "source": [
        "# **Introduction to Tensors**\n",
        "Creating tensors"
      ]
    },
    {
      "cell_type": "code",
      "execution_count": 2,
      "metadata": {
        "colab": {
          "base_uri": "https://localhost:8080/"
        },
        "id": "4Fw1FGKVNtXD",
        "outputId": "f458c695-0050-4228-e684-a791486a6ea5"
      },
      "outputs": [
        {
          "output_type": "execute_result",
          "data": {
            "text/plain": [
              "tensor(7)"
            ]
          },
          "metadata": {},
          "execution_count": 2
        }
      ],
      "source": [
        "# scalar\n",
        "scalar = torch.tensor(7)\n",
        "scalar\n"
      ]
    },
    {
      "cell_type": "code",
      "execution_count": 3,
      "metadata": {
        "colab": {
          "base_uri": "https://localhost:8080/"
        },
        "id": "vhxbni6iOXx5",
        "outputId": "c92c18a7-eb08-44be-9580-3b3322637638"
      },
      "outputs": [
        {
          "output_type": "execute_result",
          "data": {
            "text/plain": [
              "0"
            ]
          },
          "metadata": {},
          "execution_count": 3
        }
      ],
      "source": [
        "# Get tensor back as python int\n",
        "scalar.ndim\n"
      ]
    },
    {
      "cell_type": "code",
      "execution_count": 4,
      "metadata": {
        "id": "CenJssISQPoj"
      },
      "outputs": [],
      "source": [
        "# Vector\n",
        "vector=torch.tensor([7,7])"
      ]
    },
    {
      "cell_type": "code",
      "execution_count": 5,
      "metadata": {
        "colab": {
          "base_uri": "https://localhost:8080/"
        },
        "id": "08GtshjmROF4",
        "outputId": "bf16f9a8-f009-4f27-d179-ddd1eac8b93d"
      },
      "outputs": [
        {
          "output_type": "execute_result",
          "data": {
            "text/plain": [
              "tensor([7, 7])"
            ]
          },
          "metadata": {},
          "execution_count": 5
        }
      ],
      "source": [
        "vector"
      ]
    },
    {
      "cell_type": "code",
      "execution_count": 6,
      "metadata": {
        "colab": {
          "base_uri": "https://localhost:8080/"
        },
        "id": "xWa93zq_RQWT",
        "outputId": "aa815dbf-d56e-4d73-d560-876ff680d2b4"
      },
      "outputs": [
        {
          "output_type": "execute_result",
          "data": {
            "text/plain": [
              "torch.Size([2])"
            ]
          },
          "metadata": {},
          "execution_count": 6
        }
      ],
      "source": [
        "vector.shape"
      ]
    },
    {
      "cell_type": "code",
      "execution_count": 7,
      "metadata": {
        "colab": {
          "base_uri": "https://localhost:8080/"
        },
        "id": "PddtE5J8TD-H",
        "outputId": "c3d5dcc3-c04d-4a31-8d37-12bd495592ca"
      },
      "outputs": [
        {
          "output_type": "execute_result",
          "data": {
            "text/plain": [
              "tensor([[ 7,  8],\n",
              "        [ 9, 10]])"
            ]
          },
          "metadata": {},
          "execution_count": 7
        }
      ],
      "source": [
        " # matrix\n",
        "matrix=torch.tensor([[7,8],[9,10]])\n",
        "matrix"
      ]
    },
    {
      "cell_type": "code",
      "execution_count": 8,
      "metadata": {
        "colab": {
          "base_uri": "https://localhost:8080/"
        },
        "id": "_WCDL8_QTmlf",
        "outputId": "b0f5ce81-214e-4790-fd21-690c991e884d"
      },
      "outputs": [
        {
          "output_type": "execute_result",
          "data": {
            "text/plain": [
              "2"
            ]
          },
          "metadata": {},
          "execution_count": 8
        }
      ],
      "source": [
        "matrix.ndim"
      ]
    },
    {
      "cell_type": "code",
      "execution_count": 9,
      "metadata": {
        "colab": {
          "base_uri": "https://localhost:8080/"
        },
        "id": "EqKMhGZJU0ME",
        "outputId": "f1b2a5a9-da33-41d5-92a8-c13f3710e443"
      },
      "outputs": [
        {
          "output_type": "execute_result",
          "data": {
            "text/plain": [
              "torch.Size([2, 2])"
            ]
          },
          "metadata": {},
          "execution_count": 9
        }
      ],
      "source": [
        "matrix[1]\n",
        "matrix.shape"
      ]
    },
    {
      "cell_type": "code",
      "execution_count": 10,
      "metadata": {
        "id": "lL0ebLrdVBt6"
      },
      "outputs": [],
      "source": [
        "# Tensor\n",
        "tensor =torch.tensor([[[1,2,3],[4,5,6],[7,8,9]]])"
      ]
    },
    {
      "cell_type": "code",
      "execution_count": 11,
      "metadata": {
        "colab": {
          "base_uri": "https://localhost:8080/"
        },
        "id": "7h4aTUFeVdGx",
        "outputId": "833bbc05-bb8d-4d31-b5bc-a2cb3823f772"
      },
      "outputs": [
        {
          "output_type": "execute_result",
          "data": {
            "text/plain": [
              "tensor([[[1, 2, 3],\n",
              "         [4, 5, 6],\n",
              "         [7, 8, 9]]])"
            ]
          },
          "metadata": {},
          "execution_count": 11
        }
      ],
      "source": [
        "tensor"
      ]
    },
    {
      "cell_type": "code",
      "execution_count": 12,
      "metadata": {
        "colab": {
          "base_uri": "https://localhost:8080/"
        },
        "id": "6McB5bHBVdv5",
        "outputId": "995aae3d-0725-4ab1-dcb4-e28ac32b7ee4"
      },
      "outputs": [
        {
          "output_type": "execute_result",
          "data": {
            "text/plain": [
              "torch.Size([1, 3, 3])"
            ]
          },
          "metadata": {},
          "execution_count": 12
        }
      ],
      "source": [
        "tensor.ndim\n",
        "tensor.shape\n"
      ]
    },
    {
      "cell_type": "code",
      "execution_count": 13,
      "metadata": {
        "colab": {
          "base_uri": "https://localhost:8080/"
        },
        "id": "2Z43ASbTVpwi",
        "outputId": "255b2483-e042-4383-f0c5-6515c9d3fc6c"
      },
      "outputs": [
        {
          "output_type": "execute_result",
          "data": {
            "text/plain": [
              "tensor([[1, 2, 3],\n",
              "        [4, 5, 6],\n",
              "        [7, 8, 9]])"
            ]
          },
          "metadata": {},
          "execution_count": 13
        }
      ],
      "source": [
        "tensor[0]"
      ]
    },
    {
      "cell_type": "markdown",
      "metadata": {
        "id": "nMrjROdQtwvP"
      },
      "source": [
        "### Random tensor\n",
        "`start with random numbers-> Looks at data -> updagte random numbers -> look at data -> update random numbers `"
      ]
    },
    {
      "cell_type": "code",
      "execution_count": 14,
      "metadata": {
        "id": "-_OmYB2oWJOB"
      },
      "outputs": [],
      "source": [
        "### Random tensor of size and shape (3,4)\n",
        "\n",
        "random_tensor= torch.rand(1,3,4)\n"
      ]
    },
    {
      "cell_type": "code",
      "execution_count": 15,
      "metadata": {
        "colab": {
          "base_uri": "https://localhost:8080/"
        },
        "id": "07l0KFD2vyVC",
        "outputId": "a231a308-e487-4dde-ad2f-455cff6bf953"
      },
      "outputs": [
        {
          "output_type": "execute_result",
          "data": {
            "text/plain": [
              "tensor([[[0.5141, 0.3023, 0.1232, 0.8288],\n",
              "         [0.5960, 0.3717, 0.0851, 0.1924],\n",
              "         [0.9103, 0.3867, 0.2550, 0.9612]]])"
            ]
          },
          "metadata": {},
          "execution_count": 15
        }
      ],
      "source": [
        "random_tensor"
      ]
    },
    {
      "cell_type": "code",
      "execution_count": 16,
      "metadata": {
        "colab": {
          "base_uri": "https://localhost:8080/"
        },
        "id": "03cbWTcGv0dF",
        "outputId": "a92e66d4-df56-48d0-ab97-0ad61ca513e6"
      },
      "outputs": [
        {
          "output_type": "execute_result",
          "data": {
            "text/plain": [
              "3"
            ]
          },
          "metadata": {},
          "execution_count": 16
        }
      ],
      "source": [
        "random_tensor.ndim"
      ]
    },
    {
      "cell_type": "code",
      "execution_count": 17,
      "metadata": {
        "id": "1qt7xIiOwDor"
      },
      "outputs": [],
      "source": [
        "# Create random tensor with similar shape to a image tensor\n",
        "random_image_size_tensor = torch.rand(size=(224,224,3)) # height, width, color channels(R G B)"
      ]
    },
    {
      "cell_type": "code",
      "execution_count": 18,
      "metadata": {
        "colab": {
          "base_uri": "https://localhost:8080/"
        },
        "id": "c4EKZt1Gw7ND",
        "outputId": "ecc99769-bdc1-4f4f-c8cf-9df0ab5ede85"
      },
      "outputs": [
        {
          "output_type": "execute_result",
          "data": {
            "text/plain": [
              "tensor([[[0.9321, 0.2511, 0.0661],\n",
              "         [0.1562, 0.9554, 0.2983],\n",
              "         [0.4593, 0.7951, 0.4501],\n",
              "         ...,\n",
              "         [0.4420, 0.2209, 0.4982],\n",
              "         [0.5345, 0.4876, 0.2301],\n",
              "         [0.6621, 0.3785, 0.3634]],\n",
              "\n",
              "        [[0.5556, 0.5551, 0.3708],\n",
              "         [0.2772, 0.6432, 0.6848],\n",
              "         [0.6465, 0.6563, 0.9706],\n",
              "         ...,\n",
              "         [0.6457, 0.9089, 0.7190],\n",
              "         [0.2411, 0.6009, 0.0349],\n",
              "         [0.3383, 0.1413, 0.4987]],\n",
              "\n",
              "        [[0.9295, 0.8131, 0.0166],\n",
              "         [0.1850, 0.8246, 0.8853],\n",
              "         [0.9274, 0.9882, 0.5127],\n",
              "         ...,\n",
              "         [0.7691, 0.7346, 0.7839],\n",
              "         [0.8870, 0.3504, 0.2012],\n",
              "         [0.9264, 0.4865, 0.3389]],\n",
              "\n",
              "        ...,\n",
              "\n",
              "        [[0.1673, 0.9442, 0.2091],\n",
              "         [0.0658, 0.8264, 0.4266],\n",
              "         [0.6726, 0.5580, 0.7933],\n",
              "         ...,\n",
              "         [0.9474, 0.9116, 0.2204],\n",
              "         [0.2407, 0.9980, 0.1128],\n",
              "         [0.7175, 0.0839, 0.6691]],\n",
              "\n",
              "        [[0.6162, 0.9914, 0.1366],\n",
              "         [0.0216, 0.4301, 0.5923],\n",
              "         [0.6644, 0.5215, 0.4195],\n",
              "         ...,\n",
              "         [0.9764, 0.3690, 0.8028],\n",
              "         [0.2546, 0.9922, 0.2840],\n",
              "         [0.8581, 0.9432, 0.1740]],\n",
              "\n",
              "        [[0.6409, 0.2843, 0.0399],\n",
              "         [0.0375, 0.2837, 0.7411],\n",
              "         [0.5625, 0.8642, 0.4358],\n",
              "         ...,\n",
              "         [0.6423, 0.5906, 0.3160],\n",
              "         [0.1234, 0.5143, 0.8060],\n",
              "         [0.6598, 0.4208, 0.4743]]])"
            ]
          },
          "metadata": {},
          "execution_count": 18
        }
      ],
      "source": [
        "random_image_size_tensor"
      ]
    },
    {
      "cell_type": "markdown",
      "metadata": {
        "id": "0GDQex-9xzch"
      },
      "source": [
        "## Zeros and Ones"
      ]
    },
    {
      "cell_type": "code",
      "execution_count": 19,
      "metadata": {
        "id": "av0fOERPxEUH"
      },
      "outputs": [],
      "source": [
        "# Create the tensors of o\n",
        "zeros = torch.zeros(size=(3,4))"
      ]
    },
    {
      "cell_type": "code",
      "execution_count": 20,
      "metadata": {
        "colab": {
          "base_uri": "https://localhost:8080/"
        },
        "id": "49QkINU3yFB0",
        "outputId": "ed4a54c8-ad03-49f2-fd3f-54baf8ccaf68"
      },
      "outputs": [
        {
          "output_type": "execute_result",
          "data": {
            "text/plain": [
              "tensor([[0., 0., 0., 0.],\n",
              "        [0., 0., 0., 0.],\n",
              "        [0., 0., 0., 0.]])"
            ]
          },
          "metadata": {},
          "execution_count": 20
        }
      ],
      "source": [
        "zeros"
      ]
    },
    {
      "cell_type": "code",
      "execution_count": 21,
      "metadata": {
        "id": "5uo2DOQTyGV0"
      },
      "outputs": [],
      "source": [
        "# Create the tensor of ones\n",
        "ones = torch.ones(size=(3,4))"
      ]
    },
    {
      "cell_type": "code",
      "execution_count": 22,
      "metadata": {
        "colab": {
          "base_uri": "https://localhost:8080/"
        },
        "id": "yZBGlHmzyebi",
        "outputId": "1ccb85dd-b291-4d88-d1bd-afa15ca7df5b"
      },
      "outputs": [
        {
          "output_type": "execute_result",
          "data": {
            "text/plain": [
              "tensor([[1., 1., 1., 1.],\n",
              "        [1., 1., 1., 1.],\n",
              "        [1., 1., 1., 1.]])"
            ]
          },
          "metadata": {},
          "execution_count": 22
        }
      ],
      "source": [
        "ones"
      ]
    },
    {
      "cell_type": "code",
      "execution_count": 23,
      "metadata": {
        "colab": {
          "base_uri": "https://localhost:8080/"
        },
        "id": "j2IWxj_byf45",
        "outputId": "26e2e83e-5ea8-4fcf-dffd-244f11c39b6d"
      },
      "outputs": [
        {
          "output_type": "execute_result",
          "data": {
            "text/plain": [
              "torch.float32"
            ]
          },
          "metadata": {},
          "execution_count": 23
        }
      ],
      "source": [
        "ones.dtype"
      ]
    },
    {
      "cell_type": "markdown",
      "metadata": {
        "id": "-lDl9dIrziI2"
      },
      "source": [
        "# Use torch.range()"
      ]
    },
    {
      "cell_type": "code",
      "execution_count": 24,
      "metadata": {
        "colab": {
          "base_uri": "https://localhost:8080/"
        },
        "id": "X0bghMhezhda",
        "outputId": "ecef1ffe-7cf7-4da3-c30c-a98f5a05e5a8"
      },
      "outputs": [
        {
          "output_type": "execute_result",
          "data": {
            "text/plain": [
              "tensor([0, 2, 4, 6, 8])"
            ]
          },
          "metadata": {},
          "execution_count": 24
        }
      ],
      "source": [
        "one_to_ten=torch.arange(start=0 ,end= 10, step=2)\n",
        "one_to_ten"
      ]
    },
    {
      "cell_type": "code",
      "execution_count": 25,
      "metadata": {
        "colab": {
          "base_uri": "https://localhost:8080/"
        },
        "id": "atucT_hnylDG",
        "outputId": "4491e97a-226f-4e77-953b-0d63a7ed4455"
      },
      "outputs": [
        {
          "output_type": "execute_result",
          "data": {
            "text/plain": [
              "tensor([0, 0, 0, 0, 0])"
            ]
          },
          "metadata": {},
          "execution_count": 25
        }
      ],
      "source": [
        "# Creating tensors like\n",
        "ten_zeros = torch.zeros_like(input=one_to_ten)\n",
        "ten_zeros"
      ]
    },
    {
      "cell_type": "markdown",
      "source": [
        "# Tensor Datatypes\n",
        " Most probable error on tensor\n",
        "\n",
        "1.   Tensor not  right datatype - check using `tensor.dtype`\n",
        "2.   Tensors not right shape - check using `tensor.shape`\n",
        "3.   Tensors not on the right types - check using `tensor.device`\n",
        "\n"
      ],
      "metadata": {
        "id": "vcDXe5z9SZ8i"
      }
    },
    {
      "cell_type": "code",
      "source": [
        "float_32_tensor=torch.tensor([3.0,6.0,9.0],\n",
        "                             dtype=None,# what datatype is the tensor (eg: float32 or flaot16)\n",
        "                             device=None, # What device is your tensor on\n",
        "                        requires_grad=False) # whether or not to track gradients with this tensors operations\n",
        "float_32_tensor.dtype"
      ],
      "metadata": {
        "colab": {
          "base_uri": "https://localhost:8080/"
        },
        "id": "KjMfi03WQmPf",
        "outputId": "0b5e52e9-9921-493e-c04d-84d4bafcd94f"
      },
      "execution_count": 26,
      "outputs": [
        {
          "output_type": "execute_result",
          "data": {
            "text/plain": [
              "torch.float32"
            ]
          },
          "metadata": {},
          "execution_count": 26
        }
      ]
    },
    {
      "cell_type": "code",
      "source": [
        "# Conversion\n",
        "float_16_tensor = float_32_tensor.type(torch.float16)\n",
        "float_16_tensor"
      ],
      "metadata": {
        "colab": {
          "base_uri": "https://localhost:8080/"
        },
        "id": "19UuHMVlTIzk",
        "outputId": "7ce3ef01-115a-44b3-fab6-51b5baef82a2"
      },
      "execution_count": 27,
      "outputs": [
        {
          "output_type": "execute_result",
          "data": {
            "text/plain": [
              "tensor([3., 6., 9.], dtype=torch.float16)"
            ]
          },
          "metadata": {},
          "execution_count": 27
        }
      ]
    },
    {
      "cell_type": "code",
      "source": [
        "float_16_tensor * float_32_tensor"
      ],
      "metadata": {
        "colab": {
          "base_uri": "https://localhost:8080/"
        },
        "id": "dzBX9FAjU45V",
        "outputId": "d53f810e-a108-4799-968a-a827199e4c19"
      },
      "execution_count": 28,
      "outputs": [
        {
          "output_type": "execute_result",
          "data": {
            "text/plain": [
              "tensor([ 9., 36., 81.])"
            ]
          },
          "metadata": {},
          "execution_count": 28
        }
      ]
    },
    {
      "cell_type": "code",
      "source": [
        "int_32_tensor=torch.tensor([3,6,9], dtype=torch.int32)"
      ],
      "metadata": {
        "id": "74iTDszpYkmG"
      },
      "execution_count": 29,
      "outputs": []
    },
    {
      "cell_type": "code",
      "source": [
        "float_32_tensor * int_32_tensor"
      ],
      "metadata": {
        "colab": {
          "base_uri": "https://localhost:8080/"
        },
        "id": "VpTNLGNjYvlA",
        "outputId": "44092b92-c3fd-4420-cdfc-aeda17ce29ec"
      },
      "execution_count": 30,
      "outputs": [
        {
          "output_type": "execute_result",
          "data": {
            "text/plain": [
              "tensor([ 9., 36., 81.])"
            ]
          },
          "metadata": {},
          "execution_count": 30
        }
      ]
    },
    {
      "cell_type": "code",
      "source": [
        "# Create a tensor\n",
        "some_tensor=torch.rand(3,4)\n",
        "some_tensor"
      ],
      "metadata": {
        "id": "oONe2KRcY1Up",
        "colab": {
          "base_uri": "https://localhost:8080/"
        },
        "outputId": "370d3697-846b-4123-e913-c33aabce58d7"
      },
      "execution_count": 31,
      "outputs": [
        {
          "output_type": "execute_result",
          "data": {
            "text/plain": [
              "tensor([[0.4476, 0.0165, 0.1392, 0.1368],\n",
              "        [0.8767, 0.9260, 0.5879, 0.7176],\n",
              "        [0.3588, 0.1024, 0.6398, 0.3465]])"
            ]
          },
          "metadata": {},
          "execution_count": 31
        }
      ]
    },
    {
      "cell_type": "code",
      "source": [
        "print(some_tensor)\n",
        "print(f\"Datatype of tensor : {some_tensor.dtype}\")\n",
        "print(f\"Shape of tenosr: {some_tensor.shape}\")\n",
        "print(f\"Device tensor which? :{some_tensor.device}\")"
      ],
      "metadata": {
        "colab": {
          "base_uri": "https://localhost:8080/"
        },
        "id": "NOJ1R6gEM95Y",
        "outputId": "85b58be9-9d0a-4404-a3ec-976503f6a599"
      },
      "execution_count": 32,
      "outputs": [
        {
          "output_type": "stream",
          "name": "stdout",
          "text": [
            "tensor([[0.4476, 0.0165, 0.1392, 0.1368],\n",
            "        [0.8767, 0.9260, 0.5879, 0.7176],\n",
            "        [0.3588, 0.1024, 0.6398, 0.3465]])\n",
            "Datatype of tensor : torch.float32\n",
            "Shape of tenosr: torch.Size([3, 4])\n",
            "Device tensor which? :cpu\n"
          ]
        }
      ]
    },
    {
      "cell_type": "markdown",
      "source": [
        "# Manipulating Tensors (tensor operations)\n",
        "Tensor operation include\n",
        "\n",
        "\n",
        "*   Addition\n",
        "*   Substraction\n",
        "*   Multiplication (element-wise)\n",
        "*   Division\n",
        "*   Matrix muliplication\n",
        "\n"
      ],
      "metadata": {
        "id": "GjvcxCMbTWK6"
      }
    },
    {
      "cell_type": "code",
      "source": [
        "# Create a tensor and operate it\n",
        "tensor=torch.tensor([1,2,3])\n",
        "tensor +10"
      ],
      "metadata": {
        "colab": {
          "base_uri": "https://localhost:8080/"
        },
        "id": "3rv7LFmRNBiN",
        "outputId": "42c978b9-59cd-43f1-ed59-38fd19f9475e"
      },
      "execution_count": 33,
      "outputs": [
        {
          "output_type": "execute_result",
          "data": {
            "text/plain": [
              "tensor([11, 12, 13])"
            ]
          },
          "metadata": {},
          "execution_count": 33
        }
      ]
    },
    {
      "cell_type": "code",
      "source": [
        "tensor=tensor*10"
      ],
      "metadata": {
        "id": "-ECQqoOZURo4"
      },
      "execution_count": 34,
      "outputs": []
    },
    {
      "cell_type": "code",
      "source": [
        "tensor"
      ],
      "metadata": {
        "colab": {
          "base_uri": "https://localhost:8080/"
        },
        "id": "ofVByeZOUYF0",
        "outputId": "e5a9e9a2-8e77-45b1-d18f-f9a09ccf36fb"
      },
      "execution_count": 35,
      "outputs": [
        {
          "output_type": "execute_result",
          "data": {
            "text/plain": [
              "tensor([10, 20, 30])"
            ]
          },
          "metadata": {},
          "execution_count": 35
        }
      ]
    },
    {
      "cell_type": "code",
      "source": [
        "tensor / 10"
      ],
      "metadata": {
        "colab": {
          "base_uri": "https://localhost:8080/"
        },
        "id": "K_M8qVcpUZgt",
        "outputId": "d0f49fcc-25ad-4097-de14-a078f4eda49d"
      },
      "execution_count": 36,
      "outputs": [
        {
          "output_type": "execute_result",
          "data": {
            "text/plain": [
              "tensor([1., 2., 3.])"
            ]
          },
          "metadata": {},
          "execution_count": 36
        }
      ]
    },
    {
      "cell_type": "code",
      "source": [
        "# pytorch in-built function\n",
        "torch.mul(tensor, 10)"
      ],
      "metadata": {
        "colab": {
          "base_uri": "https://localhost:8080/"
        },
        "id": "DeyCqCDmUbgZ",
        "outputId": "fcbf488a-4b57-406e-ae27-5cc8f5f12a02"
      },
      "execution_count": 37,
      "outputs": [
        {
          "output_type": "execute_result",
          "data": {
            "text/plain": [
              "tensor([100, 200, 300])"
            ]
          },
          "metadata": {},
          "execution_count": 37
        }
      ]
    },
    {
      "cell_type": "code",
      "source": [
        "tensor"
      ],
      "metadata": {
        "colab": {
          "base_uri": "https://localhost:8080/"
        },
        "id": "x_9Y3sA_UopT",
        "outputId": "73d1a451-1530-4d4b-a5fb-bcd40a24d6e0"
      },
      "execution_count": 38,
      "outputs": [
        {
          "output_type": "execute_result",
          "data": {
            "text/plain": [
              "tensor([10, 20, 30])"
            ]
          },
          "metadata": {},
          "execution_count": 38
        }
      ]
    },
    {
      "cell_type": "code",
      "source": [
        "torch.add(tensor,1)"
      ],
      "metadata": {
        "colab": {
          "base_uri": "https://localhost:8080/"
        },
        "id": "6OVjCy8BUzQc",
        "outputId": "516e1670-3296-4751-9b95-36f05570244a"
      },
      "execution_count": 39,
      "outputs": [
        {
          "output_type": "execute_result",
          "data": {
            "text/plain": [
              "tensor([11, 21, 31])"
            ]
          },
          "metadata": {},
          "execution_count": 39
        }
      ]
    },
    {
      "cell_type": "markdown",
      "source": [
        "### Matrix multiplication\n",
        "two ways\n",
        "\n",
        "1. Element wise multiplication\n",
        "2. Matrix wise multiplication"
      ],
      "metadata": {
        "id": "4781kAIzVBsp"
      }
    },
    {
      "cell_type": "code",
      "source": [
        "# Element wise  multiplication\n",
        "print (f\"Equals:{tensor*tensor}\")\n",
        "# 10*10"
      ],
      "metadata": {
        "id": "f6s8THsXU25m",
        "colab": {
          "base_uri": "https://localhost:8080/"
        },
        "outputId": "01a89bd0-954a-40d5-81d5-28f097463553"
      },
      "execution_count": 40,
      "outputs": [
        {
          "output_type": "stream",
          "name": "stdout",
          "text": [
            "Equals:tensor([100, 400, 900])\n"
          ]
        }
      ]
    },
    {
      "cell_type": "code",
      "source": [
        "# matrix multiplication\n",
        "torch.matmul(tensor,tensor)"
      ],
      "metadata": {
        "colab": {
          "base_uri": "https://localhost:8080/"
        },
        "id": "a6KEr6k-TCBz",
        "outputId": "876fbe72-54b1-48c8-c688-93874913f981"
      },
      "execution_count": 41,
      "outputs": [
        {
          "output_type": "execute_result",
          "data": {
            "text/plain": [
              "tensor(1400)"
            ]
          },
          "metadata": {},
          "execution_count": 41
        }
      ]
    },
    {
      "cell_type": "code",
      "source": [
        "# manually\n",
        "%%time\n",
        "value = 0\n",
        "for i in range(len(tensor)):\n",
        "  value += tensor[i] * tensor[i]\n",
        "print(value)\n"
      ],
      "metadata": {
        "colab": {
          "base_uri": "https://localhost:8080/"
        },
        "id": "nv9T6lMHTpKO",
        "outputId": "dbcb7fc6-2a31-4700-8417-34eb13f76673"
      },
      "execution_count": 42,
      "outputs": [
        {
          "output_type": "stream",
          "name": "stdout",
          "text": [
            "tensor(1400)\n",
            "CPU times: user 2.22 ms, sys: 0 ns, total: 2.22 ms\n",
            "Wall time: 3.27 ms\n"
          ]
        }
      ]
    },
    {
      "cell_type": "code",
      "source": [
        "%%time\n",
        "torch.matmul(tensor,tensor)"
      ],
      "metadata": {
        "id": "fnxotwSmUO5L",
        "colab": {
          "base_uri": "https://localhost:8080/"
        },
        "outputId": "27b07462-92c6-4bd1-e374-be66617c0423"
      },
      "execution_count": 43,
      "outputs": [
        {
          "output_type": "stream",
          "name": "stdout",
          "text": [
            "CPU times: user 0 ns, sys: 470 µs, total: 470 µs\n",
            "Wall time: 382 µs\n"
          ]
        },
        {
          "output_type": "execute_result",
          "data": {
            "text/plain": [
              "tensor(1400)"
            ]
          },
          "metadata": {},
          "execution_count": 43
        }
      ]
    },
    {
      "cell_type": "code",
      "source": [
        "torch.matmul(torch.rand(10,10), torch.rand(10,10))"
      ],
      "metadata": {
        "colab": {
          "base_uri": "https://localhost:8080/"
        },
        "id": "JQCcO2yoV1ZA",
        "outputId": "5c690f38-40ff-46f3-9fe5-c0181ab6616d"
      },
      "execution_count": 44,
      "outputs": [
        {
          "output_type": "execute_result",
          "data": {
            "text/plain": [
              "tensor([[2.8944, 1.9047, 1.9582, 2.1085, 2.4777, 1.9319, 2.3733, 1.4731, 2.1237,\n",
              "         2.5215],\n",
              "        [3.3087, 2.4920, 2.8125, 2.7326, 2.8406, 1.9486, 3.2049, 1.8394, 2.4491,\n",
              "         2.3798],\n",
              "        [2.8170, 2.6537, 1.9504, 2.0683, 1.8037, 2.1510, 2.8850, 1.3363, 1.6469,\n",
              "         2.2273],\n",
              "        [3.7384, 2.6191, 2.9019, 3.1548, 2.5589, 2.4774, 3.2139, 2.0495, 2.4499,\n",
              "         2.9081],\n",
              "        [3.2035, 2.5604, 2.1571, 2.0388, 2.3641, 1.9332, 3.0198, 1.5033, 1.8999,\n",
              "         2.1434],\n",
              "        [3.1998, 3.1005, 2.2456, 2.9474, 2.0209, 2.3704, 3.1664, 1.6189, 2.2035,\n",
              "         2.5181],\n",
              "        [3.2133, 1.7939, 2.4210, 2.1646, 1.8521, 2.2587, 2.7929, 1.4232, 1.7540,\n",
              "         2.2299],\n",
              "        [2.8063, 2.2561, 1.9339, 2.1167, 1.6670, 1.9542, 2.5513, 1.2304, 1.7626,\n",
              "         2.1291],\n",
              "        [3.5252, 2.5056, 2.0685, 2.5359, 2.0725, 2.3498, 3.3036, 1.2438, 2.0684,\n",
              "         2.3553],\n",
              "        [3.5955, 1.9772, 2.5314, 2.6091, 2.4384, 2.1780, 2.7276, 1.8211, 1.9188,\n",
              "         2.5673]])"
            ]
          },
          "metadata": {},
          "execution_count": 44
        }
      ]
    },
    {
      "cell_type": "code",
      "source": [
        "# Shape of tensor\n",
        "tensor_a=torch.tensor([[1,2],[3,4],[5,6]])\n",
        "tensor_b=torch.tensor([[7,10],[8,11],[9,12]])"
      ],
      "metadata": {
        "id": "laHAiNeyXFeN"
      },
      "execution_count": 45,
      "outputs": []
    },
    {
      "cell_type": "code",
      "source": [
        "# torch.matmul(tensor_a,tensor_b)  error will occur due to shape problem\n",
        "# we can perform transpose to get solution\n",
        "tensor_b=tensor_b.T"
      ],
      "metadata": {
        "id": "c8oyVYwvXrx_"
      },
      "execution_count": 46,
      "outputs": []
    },
    {
      "cell_type": "code",
      "source": [
        "torch.matmul(tensor_a,tensor_b)\n"
      ],
      "metadata": {
        "colab": {
          "base_uri": "https://localhost:8080/"
        },
        "id": "cW0IIF6RX5Ys",
        "outputId": "6ae844e4-d111-4b55-ea42-9a296ece71f5"
      },
      "execution_count": 47,
      "outputs": [
        {
          "output_type": "execute_result",
          "data": {
            "text/plain": [
              "tensor([[ 27,  30,  33],\n",
              "        [ 61,  68,  75],\n",
              "        [ 95, 106, 117]])"
            ]
          },
          "metadata": {},
          "execution_count": 47
        }
      ]
    },
    {
      "cell_type": "markdown",
      "source": [
        "### Find the min,max,mean,sum"
      ],
      "metadata": {
        "id": "b-uVPcR7ZRSO"
      }
    },
    {
      "cell_type": "code",
      "source": [
        "# Create tensor\n",
        "x = torch.arange(0,100,10)\n",
        "x"
      ],
      "metadata": {
        "colab": {
          "base_uri": "https://localhost:8080/"
        },
        "id": "tUsVp4BuYadf",
        "outputId": "0b155464-c0c6-4636-a1d4-2c8c372bed20"
      },
      "execution_count": 48,
      "outputs": [
        {
          "output_type": "execute_result",
          "data": {
            "text/plain": [
              "tensor([ 0, 10, 20, 30, 40, 50, 60, 70, 80, 90])"
            ]
          },
          "metadata": {},
          "execution_count": 48
        }
      ]
    },
    {
      "cell_type": "code",
      "source": [
        "# For finding max\n",
        "torch.max(x), x.max()"
      ],
      "metadata": {
        "colab": {
          "base_uri": "https://localhost:8080/"
        },
        "id": "9Lmpnqf8ZhIH",
        "outputId": "ddc17542-bfd7-4ddf-c59d-e13e3603d9e6"
      },
      "execution_count": 49,
      "outputs": [
        {
          "output_type": "execute_result",
          "data": {
            "text/plain": [
              "(tensor(90), tensor(90))"
            ]
          },
          "metadata": {},
          "execution_count": 49
        }
      ]
    },
    {
      "cell_type": "code",
      "source": [
        "print(x.dtype)\n",
        "x=x.float()\n",
        "\n",
        "torch.mean(x)"
      ],
      "metadata": {
        "colab": {
          "base_uri": "https://localhost:8080/"
        },
        "id": "jNYSpeoaZwsj",
        "outputId": "e4fba834-86e6-4465-944c-fe1b41876782"
      },
      "execution_count": 50,
      "outputs": [
        {
          "output_type": "stream",
          "name": "stdout",
          "text": [
            "torch.int64\n"
          ]
        },
        {
          "output_type": "execute_result",
          "data": {
            "text/plain": [
              "tensor(45.)"
            ]
          },
          "metadata": {},
          "execution_count": 50
        }
      ]
    },
    {
      "cell_type": "code",
      "source": [
        "x.dtype"
      ],
      "metadata": {
        "colab": {
          "base_uri": "https://localhost:8080/"
        },
        "id": "N53lQA4fZ0oV",
        "outputId": "2b1c7942-81f4-4003-a18d-a84d583462d3"
      },
      "execution_count": 51,
      "outputs": [
        {
          "output_type": "execute_result",
          "data": {
            "text/plain": [
              "torch.float32"
            ]
          },
          "metadata": {},
          "execution_count": 51
        }
      ]
    },
    {
      "cell_type": "code",
      "source": [
        "# Find the sum\n",
        "torch.sum(x)"
      ],
      "metadata": {
        "colab": {
          "base_uri": "https://localhost:8080/"
        },
        "id": "iCBkhbR-Z_a_",
        "outputId": "05e71ad1-202c-44f7-e115-05a3f76f7440"
      },
      "execution_count": 52,
      "outputs": [
        {
          "output_type": "execute_result",
          "data": {
            "text/plain": [
              "tensor(450.)"
            ]
          },
          "metadata": {},
          "execution_count": 52
        }
      ]
    },
    {
      "cell_type": "markdown",
      "source": [
        "### Find the positional min and max"
      ],
      "metadata": {
        "id": "BV2g9ecBafSp"
      }
    },
    {
      "cell_type": "code",
      "source": [
        "x.argmin()\n"
      ],
      "metadata": {
        "colab": {
          "base_uri": "https://localhost:8080/"
        },
        "id": "4D62U3P1abpd",
        "outputId": "6b4f2375-805f-4ce5-8da2-0d59d4826631"
      },
      "execution_count": 53,
      "outputs": [
        {
          "output_type": "execute_result",
          "data": {
            "text/plain": [
              "tensor(0)"
            ]
          },
          "metadata": {},
          "execution_count": 53
        }
      ]
    },
    {
      "cell_type": "code",
      "source": [],
      "metadata": {
        "id": "26e5HWPF8ruB"
      },
      "execution_count": null,
      "outputs": []
    },
    {
      "cell_type": "code",
      "source": [
        "x.argmax()"
      ],
      "metadata": {
        "colab": {
          "base_uri": "https://localhost:8080/"
        },
        "id": "9ZCbmx99ao4P",
        "outputId": "50e815a4-acf2-4afb-a18e-13483e4ccbec"
      },
      "execution_count": 54,
      "outputs": [
        {
          "output_type": "execute_result",
          "data": {
            "text/plain": [
              "tensor(9)"
            ]
          },
          "metadata": {},
          "execution_count": 54
        }
      ]
    },
    {
      "cell_type": "markdown",
      "source": [
        "## Reshaping, stacking, squeezing and unsqueezung tensors\n",
        "\n",
        "\n",
        "*   Reshaping-reshape an input tensor to a define shape\n",
        "*   View-Return a view of an imput tensor of cetain shape but keep the same memory as the original tensor\n",
        "*   Stacking -combine multiple tensor on the top of each other (vstack) or side by side (hstack)\n",
        "*   Squeeze - remove all `1` dimension from the tensor\n",
        "* Unsqeeze - add a `1` dimension to a target tensor\n",
        "* Permute - Return a view of the input with dimensions permuted (swapped) in a cetain way\n",
        "\n",
        "\n"
      ],
      "metadata": {
        "id": "Anb3ObI4bND-"
      }
    },
    {
      "cell_type": "code",
      "source": [
        "# let create the tensor\n",
        "import torch\n",
        "x=\n"
      ],
      "metadata": {
        "id": "NfbRyFMtatw0"
      },
      "execution_count": 55,
      "outputs": []
    }
  ],
  "metadata": {
    "colab": {
      "provenance": [],
      "gpuType": "T4",
      "authorship_tag": "ABX9TyPvf+yKcaz/H1lz8tN2KhIw",
      "include_colab_link": true
    },
    "kernelspec": {
      "display_name": "Python 3",
      "name": "python3"
    },
    "language_info": {
      "name": "python"
    }
  },
  "nbformat": 4,
  "nbformat_minor": 0
}