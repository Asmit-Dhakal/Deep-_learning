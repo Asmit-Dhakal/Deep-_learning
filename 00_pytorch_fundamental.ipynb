{
  "cells": [
    {
      "cell_type": "markdown",
      "metadata": {
        "id": "view-in-github",
        "colab_type": "text"
      },
      "source": [
        "<a href=\"https://colab.research.google.com/github/Asmit-Dhakal/Deep_learning/blob/main/00_pytorch_fundamental.ipynb\" target=\"_parent\"><img src=\"https://colab.research.google.com/assets/colab-badge.svg\" alt=\"Open In Colab\"/></a>"
      ]
    },
    {
      "cell_type": "markdown",
      "metadata": {
        "id": "Rb-J8iKUNaz4"
      },
      "source": []
    },
    {
      "cell_type": "code",
      "execution_count": 1,
      "metadata": {
        "colab": {
          "base_uri": "https://localhost:8080/"
        },
        "id": "m8PXVppXItq3",
        "outputId": "a24dcd14-11e5-4fc9-a263-e17ff8864018"
      },
      "outputs": [
        {
          "output_type": "stream",
          "name": "stdout",
          "text": [
            "2.2.1+cu121\n"
          ]
        }
      ],
      "source": [
        "import torch\n",
        "import pandas as pd\n",
        "import numpy as np\n",
        "import matplotlib.pyplot as plt\n",
        "print(torch.__version__)\n"
      ]
    },
    {
      "cell_type": "markdown",
      "metadata": {
        "id": "t-fYPyKmN9G6"
      },
      "source": [
        "# **Introduction to Tensors**\n",
        "Creating tensors"
      ]
    },
    {
      "cell_type": "code",
      "execution_count": 2,
      "metadata": {
        "colab": {
          "base_uri": "https://localhost:8080/"
        },
        "id": "4Fw1FGKVNtXD",
        "outputId": "67357a1a-f274-488f-f40d-1615c7eeb64d"
      },
      "outputs": [
        {
          "output_type": "execute_result",
          "data": {
            "text/plain": [
              "tensor(7)"
            ]
          },
          "metadata": {},
          "execution_count": 2
        }
      ],
      "source": [
        "# scalar\n",
        "scalar = torch.tensor(7)\n",
        "scalar\n"
      ]
    },
    {
      "cell_type": "code",
      "execution_count": 3,
      "metadata": {
        "colab": {
          "base_uri": "https://localhost:8080/"
        },
        "id": "vhxbni6iOXx5",
        "outputId": "6cd5bff1-4746-46e9-b761-78cc3048b0b3"
      },
      "outputs": [
        {
          "output_type": "execute_result",
          "data": {
            "text/plain": [
              "0"
            ]
          },
          "metadata": {},
          "execution_count": 3
        }
      ],
      "source": [
        "# Get tensor back as python int\n",
        "scalar.ndim\n"
      ]
    },
    {
      "cell_type": "code",
      "execution_count": 4,
      "metadata": {
        "id": "CenJssISQPoj"
      },
      "outputs": [],
      "source": [
        "# Vector\n",
        "vector=torch.tensor([7,7])"
      ]
    },
    {
      "cell_type": "code",
      "execution_count": 5,
      "metadata": {
        "colab": {
          "base_uri": "https://localhost:8080/"
        },
        "id": "08GtshjmROF4",
        "outputId": "a8a467f0-8c3a-4bf5-c451-47be8db19b13"
      },
      "outputs": [
        {
          "output_type": "execute_result",
          "data": {
            "text/plain": [
              "tensor([7, 7])"
            ]
          },
          "metadata": {},
          "execution_count": 5
        }
      ],
      "source": [
        "vector"
      ]
    },
    {
      "cell_type": "code",
      "execution_count": 6,
      "metadata": {
        "colab": {
          "base_uri": "https://localhost:8080/"
        },
        "id": "xWa93zq_RQWT",
        "outputId": "10118579-a696-49d0-c82d-5e0e35b217eb"
      },
      "outputs": [
        {
          "output_type": "execute_result",
          "data": {
            "text/plain": [
              "torch.Size([2])"
            ]
          },
          "metadata": {},
          "execution_count": 6
        }
      ],
      "source": [
        "vector.shape"
      ]
    },
    {
      "cell_type": "code",
      "execution_count": 7,
      "metadata": {
        "colab": {
          "base_uri": "https://localhost:8080/"
        },
        "id": "PddtE5J8TD-H",
        "outputId": "fa5bd993-7599-4bfc-c7a5-8a8f0179d28b"
      },
      "outputs": [
        {
          "output_type": "execute_result",
          "data": {
            "text/plain": [
              "tensor([[ 7,  8],\n",
              "        [ 9, 10]])"
            ]
          },
          "metadata": {},
          "execution_count": 7
        }
      ],
      "source": [
        " # matrix\n",
        "matrix=torch.tensor([[7,8],[9,10]])\n",
        "matrix"
      ]
    },
    {
      "cell_type": "code",
      "execution_count": 8,
      "metadata": {
        "colab": {
          "base_uri": "https://localhost:8080/"
        },
        "id": "_WCDL8_QTmlf",
        "outputId": "97b0b114-83cd-4936-c722-778d79c3105b"
      },
      "outputs": [
        {
          "output_type": "execute_result",
          "data": {
            "text/plain": [
              "2"
            ]
          },
          "metadata": {},
          "execution_count": 8
        }
      ],
      "source": [
        "matrix.ndim"
      ]
    },
    {
      "cell_type": "code",
      "execution_count": 9,
      "metadata": {
        "colab": {
          "base_uri": "https://localhost:8080/"
        },
        "id": "EqKMhGZJU0ME",
        "outputId": "1976d31c-02fa-4c09-ea34-65cc55f728a7"
      },
      "outputs": [
        {
          "output_type": "execute_result",
          "data": {
            "text/plain": [
              "torch.Size([2, 2])"
            ]
          },
          "metadata": {},
          "execution_count": 9
        }
      ],
      "source": [
        "matrix[1]\n",
        "matrix.shape"
      ]
    },
    {
      "cell_type": "code",
      "execution_count": 10,
      "metadata": {
        "id": "lL0ebLrdVBt6"
      },
      "outputs": [],
      "source": [
        "# Tensor\n",
        "tensor =torch.tensor([[[1,2,3],[4,5,6],[7,8,9]]])"
      ]
    },
    {
      "cell_type": "code",
      "execution_count": 11,
      "metadata": {
        "colab": {
          "base_uri": "https://localhost:8080/"
        },
        "id": "7h4aTUFeVdGx",
        "outputId": "e7151c69-6f2a-492a-a672-6d6cf1d3406c"
      },
      "outputs": [
        {
          "output_type": "execute_result",
          "data": {
            "text/plain": [
              "tensor([[[1, 2, 3],\n",
              "         [4, 5, 6],\n",
              "         [7, 8, 9]]])"
            ]
          },
          "metadata": {},
          "execution_count": 11
        }
      ],
      "source": [
        "tensor"
      ]
    },
    {
      "cell_type": "code",
      "execution_count": 12,
      "metadata": {
        "colab": {
          "base_uri": "https://localhost:8080/"
        },
        "id": "6McB5bHBVdv5",
        "outputId": "2b9794c1-add4-413f-a213-5cf2d1ccd974"
      },
      "outputs": [
        {
          "output_type": "execute_result",
          "data": {
            "text/plain": [
              "torch.Size([1, 3, 3])"
            ]
          },
          "metadata": {},
          "execution_count": 12
        }
      ],
      "source": [
        "tensor.ndim\n",
        "tensor.shape\n"
      ]
    },
    {
      "cell_type": "code",
      "execution_count": 13,
      "metadata": {
        "colab": {
          "base_uri": "https://localhost:8080/"
        },
        "id": "2Z43ASbTVpwi",
        "outputId": "5e116d93-ac99-4938-8c1b-ba77e361afb9"
      },
      "outputs": [
        {
          "output_type": "execute_result",
          "data": {
            "text/plain": [
              "tensor([[1, 2, 3],\n",
              "        [4, 5, 6],\n",
              "        [7, 8, 9]])"
            ]
          },
          "metadata": {},
          "execution_count": 13
        }
      ],
      "source": [
        "tensor[0]"
      ]
    },
    {
      "cell_type": "markdown",
      "metadata": {
        "id": "nMrjROdQtwvP"
      },
      "source": [
        "### Random tensor\n",
        "`start with random numbers-> Looks at data -> updagte random numbers -> look at data -> update random numbers `"
      ]
    },
    {
      "cell_type": "code",
      "execution_count": 14,
      "metadata": {
        "id": "-_OmYB2oWJOB"
      },
      "outputs": [],
      "source": [
        "### Random tensor of size and shape (3,4)\n",
        "\n",
        "random_tensor= torch.rand(1,3,4)\n"
      ]
    },
    {
      "cell_type": "code",
      "execution_count": 15,
      "metadata": {
        "colab": {
          "base_uri": "https://localhost:8080/"
        },
        "id": "07l0KFD2vyVC",
        "outputId": "a2f855e2-3ffc-4c04-b71a-7972d6104511"
      },
      "outputs": [
        {
          "output_type": "execute_result",
          "data": {
            "text/plain": [
              "tensor([[[0.7756, 0.7473, 0.6416, 0.5691],\n",
              "         [0.3730, 0.4758, 0.4899, 0.3342],\n",
              "         [0.0488, 0.3255, 0.9290, 0.1683]]])"
            ]
          },
          "metadata": {},
          "execution_count": 15
        }
      ],
      "source": [
        "random_tensor"
      ]
    },
    {
      "cell_type": "code",
      "execution_count": 16,
      "metadata": {
        "colab": {
          "base_uri": "https://localhost:8080/"
        },
        "id": "03cbWTcGv0dF",
        "outputId": "c8beb789-e349-4565-e676-7bb93f46835c"
      },
      "outputs": [
        {
          "output_type": "execute_result",
          "data": {
            "text/plain": [
              "3"
            ]
          },
          "metadata": {},
          "execution_count": 16
        }
      ],
      "source": [
        "random_tensor.ndim"
      ]
    },
    {
      "cell_type": "code",
      "execution_count": 17,
      "metadata": {
        "id": "1qt7xIiOwDor"
      },
      "outputs": [],
      "source": [
        "# Create random tensor with similar shape to a image tensor\n",
        "random_image_size_tensor = torch.rand(size=(224,224,3)) # height, width, color channels(R G B)"
      ]
    },
    {
      "cell_type": "code",
      "execution_count": 18,
      "metadata": {
        "colab": {
          "base_uri": "https://localhost:8080/"
        },
        "id": "c4EKZt1Gw7ND",
        "outputId": "e8004494-42fb-4cf8-83a5-15103731093e"
      },
      "outputs": [
        {
          "output_type": "execute_result",
          "data": {
            "text/plain": [
              "tensor([[[1.8389e-01, 1.9394e-01, 9.0170e-01],\n",
              "         [5.0174e-01, 2.9829e-01, 9.8427e-01],\n",
              "         [7.9507e-01, 3.9825e-02, 1.2805e-01],\n",
              "         ...,\n",
              "         [6.4245e-01, 9.1584e-02, 8.5843e-01],\n",
              "         [7.6544e-01, 7.3439e-01, 8.2612e-01],\n",
              "         [6.4812e-01, 1.3455e-01, 3.0955e-01]],\n",
              "\n",
              "        [[6.7546e-01, 6.4347e-01, 1.4604e-01],\n",
              "         [5.4531e-01, 2.9476e-01, 7.4809e-01],\n",
              "         [9.0731e-01, 3.1667e-01, 5.3090e-04],\n",
              "         ...,\n",
              "         [6.7746e-01, 6.9361e-01, 9.8328e-01],\n",
              "         [8.1688e-01, 7.4586e-01, 8.4198e-01],\n",
              "         [9.7586e-01, 3.3629e-01, 4.4509e-01]],\n",
              "\n",
              "        [[9.1759e-01, 8.9684e-01, 6.7292e-01],\n",
              "         [1.9227e-01, 4.9707e-01, 9.8529e-01],\n",
              "         [1.1719e-01, 4.3576e-01, 7.5776e-01],\n",
              "         ...,\n",
              "         [6.9686e-01, 5.5342e-01, 1.8926e-01],\n",
              "         [1.7201e-01, 4.7279e-02, 8.5452e-01],\n",
              "         [2.3226e-01, 7.5610e-01, 2.4031e-01]],\n",
              "\n",
              "        ...,\n",
              "\n",
              "        [[7.5705e-01, 1.0665e-01, 6.1972e-01],\n",
              "         [8.3039e-01, 2.5878e-01, 3.2125e-01],\n",
              "         [7.4855e-01, 6.0550e-01, 3.8765e-01],\n",
              "         ...,\n",
              "         [8.6026e-02, 3.1381e-01, 3.2254e-01],\n",
              "         [5.7838e-02, 9.8612e-01, 7.5791e-01],\n",
              "         [4.3100e-03, 2.3304e-01, 3.3843e-01]],\n",
              "\n",
              "        [[3.6852e-01, 4.6645e-01, 8.5958e-01],\n",
              "         [7.6839e-02, 7.2956e-01, 5.3523e-01],\n",
              "         [1.2562e-01, 8.4149e-01, 1.4863e-01],\n",
              "         ...,\n",
              "         [4.6798e-01, 9.5129e-01, 4.3890e-01],\n",
              "         [6.4639e-01, 2.7657e-01, 7.8818e-01],\n",
              "         [5.8244e-01, 7.2189e-01, 2.3072e-01]],\n",
              "\n",
              "        [[2.8487e-01, 9.0497e-02, 5.3139e-01],\n",
              "         [5.9482e-01, 1.4003e-01, 2.4828e-01],\n",
              "         [4.6027e-01, 1.1527e-01, 5.5364e-02],\n",
              "         ...,\n",
              "         [6.2319e-01, 3.1572e-01, 9.0612e-01],\n",
              "         [1.1209e-01, 6.1629e-01, 3.0315e-01],\n",
              "         [7.4730e-01, 6.5491e-01, 2.6320e-01]]])"
            ]
          },
          "metadata": {},
          "execution_count": 18
        }
      ],
      "source": [
        "random_image_size_tensor"
      ]
    },
    {
      "cell_type": "markdown",
      "metadata": {
        "id": "0GDQex-9xzch"
      },
      "source": [
        "## Zeros and Ones"
      ]
    },
    {
      "cell_type": "code",
      "execution_count": 19,
      "metadata": {
        "id": "av0fOERPxEUH"
      },
      "outputs": [],
      "source": [
        "# Create the tensors of o\n",
        "zeros = torch.zeros(size=(3,4))"
      ]
    },
    {
      "cell_type": "code",
      "execution_count": 20,
      "metadata": {
        "colab": {
          "base_uri": "https://localhost:8080/"
        },
        "id": "49QkINU3yFB0",
        "outputId": "047eda50-a016-4520-d214-1436ac0e3eb8"
      },
      "outputs": [
        {
          "output_type": "execute_result",
          "data": {
            "text/plain": [
              "tensor([[0., 0., 0., 0.],\n",
              "        [0., 0., 0., 0.],\n",
              "        [0., 0., 0., 0.]])"
            ]
          },
          "metadata": {},
          "execution_count": 20
        }
      ],
      "source": [
        "zeros"
      ]
    },
    {
      "cell_type": "code",
      "execution_count": 21,
      "metadata": {
        "id": "5uo2DOQTyGV0"
      },
      "outputs": [],
      "source": [
        "# Create the tensor of ones\n",
        "ones = torch.ones(size=(3,4))"
      ]
    },
    {
      "cell_type": "code",
      "execution_count": 22,
      "metadata": {
        "colab": {
          "base_uri": "https://localhost:8080/"
        },
        "id": "yZBGlHmzyebi",
        "outputId": "984abff2-c002-4374-9b3d-6a03012c7685"
      },
      "outputs": [
        {
          "output_type": "execute_result",
          "data": {
            "text/plain": [
              "tensor([[1., 1., 1., 1.],\n",
              "        [1., 1., 1., 1.],\n",
              "        [1., 1., 1., 1.]])"
            ]
          },
          "metadata": {},
          "execution_count": 22
        }
      ],
      "source": [
        "ones"
      ]
    },
    {
      "cell_type": "code",
      "execution_count": 23,
      "metadata": {
        "colab": {
          "base_uri": "https://localhost:8080/"
        },
        "id": "j2IWxj_byf45",
        "outputId": "8cbe8b01-60a7-49f2-fdb3-c4faca68f4dd"
      },
      "outputs": [
        {
          "output_type": "execute_result",
          "data": {
            "text/plain": [
              "torch.float32"
            ]
          },
          "metadata": {},
          "execution_count": 23
        }
      ],
      "source": [
        "ones.dtype"
      ]
    },
    {
      "cell_type": "markdown",
      "metadata": {
        "id": "-lDl9dIrziI2"
      },
      "source": [
        "# Use torch.range()"
      ]
    },
    {
      "cell_type": "code",
      "execution_count": 24,
      "metadata": {
        "colab": {
          "base_uri": "https://localhost:8080/"
        },
        "id": "X0bghMhezhda",
        "outputId": "7b55aafb-899e-4582-adf3-b5fe4ece3015"
      },
      "outputs": [
        {
          "output_type": "execute_result",
          "data": {
            "text/plain": [
              "tensor([0, 2, 4, 6, 8])"
            ]
          },
          "metadata": {},
          "execution_count": 24
        }
      ],
      "source": [
        "one_to_ten=torch.arange(start=0 ,end= 10, step=2)\n",
        "one_to_ten"
      ]
    },
    {
      "cell_type": "code",
      "execution_count": 25,
      "metadata": {
        "colab": {
          "base_uri": "https://localhost:8080/"
        },
        "id": "atucT_hnylDG",
        "outputId": "0f076a6e-ceaa-4527-d349-1c78469f4a6b"
      },
      "outputs": [
        {
          "output_type": "execute_result",
          "data": {
            "text/plain": [
              "tensor([0, 0, 0, 0, 0])"
            ]
          },
          "metadata": {},
          "execution_count": 25
        }
      ],
      "source": [
        "# Creating tensors like\n",
        "ten_zeros = torch.zeros_like(input=one_to_ten)\n",
        "ten_zeros"
      ]
    },
    {
      "cell_type": "markdown",
      "source": [
        "# Tensor Datatypes\n",
        " Most probable error on tensor\n",
        "\n",
        "1.   Tensor not  right datatype - check using `tensor.dtype`\n",
        "2.   Tensors not right shape - check using `tensor.shape`\n",
        "3.   Tensors not on the right types - check using `tensor.device`\n",
        "\n"
      ],
      "metadata": {
        "id": "vcDXe5z9SZ8i"
      }
    },
    {
      "cell_type": "code",
      "source": [
        "float_32_tensor=torch.tensor([3.0,6.0,9.0],\n",
        "                             dtype=None,# what datatype is the tensor (eg: float32 or flaot16)\n",
        "                             device=None, # What device is your tensor on\n",
        "                        requires_grad=False) # whether or not to track gradients with this tensors operations\n",
        "float_32_tensor.dtype"
      ],
      "metadata": {
        "colab": {
          "base_uri": "https://localhost:8080/"
        },
        "id": "KjMfi03WQmPf",
        "outputId": "ae212087-98b4-4bed-f402-6ef0397f2ef4"
      },
      "execution_count": 26,
      "outputs": [
        {
          "output_type": "execute_result",
          "data": {
            "text/plain": [
              "torch.float32"
            ]
          },
          "metadata": {},
          "execution_count": 26
        }
      ]
    },
    {
      "cell_type": "code",
      "source": [
        "# Conversion\n",
        "float_16_tensor = float_32_tensor.type(torch.float16)\n",
        "float_16_tensor"
      ],
      "metadata": {
        "colab": {
          "base_uri": "https://localhost:8080/"
        },
        "id": "19UuHMVlTIzk",
        "outputId": "47e0875d-f822-4cc9-a590-9b379c4e3360"
      },
      "execution_count": 27,
      "outputs": [
        {
          "output_type": "execute_result",
          "data": {
            "text/plain": [
              "tensor([3., 6., 9.], dtype=torch.float16)"
            ]
          },
          "metadata": {},
          "execution_count": 27
        }
      ]
    },
    {
      "cell_type": "code",
      "source": [
        "float_16_tensor * float_32_tensor"
      ],
      "metadata": {
        "colab": {
          "base_uri": "https://localhost:8080/"
        },
        "id": "dzBX9FAjU45V",
        "outputId": "966af198-d07d-44a2-c69a-24e4938bed25"
      },
      "execution_count": 28,
      "outputs": [
        {
          "output_type": "execute_result",
          "data": {
            "text/plain": [
              "tensor([ 9., 36., 81.])"
            ]
          },
          "metadata": {},
          "execution_count": 28
        }
      ]
    },
    {
      "cell_type": "code",
      "source": [
        "int_32_tensor=torch.tensor([3,6,9], dtype=torch.int32)"
      ],
      "metadata": {
        "id": "74iTDszpYkmG"
      },
      "execution_count": 29,
      "outputs": []
    },
    {
      "cell_type": "code",
      "source": [
        "float_32_tensor * int_32_tensor"
      ],
      "metadata": {
        "colab": {
          "base_uri": "https://localhost:8080/"
        },
        "id": "VpTNLGNjYvlA",
        "outputId": "8146b729-a8d2-4792-cc9f-758b65e1190c"
      },
      "execution_count": 30,
      "outputs": [
        {
          "output_type": "execute_result",
          "data": {
            "text/plain": [
              "tensor([ 9., 36., 81.])"
            ]
          },
          "metadata": {},
          "execution_count": 30
        }
      ]
    },
    {
      "cell_type": "code",
      "source": [
        "# Create a tensor\n",
        "some_tensor=torch.rand(3,4)\n",
        "some_tensor"
      ],
      "metadata": {
        "id": "oONe2KRcY1Up",
        "colab": {
          "base_uri": "https://localhost:8080/"
        },
        "outputId": "0f9b0edf-0103-44b2-a786-763dfc484e56"
      },
      "execution_count": 31,
      "outputs": [
        {
          "output_type": "execute_result",
          "data": {
            "text/plain": [
              "tensor([[0.2561, 0.2109, 0.1070, 0.5480],\n",
              "        [0.7243, 0.2976, 0.7192, 0.6473],\n",
              "        [0.6284, 0.0119, 0.4659, 0.6911]])"
            ]
          },
          "metadata": {},
          "execution_count": 31
        }
      ]
    },
    {
      "cell_type": "code",
      "source": [
        "print(some_tensor)\n",
        "print(f\"Datatype of tensor : {some_tensor.dtype}\")\n",
        "print(f\"Shape of tenosr: {some_tensor.shape}\")\n",
        "print(f\"Device tensor which? :{some_tensor.device}\")"
      ],
      "metadata": {
        "colab": {
          "base_uri": "https://localhost:8080/"
        },
        "id": "NOJ1R6gEM95Y",
        "outputId": "df171da8-9ff9-4fba-be13-08e0596bdeef"
      },
      "execution_count": 32,
      "outputs": [
        {
          "output_type": "stream",
          "name": "stdout",
          "text": [
            "tensor([[0.2561, 0.2109, 0.1070, 0.5480],\n",
            "        [0.7243, 0.2976, 0.7192, 0.6473],\n",
            "        [0.6284, 0.0119, 0.4659, 0.6911]])\n",
            "Datatype of tensor : torch.float32\n",
            "Shape of tenosr: torch.Size([3, 4])\n",
            "Device tensor which? :cpu\n"
          ]
        }
      ]
    },
    {
      "cell_type": "markdown",
      "source": [
        "# Manipulating Tensors (tensor operations)\n",
        "Tensor operation include\n",
        "\n",
        "\n",
        "*   Addition\n",
        "*   Substraction\n",
        "*   Multiplication (element-wise)\n",
        "*   Division\n",
        "*   Matrix muliplication\n",
        "\n"
      ],
      "metadata": {
        "id": "GjvcxCMbTWK6"
      }
    },
    {
      "cell_type": "code",
      "source": [
        "# Create a tensor and operate it\n",
        "tensor=torch.tensor([1,2,3])\n",
        "tensor +10"
      ],
      "metadata": {
        "colab": {
          "base_uri": "https://localhost:8080/"
        },
        "id": "3rv7LFmRNBiN",
        "outputId": "9513294d-268d-4fbc-d7c6-22d82a636745"
      },
      "execution_count": 33,
      "outputs": [
        {
          "output_type": "execute_result",
          "data": {
            "text/plain": [
              "tensor([11, 12, 13])"
            ]
          },
          "metadata": {},
          "execution_count": 33
        }
      ]
    },
    {
      "cell_type": "code",
      "source": [
        "tensor=tensor*10"
      ],
      "metadata": {
        "id": "-ECQqoOZURo4"
      },
      "execution_count": 34,
      "outputs": []
    },
    {
      "cell_type": "code",
      "source": [
        "tensor"
      ],
      "metadata": {
        "colab": {
          "base_uri": "https://localhost:8080/"
        },
        "id": "ofVByeZOUYF0",
        "outputId": "9d0886bd-7cd9-49c0-c555-0ca32f38e2cf"
      },
      "execution_count": 35,
      "outputs": [
        {
          "output_type": "execute_result",
          "data": {
            "text/plain": [
              "tensor([10, 20, 30])"
            ]
          },
          "metadata": {},
          "execution_count": 35
        }
      ]
    },
    {
      "cell_type": "code",
      "source": [
        "tensor / 10"
      ],
      "metadata": {
        "colab": {
          "base_uri": "https://localhost:8080/"
        },
        "id": "K_M8qVcpUZgt",
        "outputId": "502580e7-e632-4bf5-aee2-8f79a991d701"
      },
      "execution_count": 36,
      "outputs": [
        {
          "output_type": "execute_result",
          "data": {
            "text/plain": [
              "tensor([1., 2., 3.])"
            ]
          },
          "metadata": {},
          "execution_count": 36
        }
      ]
    },
    {
      "cell_type": "code",
      "source": [
        "# pytorch in-built function\n",
        "torch.mul(tensor, 10)"
      ],
      "metadata": {
        "colab": {
          "base_uri": "https://localhost:8080/"
        },
        "id": "DeyCqCDmUbgZ",
        "outputId": "8a7b05e8-dc0a-4dec-dd18-69a27600e265"
      },
      "execution_count": 37,
      "outputs": [
        {
          "output_type": "execute_result",
          "data": {
            "text/plain": [
              "tensor([100, 200, 300])"
            ]
          },
          "metadata": {},
          "execution_count": 37
        }
      ]
    },
    {
      "cell_type": "code",
      "source": [
        "tensor"
      ],
      "metadata": {
        "colab": {
          "base_uri": "https://localhost:8080/"
        },
        "id": "x_9Y3sA_UopT",
        "outputId": "84dce880-4e36-414e-e424-53f31af52bc2"
      },
      "execution_count": 38,
      "outputs": [
        {
          "output_type": "execute_result",
          "data": {
            "text/plain": [
              "tensor([10, 20, 30])"
            ]
          },
          "metadata": {},
          "execution_count": 38
        }
      ]
    },
    {
      "cell_type": "code",
      "source": [
        "torch.add(tensor,1)"
      ],
      "metadata": {
        "colab": {
          "base_uri": "https://localhost:8080/"
        },
        "id": "6OVjCy8BUzQc",
        "outputId": "6449b1b3-aea2-4dc1-94b7-ecade5944d85"
      },
      "execution_count": 39,
      "outputs": [
        {
          "output_type": "execute_result",
          "data": {
            "text/plain": [
              "tensor([11, 21, 31])"
            ]
          },
          "metadata": {},
          "execution_count": 39
        }
      ]
    },
    {
      "cell_type": "markdown",
      "source": [
        "### Matrix multiplication\n",
        "two ways\n",
        "\n",
        "1. Element wise multiplication\n",
        "2. Matrix wise multiplication"
      ],
      "metadata": {
        "id": "4781kAIzVBsp"
      }
    },
    {
      "cell_type": "code",
      "source": [
        "# Element wise  multiplication\n",
        "print (f\"Equals:{tensor*tensor}\")\n",
        "# 10*10"
      ],
      "metadata": {
        "id": "f6s8THsXU25m",
        "colab": {
          "base_uri": "https://localhost:8080/"
        },
        "outputId": "3e7ecce9-4146-4c67-d9cd-6aeadcbd2519"
      },
      "execution_count": 40,
      "outputs": [
        {
          "output_type": "stream",
          "name": "stdout",
          "text": [
            "Equals:tensor([100, 400, 900])\n"
          ]
        }
      ]
    },
    {
      "cell_type": "code",
      "source": [
        "# matrix multiplication\n",
        "torch.matmul(tensor,tensor)"
      ],
      "metadata": {
        "colab": {
          "base_uri": "https://localhost:8080/"
        },
        "id": "a6KEr6k-TCBz",
        "outputId": "516c16e3-aa69-47f4-ab8f-5d0cb12711de"
      },
      "execution_count": 41,
      "outputs": [
        {
          "output_type": "execute_result",
          "data": {
            "text/plain": [
              "tensor(1400)"
            ]
          },
          "metadata": {},
          "execution_count": 41
        }
      ]
    },
    {
      "cell_type": "code",
      "source": [
        "# manually\n",
        "%%time\n",
        "value = 0\n",
        "for i in range(len(tensor)):\n",
        "  value += tensor[i] * tensor[i]\n",
        "print(value)\n"
      ],
      "metadata": {
        "colab": {
          "base_uri": "https://localhost:8080/"
        },
        "id": "nv9T6lMHTpKO",
        "outputId": "d5e5fc36-5804-4f1d-9978-eccfc1c13221"
      },
      "execution_count": 45,
      "outputs": [
        {
          "output_type": "stream",
          "name": "stdout",
          "text": [
            "tensor(1400)\n",
            "CPU times: user 3.12 ms, sys: 10 µs, total: 3.13 ms\n",
            "Wall time: 5.44 ms\n"
          ]
        }
      ]
    },
    {
      "cell_type": "code",
      "source": [
        "%%time\n",
        "torch.matmul(tensor,tensor)"
      ],
      "metadata": {
        "id": "fnxotwSmUO5L",
        "colab": {
          "base_uri": "https://localhost:8080/"
        },
        "outputId": "da17b1ae-1024-4ccf-a310-529fb2602673"
      },
      "execution_count": 46,
      "outputs": [
        {
          "output_type": "stream",
          "name": "stdout",
          "text": [
            "CPU times: user 119 µs, sys: 0 ns, total: 119 µs\n",
            "Wall time: 125 µs\n"
          ]
        },
        {
          "output_type": "execute_result",
          "data": {
            "text/plain": [
              "tensor(1400)"
            ]
          },
          "metadata": {},
          "execution_count": 46
        }
      ]
    },
    {
      "cell_type": "code",
      "source": [
        "torch.matmul(torch.rand(10,10), torch.rand(10,10))"
      ],
      "metadata": {
        "colab": {
          "base_uri": "https://localhost:8080/"
        },
        "id": "JQCcO2yoV1ZA",
        "outputId": "03554d9d-89f2-4386-c1fb-c806bf765846"
      },
      "execution_count": 47,
      "outputs": [
        {
          "output_type": "execute_result",
          "data": {
            "text/plain": [
              "tensor([[2.1925, 1.9202, 2.8830, 3.0875, 2.3653, 1.1268, 2.5222, 3.0885, 3.2071,\n",
              "         2.6456],\n",
              "        [2.6160, 1.4425, 2.7560, 2.5092, 1.9255, 0.7401, 2.1372, 2.4911, 2.3029,\n",
              "         2.3738],\n",
              "        [2.1845, 1.9266, 2.8930, 2.5529, 2.4369, 1.0314, 2.3707, 2.5885, 2.7764,\n",
              "         2.7352],\n",
              "        [2.3330, 2.1849, 3.4178, 3.2169, 2.6939, 1.1186, 2.6984, 3.1741, 3.6990,\n",
              "         3.0970],\n",
              "        [1.5308, 1.0026, 1.4678, 1.2920, 2.1208, 0.5961, 2.1236, 2.3718, 2.5412,\n",
              "         1.7012],\n",
              "        [3.3518, 2.4372, 3.4945, 4.0276, 3.1466, 1.4814, 3.9303, 4.5983, 4.5722,\n",
              "         3.7206],\n",
              "        [1.9937, 1.9693, 3.0011, 2.6119, 2.5963, 1.0858, 2.6695, 2.9662, 3.4209,\n",
              "         2.4157],\n",
              "        [1.7355, 1.9283, 2.1104, 2.3197, 2.3365, 0.9805, 2.4412, 2.7474, 3.1383,\n",
              "         2.7496],\n",
              "        [2.7237, 2.4414, 2.8138, 2.8938, 2.7348, 1.2263, 3.4165, 3.6860, 4.2333,\n",
              "         3.0763],\n",
              "        [2.8270, 2.1442, 2.9416, 3.2386, 2.0388, 0.9994, 2.6738, 3.2508, 3.0569,\n",
              "         2.3855]])"
            ]
          },
          "metadata": {},
          "execution_count": 47
        }
      ]
    },
    {
      "cell_type": "code",
      "source": [
        "# Shape of tensor\n",
        "tensor_a=torch.tensor([[1,2],[3,4],[5,6]])\n",
        "tensor_b=torch.tensor([[7,10],[8,11],[9,12]])"
      ],
      "metadata": {
        "id": "laHAiNeyXFeN"
      },
      "execution_count": 49,
      "outputs": []
    },
    {
      "cell_type": "code",
      "source": [
        "# torch.matmul(tensor_a,tensor_b)  error will occur due to shape problem\n",
        "# we can perform transpose to get solution\n",
        "tensor_b=tensor_b.T"
      ],
      "metadata": {
        "id": "c8oyVYwvXrx_"
      },
      "execution_count": 54,
      "outputs": []
    },
    {
      "cell_type": "code",
      "source": [
        "torch.matmul(tensor_a,tensor_b)\n"
      ],
      "metadata": {
        "colab": {
          "base_uri": "https://localhost:8080/"
        },
        "id": "cW0IIF6RX5Ys",
        "outputId": "886811fd-f4ca-4b23-8d38-2e0e99045208"
      },
      "execution_count": 55,
      "outputs": [
        {
          "output_type": "execute_result",
          "data": {
            "text/plain": [
              "tensor([[ 27,  30,  33],\n",
              "        [ 61,  68,  75],\n",
              "        [ 95, 106, 117]])"
            ]
          },
          "metadata": {},
          "execution_count": 55
        }
      ]
    },
    {
      "cell_type": "markdown",
      "source": [
        "### Find the min,max,mean,sum"
      ],
      "metadata": {
        "id": "b-uVPcR7ZRSO"
      }
    },
    {
      "cell_type": "code",
      "source": [
        "# Create tensor\n",
        "x = torch.arange(0,100,10)\n",
        "x"
      ],
      "metadata": {
        "colab": {
          "base_uri": "https://localhost:8080/"
        },
        "id": "tUsVp4BuYadf",
        "outputId": "01256a05-fbf1-467c-bcfd-0fd1bcb24fdd"
      },
      "execution_count": 57,
      "outputs": [
        {
          "output_type": "execute_result",
          "data": {
            "text/plain": [
              "tensor([ 0, 10, 20, 30, 40, 50, 60, 70, 80, 90])"
            ]
          },
          "metadata": {},
          "execution_count": 57
        }
      ]
    },
    {
      "cell_type": "code",
      "source": [
        "# For finding max\n",
        "torch.max(x), x.max()"
      ],
      "metadata": {
        "colab": {
          "base_uri": "https://localhost:8080/"
        },
        "id": "9Lmpnqf8ZhIH",
        "outputId": "3fb2ece4-9295-4c51-e7bf-d4dbabf8eaf5"
      },
      "execution_count": 58,
      "outputs": [
        {
          "output_type": "execute_result",
          "data": {
            "text/plain": [
              "(tensor(90), tensor(90))"
            ]
          },
          "metadata": {},
          "execution_count": 58
        }
      ]
    },
    {
      "cell_type": "code",
      "source": [
        "print(x.dtype)\n",
        "x=x.float()\n",
        "\n",
        "torch.mean(x)"
      ],
      "metadata": {
        "colab": {
          "base_uri": "https://localhost:8080/"
        },
        "id": "jNYSpeoaZwsj",
        "outputId": "f302ed1f-79e8-4f3a-83cc-04812bbd8e4e"
      },
      "execution_count": 62,
      "outputs": [
        {
          "output_type": "stream",
          "name": "stdout",
          "text": [
            "torch.int64\n"
          ]
        },
        {
          "output_type": "execute_result",
          "data": {
            "text/plain": [
              "tensor(45.)"
            ]
          },
          "metadata": {},
          "execution_count": 62
        }
      ]
    },
    {
      "cell_type": "code",
      "source": [
        "x.dtype"
      ],
      "metadata": {
        "colab": {
          "base_uri": "https://localhost:8080/"
        },
        "id": "N53lQA4fZ0oV",
        "outputId": "ba370652-cf97-4ce0-ba59-154ded454fe6"
      },
      "execution_count": 60,
      "outputs": [
        {
          "output_type": "execute_result",
          "data": {
            "text/plain": [
              "torch.int64"
            ]
          },
          "metadata": {},
          "execution_count": 60
        }
      ]
    },
    {
      "cell_type": "code",
      "source": [
        "# Find the sum\n",
        "torch.sum(x)"
      ],
      "metadata": {
        "colab": {
          "base_uri": "https://localhost:8080/"
        },
        "id": "iCBkhbR-Z_a_",
        "outputId": "44d3f879-59cf-49f0-8e19-ae88337eb155"
      },
      "execution_count": 63,
      "outputs": [
        {
          "output_type": "execute_result",
          "data": {
            "text/plain": [
              "tensor(450.)"
            ]
          },
          "metadata": {},
          "execution_count": 63
        }
      ]
    },
    {
      "cell_type": "markdown",
      "source": [
        "### Find the positional min and max"
      ],
      "metadata": {
        "id": "BV2g9ecBafSp"
      }
    },
    {
      "cell_type": "code",
      "source": [
        "x.argmin()\n"
      ],
      "metadata": {
        "colab": {
          "base_uri": "https://localhost:8080/"
        },
        "id": "4D62U3P1abpd",
        "outputId": "f50b1cbb-a61d-4007-9cee-05216f5d4262"
      },
      "execution_count": 65,
      "outputs": [
        {
          "output_type": "execute_result",
          "data": {
            "text/plain": [
              "tensor(0)"
            ]
          },
          "metadata": {},
          "execution_count": 65
        }
      ]
    },
    {
      "cell_type": "code",
      "source": [
        "x.argmax()"
      ],
      "metadata": {
        "colab": {
          "base_uri": "https://localhost:8080/"
        },
        "id": "9ZCbmx99ao4P",
        "outputId": "597d3072-f089-4bbd-85b2-3b3d7d61f0c3"
      },
      "execution_count": 67,
      "outputs": [
        {
          "output_type": "execute_result",
          "data": {
            "text/plain": [
              "tensor(9)"
            ]
          },
          "metadata": {},
          "execution_count": 67
        }
      ]
    },
    {
      "cell_type": "markdown",
      "source": [
        "## Reshaping, stacking, squeezing and unsqueezung tensors\n",
        "\n",
        "\n",
        "*   Reshaping-reshape an input tensor to a define shape\n",
        "*   View-Return a view of an imput tensor of cetain shape but keep the same memory as the original tensor\n",
        "*   Stacking -combine multiple tensor on the top of each other (vstack) or side by side (hstack)\n",
        "\n"
      ],
      "metadata": {
        "id": "Anb3ObI4bND-"
      }
    },
    {
      "cell_type": "code",
      "source": [
        "## Reshaping"
      ],
      "metadata": {
        "id": "NfbRyFMtatw0"
      },
      "execution_count": null,
      "outputs": []
    }
  ],
  "metadata": {
    "colab": {
      "provenance": [],
      "gpuType": "T4",
      "authorship_tag": "ABX9TyPtVPvO8Ezd2GquQksq4F2v",
      "include_colab_link": true
    },
    "kernelspec": {
      "display_name": "Python 3",
      "name": "python3"
    },
    "language_info": {
      "name": "python"
    }
  },
  "nbformat": 4,
  "nbformat_minor": 0
}