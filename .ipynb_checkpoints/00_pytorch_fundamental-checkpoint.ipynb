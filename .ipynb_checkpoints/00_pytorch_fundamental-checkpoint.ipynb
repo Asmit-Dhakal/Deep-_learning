{
  "nbformat": 4,
  "nbformat_minor": 0,
  "metadata": {
    "colab": {
      "provenance": []
    },
    "kernelspec": {
      "name": "python3",
      "display_name": "Python 3"
    },
    "language_info": {
      "name": "python"
    }
  },
  "cells": [
    {
      "cell_type": "markdown",
      "source": [],
      "metadata": {
        "id": "Rb-J8iKUNaz4"
      }
    },
    {
      "cell_type": "code",
      "execution_count": null,
      "metadata": {
        "colab": {
          "base_uri": "https://localhost:8080/"
        },
        "id": "m8PXVppXItq3",
        "outputId": "fbd6f07c-a478-4ab4-8075-1ae32c438580"
      },
      "outputs": [
        {
          "output_type": "stream",
          "name": "stdout",
          "text": [
            "2.2.1+cu121\n"
          ]
        }
      ],
      "source": [
        "import torch\n",
        "import pandas as pd\n",
        "import numpy as np\n",
        "import matplotlib.pyplot as plt\n",
        "print(torch.__version__)\n"
      ]
    },
    {
      "cell_type": "markdown",
      "source": [
        "# **Introduction to Tensors**\n",
        "Creating tensors"
      ],
      "metadata": {
        "id": "t-fYPyKmN9G6"
      }
    },
    {
      "cell_type": "code",
      "source": [
        "# scalar\n",
        "scalar = torch.tensor(7)\n",
        "scalar\n"
      ],
      "metadata": {
        "colab": {
          "base_uri": "https://localhost:8080/"
        },
        "id": "4Fw1FGKVNtXD",
        "outputId": "0899fbf3-f6ff-45fb-95ec-caea6c80775b"
      },
      "execution_count": null,
      "outputs": [
        {
          "output_type": "execute_result",
          "data": {
            "text/plain": [
              "tensor(7)"
            ]
          },
          "metadata": {},
          "execution_count": 2
        }
      ]
    },
    {
      "cell_type": "code",
      "source": [
        "# Get tensor back as python int\n",
        "scalar.ndim\n"
      ],
      "metadata": {
        "colab": {
          "base_uri": "https://localhost:8080/"
        },
        "id": "vhxbni6iOXx5",
        "outputId": "9b75bc29-65f3-494b-8cd7-436e83742d24"
      },
      "execution_count": null,
      "outputs": [
        {
          "output_type": "execute_result",
          "data": {
            "text/plain": [
              "0"
            ]
          },
          "metadata": {},
          "execution_count": 3
        }
      ]
    },
    {
      "cell_type": "code",
      "source": [
        "# Vector\n",
        "vector=torch.tensor([7,7])"
      ],
      "metadata": {
        "id": "CenJssISQPoj"
      },
      "execution_count": null,
      "outputs": []
    },
    {
      "cell_type": "code",
      "source": [
        "vector"
      ],
      "metadata": {
        "colab": {
          "base_uri": "https://localhost:8080/"
        },
        "id": "08GtshjmROF4",
        "outputId": "5181af05-2e9a-4af8-9caf-e7ed9b154c89"
      },
      "execution_count": null,
      "outputs": [
        {
          "output_type": "execute_result",
          "data": {
            "text/plain": [
              "tensor([7, 7])"
            ]
          },
          "metadata": {},
          "execution_count": 5
        }
      ]
    },
    {
      "cell_type": "code",
      "source": [
        "vector.shape"
      ],
      "metadata": {
        "colab": {
          "base_uri": "https://localhost:8080/"
        },
        "id": "xWa93zq_RQWT",
        "outputId": "df7429f3-9b68-45ec-ead8-96d440ff88bd"
      },
      "execution_count": null,
      "outputs": [
        {
          "output_type": "execute_result",
          "data": {
            "text/plain": [
              "torch.Size([2])"
            ]
          },
          "metadata": {},
          "execution_count": 6
        }
      ]
    },
    {
      "cell_type": "code",
      "source": [
        " # matrix\n",
        "matrix=torch.tensor([[7,8],[9,10]])\n",
        "matrix"
      ],
      "metadata": {
        "colab": {
          "base_uri": "https://localhost:8080/"
        },
        "id": "PddtE5J8TD-H",
        "outputId": "d6822e7e-4dfb-497e-9590-0de8a2c7c65e"
      },
      "execution_count": null,
      "outputs": [
        {
          "output_type": "execute_result",
          "data": {
            "text/plain": [
              "tensor([[ 7,  8],\n",
              "        [ 9, 10]])"
            ]
          },
          "metadata": {},
          "execution_count": 7
        }
      ]
    },
    {
      "cell_type": "code",
      "source": [
        "matrix.ndim"
      ],
      "metadata": {
        "colab": {
          "base_uri": "https://localhost:8080/"
        },
        "id": "_WCDL8_QTmlf",
        "outputId": "e18cae10-031e-4135-8bf2-c9849b008329"
      },
      "execution_count": null,
      "outputs": [
        {
          "output_type": "execute_result",
          "data": {
            "text/plain": [
              "2"
            ]
          },
          "metadata": {},
          "execution_count": 8
        }
      ]
    },
    {
      "cell_type": "code",
      "source": [
        "matrix[1]\n",
        "matrix.shape"
      ],
      "metadata": {
        "colab": {
          "base_uri": "https://localhost:8080/"
        },
        "id": "EqKMhGZJU0ME",
        "outputId": "53e5a947-22bf-4cf3-d50a-ac0939710bdc"
      },
      "execution_count": null,
      "outputs": [
        {
          "output_type": "execute_result",
          "data": {
            "text/plain": [
              "torch.Size([2, 2])"
            ]
          },
          "metadata": {},
          "execution_count": 9
        }
      ]
    },
    {
      "cell_type": "code",
      "source": [
        "# Tensor\n",
        "tensor =torch.tensor([[[1,2,3],[4,5,6],[7,8,9]]])"
      ],
      "metadata": {
        "id": "lL0ebLrdVBt6"
      },
      "execution_count": null,
      "outputs": []
    },
    {
      "cell_type": "code",
      "source": [
        "tensor"
      ],
      "metadata": {
        "colab": {
          "base_uri": "https://localhost:8080/"
        },
        "id": "7h4aTUFeVdGx",
        "outputId": "4667f179-0559-4793-8ae4-3e9cf4aac297"
      },
      "execution_count": null,
      "outputs": [
        {
          "output_type": "execute_result",
          "data": {
            "text/plain": [
              "tensor([[[1, 2, 3],\n",
              "         [4, 5, 6],\n",
              "         [7, 8, 9]]])"
            ]
          },
          "metadata": {},
          "execution_count": 11
        }
      ]
    },
    {
      "cell_type": "code",
      "source": [
        "tensor.ndim\n",
        "tensor.shape\n"
      ],
      "metadata": {
        "colab": {
          "base_uri": "https://localhost:8080/"
        },
        "id": "6McB5bHBVdv5",
        "outputId": "b3861c15-45be-45ce-d585-8b5170d4dce0"
      },
      "execution_count": null,
      "outputs": [
        {
          "output_type": "execute_result",
          "data": {
            "text/plain": [
              "torch.Size([1, 3, 3])"
            ]
          },
          "metadata": {},
          "execution_count": 12
        }
      ]
    },
    {
      "cell_type": "code",
      "source": [
        "tensor[0]"
      ],
      "metadata": {
        "colab": {
          "base_uri": "https://localhost:8080/"
        },
        "id": "2Z43ASbTVpwi",
        "outputId": "1575d908-7b22-48b0-d369-512b7f7d166e"
      },
      "execution_count": null,
      "outputs": [
        {
          "output_type": "execute_result",
          "data": {
            "text/plain": [
              "tensor([[1, 2, 3],\n",
              "        [4, 5, 6],\n",
              "        [7, 8, 9]])"
            ]
          },
          "metadata": {},
          "execution_count": 13
        }
      ]
    },
    {
      "cell_type": "markdown",
      "source": [
        "### Random tensor\n",
        "`start with random numbers-> Looks at data -> updagte random numbers -> look at data -> update random numbers `"
      ],
      "metadata": {
        "id": "nMrjROdQtwvP"
      }
    },
    {
      "cell_type": "code",
      "source": [
        "### Random tensor of size and shape (3,4)\n",
        "\n",
        "random_tensor= torch.rand(1,3,4)\n"
      ],
      "metadata": {
        "id": "-_OmYB2oWJOB"
      },
      "execution_count": null,
      "outputs": []
    },
    {
      "cell_type": "code",
      "source": [
        "random_tensor"
      ],
      "metadata": {
        "colab": {
          "base_uri": "https://localhost:8080/"
        },
        "id": "07l0KFD2vyVC",
        "outputId": "ee9fd0ed-f3d3-460d-9ab4-a2ec269ed370"
      },
      "execution_count": null,
      "outputs": [
        {
          "output_type": "execute_result",
          "data": {
            "text/plain": [
              "tensor([[[0.4933, 0.0720, 0.3572, 0.0977],\n",
              "         [0.4723, 0.0454, 0.1951, 0.2020],\n",
              "         [0.2451, 0.8984, 0.1901, 0.5047]]])"
            ]
          },
          "metadata": {},
          "execution_count": 15
        }
      ]
    },
    {
      "cell_type": "code",
      "source": [
        "random_tensor.ndim"
      ],
      "metadata": {
        "colab": {
          "base_uri": "https://localhost:8080/"
        },
        "id": "03cbWTcGv0dF",
        "outputId": "3ebf9083-63c8-4637-b157-0d4c7b48aaab"
      },
      "execution_count": null,
      "outputs": [
        {
          "output_type": "execute_result",
          "data": {
            "text/plain": [
              "3"
            ]
          },
          "metadata": {},
          "execution_count": 16
        }
      ]
    },
    {
      "cell_type": "code",
      "source": [
        "# Create random tensor with similar shape to a image tensor\n",
        "random_image_size_tensor = torch.rand(size=(224,224,3)) # height, width, color channels(R G B)"
      ],
      "metadata": {
        "id": "1qt7xIiOwDor"
      },
      "execution_count": null,
      "outputs": []
    },
    {
      "cell_type": "code",
      "source": [
        "random_image_size_tensor"
      ],
      "metadata": {
        "colab": {
          "base_uri": "https://localhost:8080/"
        },
        "id": "c4EKZt1Gw7ND",
        "outputId": "88064651-05bb-43c8-cad4-d59208d83823"
      },
      "execution_count": null,
      "outputs": [
        {
          "output_type": "execute_result",
          "data": {
            "text/plain": [
              "tensor([[[0.5087, 0.3952, 0.2889],\n",
              "         [0.6300, 0.0436, 0.3991],\n",
              "         [0.2044, 0.8298, 0.6805],\n",
              "         ...,\n",
              "         [0.9026, 0.0849, 0.8618],\n",
              "         [0.0711, 0.9097, 0.8651],\n",
              "         [0.3232, 0.9248, 0.6113]],\n",
              "\n",
              "        [[0.8125, 0.6702, 0.9201],\n",
              "         [0.2518, 0.5162, 0.7286],\n",
              "         [0.2814, 0.9077, 0.6469],\n",
              "         ...,\n",
              "         [0.6926, 0.4380, 0.0091],\n",
              "         [0.4889, 0.1071, 0.2627],\n",
              "         [0.2691, 0.3193, 0.1921]],\n",
              "\n",
              "        [[0.0256, 0.9345, 0.1790],\n",
              "         [0.3631, 0.8654, 0.9257],\n",
              "         [0.2682, 0.9268, 0.3062],\n",
              "         ...,\n",
              "         [0.9203, 0.0982, 0.4609],\n",
              "         [0.5008, 0.5498, 0.1709],\n",
              "         [0.1642, 0.4233, 0.8884]],\n",
              "\n",
              "        ...,\n",
              "\n",
              "        [[0.2845, 0.4761, 0.1890],\n",
              "         [0.4664, 0.0780, 0.4006],\n",
              "         [0.8170, 0.2773, 0.2267],\n",
              "         ...,\n",
              "         [0.2022, 0.9706, 0.6884],\n",
              "         [0.2844, 0.0982, 0.6619],\n",
              "         [0.1407, 0.2086, 0.7286]],\n",
              "\n",
              "        [[0.3769, 0.7184, 0.1690],\n",
              "         [0.8100, 0.1675, 0.0441],\n",
              "         [0.4211, 0.5731, 0.4905],\n",
              "         ...,\n",
              "         [0.1790, 0.1455, 0.2585],\n",
              "         [0.1197, 0.0145, 0.4373],\n",
              "         [0.0402, 0.1127, 0.7340]],\n",
              "\n",
              "        [[0.4715, 0.0761, 0.2782],\n",
              "         [0.3916, 0.8314, 0.6869],\n",
              "         [0.3753, 0.7729, 0.4018],\n",
              "         ...,\n",
              "         [0.2818, 0.0299, 0.2229],\n",
              "         [0.0935, 0.7147, 0.2580],\n",
              "         [0.8215, 0.7415, 0.1323]]])"
            ]
          },
          "metadata": {},
          "execution_count": 18
        }
      ]
    },
    {
      "cell_type": "markdown",
      "source": [
        "## Zeros and Ones"
      ],
      "metadata": {
        "id": "0GDQex-9xzch"
      }
    },
    {
      "cell_type": "code",
      "source": [
        "# Create the tensors of o\n",
        "zeros = torch.zeros(size=(3,4))"
      ],
      "metadata": {
        "id": "av0fOERPxEUH"
      },
      "execution_count": null,
      "outputs": []
    },
    {
      "cell_type": "code",
      "source": [
        "zeros"
      ],
      "metadata": {
        "colab": {
          "base_uri": "https://localhost:8080/"
        },
        "id": "49QkINU3yFB0",
        "outputId": "c26bae57-d2f8-4d54-9449-df1249323473"
      },
      "execution_count": null,
      "outputs": [
        {
          "output_type": "execute_result",
          "data": {
            "text/plain": [
              "tensor([[0., 0., 0., 0.],\n",
              "        [0., 0., 0., 0.],\n",
              "        [0., 0., 0., 0.]])"
            ]
          },
          "metadata": {},
          "execution_count": 20
        }
      ]
    },
    {
      "cell_type": "code",
      "source": [
        "# Create the tensor of ones\n",
        "ones = torch.ones(size=(3,4))"
      ],
      "metadata": {
        "id": "5uo2DOQTyGV0"
      },
      "execution_count": null,
      "outputs": []
    },
    {
      "cell_type": "code",
      "source": [
        "ones"
      ],
      "metadata": {
        "colab": {
          "base_uri": "https://localhost:8080/"
        },
        "id": "yZBGlHmzyebi",
        "outputId": "83293c51-cb16-4abe-a50b-dc711e03892b"
      },
      "execution_count": null,
      "outputs": [
        {
          "output_type": "execute_result",
          "data": {
            "text/plain": [
              "tensor([[1., 1., 1., 1.],\n",
              "        [1., 1., 1., 1.],\n",
              "        [1., 1., 1., 1.]])"
            ]
          },
          "metadata": {},
          "execution_count": 22
        }
      ]
    },
    {
      "cell_type": "code",
      "source": [
        "ones.dtype"
      ],
      "metadata": {
        "colab": {
          "base_uri": "https://localhost:8080/"
        },
        "id": "j2IWxj_byf45",
        "outputId": "109ffd17-6781-49dc-b68c-0dc89c6d06aa"
      },
      "execution_count": null,
      "outputs": [
        {
          "output_type": "execute_result",
          "data": {
            "text/plain": [
              "torch.float32"
            ]
          },
          "metadata": {},
          "execution_count": 23
        }
      ]
    },
    {
      "cell_type": "markdown",
      "source": [
        "# Use torch.range()"
      ],
      "metadata": {
        "id": "-lDl9dIrziI2"
      }
    },
    {
      "cell_type": "code",
      "source": [
        "one_to_ten=torch.arange(start=0 ,end= 10, step=2)\n",
        "one_to_ten"
      ],
      "metadata": {
        "colab": {
          "base_uri": "https://localhost:8080/"
        },
        "id": "X0bghMhezhda",
        "outputId": "bdd10a23-e730-4493-9135-1be124f39f04"
      },
      "execution_count": null,
      "outputs": [
        {
          "output_type": "execute_result",
          "data": {
            "text/plain": [
              "tensor([0, 2, 4, 6, 8])"
            ]
          },
          "metadata": {},
          "execution_count": 29
        }
      ]
    },
    {
      "cell_type": "code",
      "source": [
        "# Creating tensors like\n",
        "ten_zeros = torch.zeros_like(input=one_to_ten)\n",
        "ten_zeros"
      ],
      "metadata": {
        "colab": {
          "base_uri": "https://localhost:8080/"
        },
        "id": "atucT_hnylDG",
        "outputId": "7752338f-51f0-4a9e-ab1a-8f0fe9836227"
      },
      "execution_count": null,
      "outputs": [
        {
          "output_type": "execute_result",
          "data": {
            "text/plain": [
              "tensor([0, 0, 0, 0, 0])"
            ]
          },
          "metadata": {},
          "execution_count": 31
        }
      ]
    },
    {
      "cell_type": "code",
      "source": [],
      "metadata": {
        "id": "cAQwA3rk0hUX"
      },
      "execution_count": null,
      "outputs": []
    }
  ]
}